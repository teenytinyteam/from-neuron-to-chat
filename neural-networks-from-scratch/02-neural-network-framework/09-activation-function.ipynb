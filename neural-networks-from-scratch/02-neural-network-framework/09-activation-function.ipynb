{
 "cells": [
  {
   "metadata": {
    "collapsed": true
   },
   "cell_type": "markdown",
   "source": "# Activation Function",
   "id": "57b25567ef9cdbd9"
  },
  {
   "metadata": {
    "ExecuteTime": {
     "end_time": "2025-09-07T02:45:03.319441Z",
     "start_time": "2025-09-07T02:45:03.235023Z"
    }
   },
   "cell_type": "code",
   "source": [
    "from abc import abstractmethod, ABC\n",
    "import numpy as np"
   ],
   "id": "fa1a278548c2a9c",
   "outputs": [],
   "execution_count": 1
  },
  {
   "metadata": {
    "ExecuteTime": {
     "end_time": "2025-09-07T02:45:03.353104Z",
     "start_time": "2025-09-07T02:45:03.346707Z"
    }
   },
   "cell_type": "code",
   "source": [
    "class Tensor:\n",
    "\n",
    "    def __init__(self, data):\n",
    "        self.data = np.array(data)\n",
    "        self.grad = None\n",
    "        self.gradient_fn = lambda: None\n",
    "        self.parents = set()\n",
    "\n",
    "    def gradient(self):\n",
    "        if self.gradient_fn:\n",
    "            self.gradient_fn()\n",
    "\n",
    "        for p in self.parents:\n",
    "            p.gradient()\n",
    "\n",
    "    def size(self):\n",
    "        return self.data.shape[-1]"
   ],
   "id": "b342cf717c91bef8",
   "outputs": [],
   "execution_count": 2
  },
  {
   "metadata": {
    "ExecuteTime": {
     "end_time": "2025-09-07T02:45:03.399565Z",
     "start_time": "2025-09-07T02:45:03.394312Z"
    }
   },
   "cell_type": "code",
   "source": [
    "class DataLoader:\n",
    "\n",
    "    def __init__(self, batch_size):\n",
    "        self.batch_size = batch_size\n",
    "\n",
    "        self.features = [[28.1, 58.0],\n",
    "                         [22.5, 72.0],\n",
    "                         [31.4, 45.0],\n",
    "                         [19.8, 85.0],\n",
    "                         [27.6, 63]]\n",
    "        self.labels = [[165],\n",
    "                       [95],\n",
    "                       [210],\n",
    "                       [70],\n",
    "                       [155]]\n",
    "\n",
    "    def __len__(self):  # 3\n",
    "        return len(self.features)\n",
    "\n",
    "    def __getitem__(self, index):  # 4\n",
    "        return (Tensor(self.features[index: index + self.batch_size]),\n",
    "                Tensor(self.labels[index: index + self.batch_size]))"
   ],
   "id": "11322208a230a699",
   "outputs": [],
   "execution_count": 3
  },
  {
   "metadata": {
    "ExecuteTime": {
     "end_time": "2025-09-07T02:45:03.448059Z",
     "start_time": "2025-09-07T02:45:03.444799Z"
    }
   },
   "cell_type": "code",
   "source": [
    "class Layer(ABC):\n",
    "\n",
    "    def __call__(self, x: Tensor):\n",
    "        return self.forward(x)\n",
    "\n",
    "    @abstractmethod\n",
    "    def forward(self, x: Tensor):\n",
    "        pass\n",
    "\n",
    "    def parameters(self):\n",
    "        return []"
   ],
   "id": "8f36d40cd08ac607",
   "outputs": [],
   "execution_count": 4
  },
  {
   "metadata": {
    "ExecuteTime": {
     "end_time": "2025-09-07T02:45:03.520225Z",
     "start_time": "2025-09-07T02:45:03.496323Z"
    }
   },
   "cell_type": "code",
   "source": [
    "np.random.seed(99)\n",
    "\n",
    "class Linear(Layer):\n",
    "\n",
    "    def __init__(self, in_size, out_size):\n",
    "        self.in_size = in_size\n",
    "        self.out_size = out_size\n",
    "\n",
    "        self.weight = Tensor(np.random.rand(out_size, in_size) / in_size)\n",
    "        self.bias = Tensor(np.zeros(out_size))\n",
    "\n",
    "    def forward(self, x: Tensor):\n",
    "        p = Tensor(x.data @ self.weight.data.T + self.bias.data)\n",
    "\n",
    "        def gradient_fn():\n",
    "            self.weight.grad = p.grad.T @ x.data / len(x.data)\n",
    "            self.bias.grad = np.sum(p.grad, axis=0) / len(x.data)\n",
    "            x.grad = p.grad @ self.weight.data\n",
    "\n",
    "        p.gradient_fn = gradient_fn\n",
    "        p.parents = {self.weight, self.bias, x}\n",
    "        return p\n",
    "\n",
    "    def parameters(self):\n",
    "        return [self.weight, self.bias]"
   ],
   "id": "85f1e73c4db4a5b1",
   "outputs": [],
   "execution_count": 5
  },
  {
   "metadata": {
    "ExecuteTime": {
     "end_time": "2025-09-07T02:45:03.557451Z",
     "start_time": "2025-09-07T02:45:03.550907Z"
    }
   },
   "cell_type": "code",
   "source": [
    "class Sequential(Layer):\n",
    "\n",
    "    def __init__(self, layers):\n",
    "        self.layers = layers\n",
    "\n",
    "    def forward(self, x: Tensor):\n",
    "        for l in self.layers:\n",
    "            x = l(x)\n",
    "        return x\n",
    "\n",
    "    def parameters(self):\n",
    "        return [p for l in self.layers for p in l.parameters()]"
   ],
   "id": "bb100411777a7a1d",
   "outputs": [],
   "execution_count": 6
  },
  {
   "metadata": {
    "ExecuteTime": {
     "end_time": "2025-09-07T02:45:03.610954Z",
     "start_time": "2025-09-07T02:45:03.604270Z"
    }
   },
   "cell_type": "code",
   "source": [
    "class ReLU(Layer):\n",
    "\n",
    "    def forward(self, x: Tensor):\n",
    "        p = Tensor(np.maximum(0, x.data))\n",
    "\n",
    "        def gradient_fn():\n",
    "            x.grad = (p.data > 0) * p.grad\n",
    "\n",
    "        p.gradient_fn = gradient_fn\n",
    "        p.parents = {x}\n",
    "        return p"
   ],
   "id": "764730b278b6f026",
   "outputs": [],
   "execution_count": 7
  },
  {
   "metadata": {
    "ExecuteTime": {
     "end_time": "2025-09-07T02:45:03.669638Z",
     "start_time": "2025-09-07T02:45:03.660917Z"
    }
   },
   "cell_type": "code",
   "source": [
    "class MSELoss:\n",
    "\n",
    "    def __call__(self, p: Tensor, y: Tensor):\n",
    "        mse = Tensor(((p.data - y.data) ** 2).mean())\n",
    "\n",
    "        def gradient_fn():\n",
    "            p.grad = (p.data - y.data) * 2\n",
    "\n",
    "        mse.gradient_fn = gradient_fn\n",
    "        mse.parents = {p}\n",
    "        return mse"
   ],
   "id": "8436c1e00f814ef3",
   "outputs": [],
   "execution_count": 8
  },
  {
   "metadata": {
    "ExecuteTime": {
     "end_time": "2025-09-07T02:45:03.725652Z",
     "start_time": "2025-09-07T02:45:03.718650Z"
    }
   },
   "cell_type": "code",
   "source": [
    "class SGD:\n",
    "\n",
    "    def __init__(self, parameters, lr):\n",
    "        self.parameters = parameters\n",
    "        self.lr = lr\n",
    "\n",
    "    def backward(self):\n",
    "        for p in self.parameters:\n",
    "            p.data -= p.grad * self.lr"
   ],
   "id": "437112f3d7cdb34f",
   "outputs": [],
   "execution_count": 9
  },
  {
   "metadata": {
    "ExecuteTime": {
     "end_time": "2025-09-07T02:45:03.779148Z",
     "start_time": "2025-09-07T02:45:03.773918Z"
    }
   },
   "cell_type": "code",
   "source": [
    "LEARNING_RATE = 0.00001\n",
    "BATCHES = 2\n",
    "EPOCHS = 100"
   ],
   "id": "5e8398cce58b0939",
   "outputs": [],
   "execution_count": 10
  },
  {
   "metadata": {
    "ExecuteTime": {
     "end_time": "2025-09-07T02:45:03.914149Z",
     "start_time": "2025-09-07T02:45:03.833207Z"
    }
   },
   "cell_type": "code",
   "source": [
    "dataset = DataLoader(BATCHES)\n",
    "\n",
    "feature, label = dataset[0]\n",
    "model = Sequential([Linear(feature.size(), 4),\n",
    "                    ReLU(),\n",
    "                    Linear(4, label.size())])\n",
    "loss = MSELoss()\n",
    "sgd = SGD(model.parameters(), LEARNING_RATE)\n",
    "\n",
    "for epoch in range(EPOCHS):\n",
    "    for i in range(0, len(dataset), dataset.batch_size):\n",
    "        feature, label = dataset[i]\n",
    "\n",
    "        prediction = model(feature)\n",
    "        error = loss(prediction, label)\n",
    "\n",
    "        error.gradient()\n",
    "        sgd.backward()\n",
    "\n",
    "print(f'prediction: {prediction.data}')\n",
    "print(f'error: {error.data}')\n",
    "print(f\"hidden weight: {model.layers[0].weight.data}\")\n",
    "print(f\"hidden bias: {model.layers[0].bias.data}\")\n",
    "print(f\"output weight: {model.layers[2].weight.data}\")\n",
    "print(f\"output bias: {model.layers[2].bias.data}\")"
   ],
   "id": "41ce881875791beb",
   "outputs": [
    {
     "name": "stdout",
     "output_type": "stream",
     "text": [
      "prediction: [[155.11296397]]\n",
      "error: 0.012760858933958853\n",
      "hidden weight: [[ 1.76484505 -0.18674966]\n",
      " [ 1.03703305 -0.28042707]\n",
      " [ 1.841336   -0.19713464]\n",
      " [ 0.86475635 -0.16323803]]\n",
      "hidden bias: [0.02756028 0.01128611 0.0274037  0.01401242]\n",
      "output weight: [[1.72645161 0.98532318 1.78153145 0.87436275]]\n",
      "output bias: [0.03441526]\n"
     ]
    }
   ],
   "execution_count": 11
  }
 ],
 "metadata": {
  "kernelspec": {
   "display_name": "Python 3",
   "language": "python",
   "name": "python3"
  },
  "language_info": {
   "codemirror_mode": {
    "name": "ipython",
    "version": 2
   },
   "file_extension": ".py",
   "mimetype": "text/x-python",
   "name": "python",
   "nbconvert_exporter": "python",
   "pygments_lexer": "ipython2",
   "version": "2.7.6"
  }
 },
 "nbformat": 4,
 "nbformat_minor": 5
}
