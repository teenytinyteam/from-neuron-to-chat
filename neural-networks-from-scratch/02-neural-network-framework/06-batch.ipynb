{
 "cells": [
  {
   "metadata": {
    "collapsed": true
   },
   "cell_type": "markdown",
   "source": "# Batch",
   "id": "4fae34b0ef175212"
  },
  {
   "metadata": {
    "ExecuteTime": {
     "end_time": "2025-09-07T02:43:02.505612Z",
     "start_time": "2025-09-07T02:43:02.369160Z"
    }
   },
   "cell_type": "code",
   "source": "import numpy as np",
   "id": "bc24f64ea961eaf4",
   "outputs": [],
   "execution_count": 1
  },
  {
   "metadata": {
    "ExecuteTime": {
     "end_time": "2025-09-07T02:43:02.523161Z",
     "start_time": "2025-09-07T02:43:02.517266Z"
    }
   },
   "cell_type": "code",
   "source": [
    "class Tensor:\n",
    "\n",
    "    def __init__(self, data):\n",
    "        self.data = np.array(data)\n",
    "\n",
    "        self.grad = None\n",
    "        self.gradient_fn = lambda: None\n",
    "        self.parents = set()\n",
    "\n",
    "    def gradient(self):\n",
    "        if self.gradient_fn:\n",
    "            self.gradient_fn()\n",
    "\n",
    "        for p in self.parents:\n",
    "            p.gradient()\n",
    "\n",
    "    def size(self):\n",
    "        return self.data.shape[-1]"
   ],
   "id": "8e664f7cf392e259",
   "outputs": [],
   "execution_count": 2
  },
  {
   "metadata": {
    "ExecuteTime": {
     "end_time": "2025-09-07T02:43:02.569237Z",
     "start_time": "2025-09-07T02:43:02.564151Z"
    }
   },
   "cell_type": "code",
   "source": [
    "class DataLoader:\n",
    "\n",
    "    def __init__(self, batch_size):\n",
    "        self.batch_size = batch_size\n",
    "\n",
    "        self.features = [[28.1, 58.0],\n",
    "                         [22.5, 72.0],\n",
    "                         [31.4, 45.0],\n",
    "                         [19.8, 85.0],\n",
    "                         [27.6, 63]]\n",
    "        self.labels = [[165],\n",
    "                       [95],\n",
    "                       [210],\n",
    "                       [70],\n",
    "                       [155]]\n",
    "\n",
    "    def __len__(self):  # 3\n",
    "        return len(self.features)\n",
    "\n",
    "    def __getitem__(self, index):  # 4\n",
    "        return (Tensor(self.features[index: index + self.batch_size]),\n",
    "                Tensor(self.labels[index: index + self.batch_size]))"
   ],
   "id": "5d7f685708890a81",
   "outputs": [],
   "execution_count": 3
  },
  {
   "metadata": {
    "ExecuteTime": {
     "end_time": "2025-09-07T02:43:02.621272Z",
     "start_time": "2025-09-07T02:43:02.614516Z"
    }
   },
   "cell_type": "code",
   "source": [
    "class Linear:\n",
    "\n",
    "    def __init__(self, in_size, out_size):\n",
    "        self.in_size = in_size\n",
    "        self.out_size = out_size\n",
    "\n",
    "        self.weight = Tensor(np.ones((out_size, in_size)) / in_size)\n",
    "        self.bias = Tensor(np.zeros(out_size))\n",
    "\n",
    "    def __call__(self, x: Tensor):\n",
    "        return self.forward(x)\n",
    "\n",
    "    def forward(self, x: Tensor):\n",
    "        p = Tensor(x.data @ self.weight.data.T + self.bias.data)\n",
    "\n",
    "        def gradient_fn():\n",
    "            self.weight.grad = p.grad.T @ x.data / len(x.data)\n",
    "            self.bias.grad = np.sum(p.grad, axis=0) / len(x.data)\n",
    "\n",
    "        p.gradient_fn = gradient_fn\n",
    "        p.parents = {self.weight, self.bias}\n",
    "        return p\n",
    "\n",
    "    def parameters(self):\n",
    "        return [self.weight, self.bias]"
   ],
   "id": "12fec32cd237503c",
   "outputs": [],
   "execution_count": 4
  },
  {
   "metadata": {
    "ExecuteTime": {
     "end_time": "2025-09-07T02:43:02.676479Z",
     "start_time": "2025-09-07T02:43:02.668386Z"
    }
   },
   "cell_type": "code",
   "source": [
    "class MSELoss:\n",
    "\n",
    "    def __call__(self, p: Tensor, y: Tensor):\n",
    "        mse = Tensor(((p.data - y.data) ** 2).mean())\n",
    "\n",
    "        def gradient_fn():\n",
    "            p.grad = (p.data - y.data) * 2\n",
    "\n",
    "        mse.gradient_fn = gradient_fn\n",
    "        mse.parents = {p}\n",
    "        return mse"
   ],
   "id": "59c60c0be51d07d3",
   "outputs": [],
   "execution_count": 5
  },
  {
   "metadata": {
    "ExecuteTime": {
     "end_time": "2025-09-07T02:43:02.728024Z",
     "start_time": "2025-09-07T02:43:02.722856Z"
    }
   },
   "cell_type": "code",
   "source": [
    "class SGD:\n",
    "\n",
    "    def __init__(self, parameters, lr):\n",
    "        self.parameters = parameters\n",
    "        self.lr = lr\n",
    "\n",
    "    def backward(self):\n",
    "        for p in self.parameters:\n",
    "            p.data -= p.grad * self.lr"
   ],
   "id": "d520a15a20beece8",
   "outputs": [],
   "execution_count": 6
  },
  {
   "metadata": {
    "ExecuteTime": {
     "end_time": "2025-09-07T02:43:02.779483Z",
     "start_time": "2025-09-07T02:43:02.775441Z"
    }
   },
   "cell_type": "code",
   "source": [
    "LEARNING_RATE = 0.00001\n",
    "BATCHES = 2"
   ],
   "id": "482a628d8ef27c0e",
   "outputs": [],
   "execution_count": 7
  },
  {
   "metadata": {
    "ExecuteTime": {
     "end_time": "2025-09-07T02:43:02.849262Z",
     "start_time": "2025-09-07T02:43:02.832017Z"
    }
   },
   "cell_type": "code",
   "source": [
    "dataset = DataLoader(BATCHES)\n",
    "\n",
    "feature, label = dataset[0]\n",
    "model = Linear(feature.size(), label.size())\n",
    "loss = MSELoss()\n",
    "sgd = SGD(model.parameters(), LEARNING_RATE)\n",
    "\n",
    "for i in range(0, len(dataset), dataset.batch_size):\n",
    "    feature, label = dataset[i]\n",
    "\n",
    "    prediction = model(feature)\n",
    "    error = loss(prediction, label)\n",
    "\n",
    "    error.gradient()\n",
    "    sgd.backward()\n",
    "\n",
    "print(f'prediction: {prediction.data}')\n",
    "print(f'error: {error.data}')\n",
    "print(f\"weight: {model.weight.data}\")\n",
    "print(f\"bias: {model.bias.data}\")"
   ],
   "id": "147d0a0547425504",
   "outputs": [
    {
     "name": "stdout",
     "output_type": "stream",
     "text": [
      "prediction: [[59.75839732]]\n",
      "error: 9070.962881280973\n",
      "weight: [[0.6511397  0.80626688]]\n",
      "bias: [0.00533611]\n"
     ]
    }
   ],
   "execution_count": 8
  }
 ],
 "metadata": {
  "kernelspec": {
   "display_name": "Python 3",
   "language": "python",
   "name": "python3"
  },
  "language_info": {
   "codemirror_mode": {
    "name": "ipython",
    "version": 2
   },
   "file_extension": ".py",
   "mimetype": "text/x-python",
   "name": "python",
   "nbconvert_exporter": "python",
   "pygments_lexer": "ipython2",
   "version": "2.7.6"
  }
 },
 "nbformat": 4,
 "nbformat_minor": 5
}
