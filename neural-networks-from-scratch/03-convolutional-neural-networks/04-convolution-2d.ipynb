{
 "cells": [
  {
   "metadata": {
    "collapsed": true
   },
   "cell_type": "markdown",
   "source": "# Convolution 2d",
   "id": "44fd73272904bcd3"
  },
  {
   "metadata": {
    "ExecuteTime": {
     "end_time": "2025-09-07T02:48:30.048970Z",
     "start_time": "2025-09-07T02:48:29.902286Z"
    }
   },
   "cell_type": "code",
   "source": [
    "from abc import abstractmethod, ABC\n",
    "import numpy as np"
   ],
   "id": "a171641ccb33f274",
   "outputs": [],
   "execution_count": 1
  },
  {
   "metadata": {
    "ExecuteTime": {
     "end_time": "2025-09-07T02:48:30.064509Z",
     "start_time": "2025-09-07T02:48:30.058844Z"
    }
   },
   "cell_type": "code",
   "source": [
    "class Tensor:\n",
    "\n",
    "    def __init__(self, data):\n",
    "        self.data = np.array(data)\n",
    "        self.grad = None\n",
    "        self.gradient_fn = lambda: None\n",
    "        self.parents = set()\n",
    "\n",
    "    def gradient(self):\n",
    "        if self.gradient_fn:\n",
    "            self.gradient_fn()\n",
    "\n",
    "        for p in self.parents:\n",
    "            p.gradient()\n",
    "\n",
    "    def shape(self):\n",
    "        return self.data.shape\n",
    "\n",
    "    def size(self):\n",
    "        return np.prod(self.data.shape[1:])"
   ],
   "id": "ba2c76607d68813d",
   "outputs": [],
   "execution_count": 2
  },
  {
   "metadata": {
    "ExecuteTime": {
     "end_time": "2025-09-07T02:48:30.127097Z",
     "start_time": "2025-09-07T02:48:30.113009Z"
    }
   },
   "cell_type": "code",
   "source": [
    "class DataLoader:\n",
    "\n",
    "    def __init__(self, batch_size):\n",
    "        self.batch_size = batch_size\n",
    "\n",
    "        with (np.load('mini-mnist.npz', allow_pickle=True) as f):\n",
    "            self.x_train, self.y_train = self.normalize(f['x_train'], f['y_train'])\n",
    "            self.x_test, self.y_test = self.normalize(f['x_test'], f['y_test'])\n",
    "\n",
    "        self.train()\n",
    "\n",
    "    @staticmethod\n",
    "    def normalize(x, y):\n",
    "        inputs = np.expand_dims(x / 255, axis=1)\n",
    "        targets = np.zeros((len(y), 10))\n",
    "        targets[range(len(y)), y] = 1\n",
    "        return inputs, targets\n",
    "\n",
    "    def train(self):\n",
    "        self.features = self.x_train\n",
    "        self.labels = self.y_train\n",
    "\n",
    "    def eval(self):\n",
    "        self.features = self.x_test\n",
    "        self.labels = self.y_test\n",
    "\n",
    "    def __len__(self):  # 3\n",
    "        return len(self.features)\n",
    "\n",
    "    def __getitem__(self, index):  # 4\n",
    "        return (Tensor(self.features[index: index + self.batch_size]),\n",
    "                Tensor(self.labels[index: index + self.batch_size]))"
   ],
   "id": "650e002d68b21ec5",
   "outputs": [],
   "execution_count": 3
  },
  {
   "metadata": {
    "ExecuteTime": {
     "end_time": "2025-09-07T02:48:30.183103Z",
     "start_time": "2025-09-07T02:48:30.175648Z"
    }
   },
   "cell_type": "code",
   "source": [
    "class Layer(ABC):\n",
    "\n",
    "    def __init__(self):\n",
    "        self.training = True\n",
    "\n",
    "    def __call__(self, x: Tensor):\n",
    "        return self.forward(x)\n",
    "\n",
    "    @abstractmethod\n",
    "    def forward(self, x: Tensor):\n",
    "        pass\n",
    "\n",
    "    def parameters(self):\n",
    "        return []\n",
    "\n",
    "    def train(self):\n",
    "        self.training = True\n",
    "\n",
    "    def eval(self):\n",
    "        self.training = False"
   ],
   "id": "aca29732ee8d7e9f",
   "outputs": [],
   "execution_count": 4
  },
  {
   "metadata": {
    "ExecuteTime": {
     "end_time": "2025-09-07T02:48:30.236497Z",
     "start_time": "2025-09-07T02:48:30.224949Z"
    }
   },
   "cell_type": "code",
   "source": [
    "np.random.seed(99)\n",
    "\n",
    "class Linear(Layer):\n",
    "\n",
    "    def __init__(self, in_size, out_size):\n",
    "        super().__init__()\n",
    "        self.in_size = in_size\n",
    "        self.out_size = out_size\n",
    "\n",
    "        self.weight = Tensor(np.random.rand(out_size, in_size) / in_size)\n",
    "        self.bias = Tensor(np.zeros(out_size))\n",
    "\n",
    "    def forward(self, x: Tensor):\n",
    "        p = Tensor(x.data @ self.weight.data.T + self.bias.data)\n",
    "\n",
    "        def gradient_fn():\n",
    "            self.weight.grad = p.grad.T @ x.data / len(x.data)\n",
    "            self.bias.grad = np.sum(p.grad, axis=0) / len(x.data)\n",
    "            x.grad = p.grad @ self.weight.data\n",
    "\n",
    "        p.gradient_fn = gradient_fn\n",
    "        p.parents = {self.weight, self.bias, x}\n",
    "        return p\n",
    "\n",
    "    def parameters(self):\n",
    "        return [self.weight, self.bias]"
   ],
   "id": "8f060d10afb67fb5",
   "outputs": [],
   "execution_count": 5
  },
  {
   "metadata": {
    "ExecuteTime": {
     "end_time": "2025-09-07T02:48:30.279881Z",
     "start_time": "2025-09-07T02:48:30.274155Z"
    }
   },
   "cell_type": "code",
   "source": [
    "class Sequential(Layer):\n",
    "\n",
    "    def __init__(self, layers):\n",
    "        super().__init__()\n",
    "        self.layers = layers\n",
    "\n",
    "    def forward(self, x: Tensor):\n",
    "        for l in self.layers:\n",
    "            x = l(x)\n",
    "        return x\n",
    "\n",
    "    def parameters(self):\n",
    "        return [p for l in self.layers for p in l.parameters()]\n",
    "\n",
    "    def train(self):\n",
    "        for l in self.layers:\n",
    "            l.train()\n",
    "\n",
    "    def eval(self):\n",
    "        for l in self.layers:\n",
    "            l.eval()"
   ],
   "id": "c8342e894c5d568b",
   "outputs": [],
   "execution_count": 6
  },
  {
   "metadata": {
    "ExecuteTime": {
     "end_time": "2025-09-07T02:48:30.330610Z",
     "start_time": "2025-09-07T02:48:30.324306Z"
    }
   },
   "cell_type": "code",
   "source": [
    "class Convolution2D(Layer):\n",
    "\n",
    "    def __init__(self, channel_size, kernel_size, out_size):\n",
    "        super().__init__()\n",
    "        self.channel_size = channel_size\n",
    "        self.kernel_size = kernel_size\n",
    "        self.out_size = out_size\n",
    "\n",
    "        in_size = kernel_size ** 2 * channel_size\n",
    "        self.weight = Tensor(np.random.rand(out_size, in_size) / in_size)\n",
    "        self.bias = Tensor(np.zeros(out_size))\n",
    "\n",
    "    def forward(self, x: Tensor):\n",
    "        batches, channels, rows, columns = x.data.shape\n",
    "        rows = rows - self.kernel_size + 1\n",
    "        columns = columns - self.kernel_size + 1\n",
    "\n",
    "        patches = []\n",
    "        for b in range(batches):\n",
    "            for c in range(channels):\n",
    "                for r in range(rows):\n",
    "                    for l in range(columns):\n",
    "                        patch = x.data[b,\n",
    "                        c:c + self.channel_size,\n",
    "                        r:r + self.kernel_size,\n",
    "                        l:l + self.kernel_size]\n",
    "                        patches.append(patch)\n",
    "        patches = np.array(patches).reshape(batches, channels, rows, columns, -1)\n",
    "\n",
    "        p = Tensor(patches @ self.weight.data.T + self.bias.data)\n",
    "\n",
    "        def gradient_fn():\n",
    "            self.weight.grad = p.grad.reshape(-1, self.out_size).T @ (patches.reshape(-1, self.kernel_size ** 2))\n",
    "            self.bias.grad = np.sum(p.grad.reshape(-1, self.out_size), axis=0)\n",
    "\n",
    "        p.gradient_fn = gradient_fn\n",
    "        p.parents = {self.weight, self.bias}\n",
    "        return p\n",
    "\n",
    "    def parameters(self):\n",
    "        return [self.weight, self.bias]"
   ],
   "id": "92fa9fdf0a9e6b52",
   "outputs": [],
   "execution_count": 7
  },
  {
   "metadata": {
    "ExecuteTime": {
     "end_time": "2025-09-07T02:48:30.380405Z",
     "start_time": "2025-09-07T02:48:30.375933Z"
    }
   },
   "cell_type": "code",
   "source": [
    "class Flatten(Layer):\n",
    "\n",
    "    def forward(self, x: Tensor):\n",
    "        p = Tensor(np.array(x.data.reshape(x.data.shape[0], -1)))\n",
    "\n",
    "        def gradient_fn():\n",
    "            x.grad = p.grad.reshape(x.data.shape)\n",
    "\n",
    "        p.gradient_fn = gradient_fn\n",
    "        p.parents = {x}\n",
    "        return p"
   ],
   "id": "386d7e6c45510858",
   "outputs": [],
   "execution_count": 8
  },
  {
   "metadata": {
    "ExecuteTime": {
     "end_time": "2025-09-07T02:48:30.434534Z",
     "start_time": "2025-09-07T02:48:30.427271Z"
    }
   },
   "cell_type": "code",
   "source": [
    "class Dropout(Layer):\n",
    "\n",
    "    def __init__(self, dropout_rate=0.3):\n",
    "        super().__init__()\n",
    "        self.dropout_rate = dropout_rate\n",
    "\n",
    "    def forward(self, x: Tensor):\n",
    "        if not self.training:\n",
    "            return x\n",
    "\n",
    "        mask = np.random.random(x.data.shape) > self.dropout_rate\n",
    "        p = Tensor(x.data * mask)\n",
    "\n",
    "        def gradient_fn():\n",
    "            x.grad = p.grad * mask\n",
    "\n",
    "        p.gradient_fn = gradient_fn\n",
    "        p.parents = {x}\n",
    "        return p"
   ],
   "id": "8ea66362dd54b329",
   "outputs": [],
   "execution_count": 9
  },
  {
   "metadata": {
    "ExecuteTime": {
     "end_time": "2025-09-07T02:48:30.486322Z",
     "start_time": "2025-09-07T02:48:30.480592Z"
    }
   },
   "cell_type": "code",
   "source": [
    "class ReLU(Layer):\n",
    "\n",
    "    def forward(self, x: Tensor):\n",
    "        p = Tensor(np.maximum(0, x.data))\n",
    "\n",
    "        def gradient_fn():\n",
    "            x.grad = (p.data > 0) * p.grad\n",
    "\n",
    "        p.gradient_fn = gradient_fn\n",
    "        p.parents = {x}\n",
    "        return p"
   ],
   "id": "1eb1ddb0eba2ee48",
   "outputs": [],
   "execution_count": 10
  },
  {
   "metadata": {
    "ExecuteTime": {
     "end_time": "2025-09-07T02:48:30.537261Z",
     "start_time": "2025-09-07T02:48:30.531938Z"
    }
   },
   "cell_type": "code",
   "source": [
    "class Tanh(Layer):\n",
    "\n",
    "    def forward(self, x: Tensor):\n",
    "        p = Tensor(np.tanh(x.data))\n",
    "\n",
    "        def gradient_fn():\n",
    "            x.grad = p.grad * (1 - p.data ** 2)\n",
    "\n",
    "        p.gradient_fn = gradient_fn\n",
    "        p.parents = {x}\n",
    "        return p"
   ],
   "id": "87abf48afe7148ef",
   "outputs": [],
   "execution_count": 11
  },
  {
   "metadata": {
    "ExecuteTime": {
     "end_time": "2025-09-07T02:48:30.594047Z",
     "start_time": "2025-09-07T02:48:30.584060Z"
    }
   },
   "cell_type": "code",
   "source": [
    "class Sigmoid(Layer):\n",
    "\n",
    "    def __init__(self, clip_range=(-100, 100)):\n",
    "        super().__init__()\n",
    "        self.clip_range = clip_range\n",
    "\n",
    "    def forward(self, x: Tensor):\n",
    "        z = np.clip(x.data, self.clip_range[0], self.clip_range[1])\n",
    "        p = Tensor(1 / (1 + np.exp(-z)))\n",
    "\n",
    "        def gradient_fn():\n",
    "            x.grad = p.grad * p.data * (1 - p.data)\n",
    "\n",
    "        p.gradient_fn = gradient_fn\n",
    "        p.parents = {x}\n",
    "        return p"
   ],
   "id": "cd76706dd5beec57",
   "outputs": [],
   "execution_count": 12
  },
  {
   "metadata": {
    "ExecuteTime": {
     "end_time": "2025-09-07T02:48:30.649556Z",
     "start_time": "2025-09-07T02:48:30.641613Z"
    }
   },
   "cell_type": "code",
   "source": [
    "class Softmax(Layer):\n",
    "\n",
    "    def __init__(self, axis=1):\n",
    "        super().__init__()\n",
    "        self.axis = axis\n",
    "\n",
    "    def forward(self, x: Tensor):\n",
    "        exp = np.exp(x.data - np.max(x.data, axis=self.axis, keepdims=True))\n",
    "        p = Tensor(exp / np.sum(exp, axis=self.axis, keepdims=True))\n",
    "\n",
    "        def gradient_fn():\n",
    "            x.grad = np.zeros_like(x.data)\n",
    "            for idx in range(x.data.shape[0]):\n",
    "                itm = p.data[idx].reshape(-1, 1)\n",
    "                x.grad[idx] = (np.diagflat(itm) - itm @ itm.T) @ p.grad[idx]\n",
    "\n",
    "        p.gradient_fn = gradient_fn\n",
    "        p.parents = {x}\n",
    "        return p"
   ],
   "id": "ff3ecd7bce32a58c",
   "outputs": [],
   "execution_count": 13
  },
  {
   "metadata": {
    "ExecuteTime": {
     "end_time": "2025-09-07T02:48:30.703451Z",
     "start_time": "2025-09-07T02:48:30.697656Z"
    }
   },
   "cell_type": "code",
   "source": [
    "class MSELoss:\n",
    "\n",
    "    def __call__(self, p: Tensor, y: Tensor):\n",
    "        mse = Tensor(((p.data - y.data) ** 2).mean())\n",
    "\n",
    "        def gradient_fn():\n",
    "            p.grad = (p.data - y.data) * 2\n",
    "\n",
    "        mse.gradient_fn = gradient_fn\n",
    "        mse.parents = {p}\n",
    "        return mse"
   ],
   "id": "59ffd59300940843",
   "outputs": [],
   "execution_count": 14
  },
  {
   "metadata": {
    "ExecuteTime": {
     "end_time": "2025-09-07T02:48:30.755825Z",
     "start_time": "2025-09-07T02:48:30.750422Z"
    }
   },
   "cell_type": "code",
   "source": [
    "class SGD:\n",
    "\n",
    "    def __init__(self, parameters, lr):\n",
    "        self.parameters = parameters\n",
    "        self.lr = lr\n",
    "\n",
    "    def backward(self):\n",
    "        for p in self.parameters:\n",
    "            p.data -= p.grad * self.lr"
   ],
   "id": "42c58d8d170912ec",
   "outputs": [],
   "execution_count": 15
  },
  {
   "metadata": {
    "ExecuteTime": {
     "end_time": "2025-09-07T02:48:30.809637Z",
     "start_time": "2025-09-07T02:48:30.804662Z"
    }
   },
   "cell_type": "code",
   "source": [
    "LEARNING_RATE = 0.01\n",
    "BATCHES = 2\n",
    "EPOCHS = 10\n",
    "KERNELS = 3"
   ],
   "id": "fed134c267d41119",
   "outputs": [],
   "execution_count": 16
  },
  {
   "metadata": {
    "ExecuteTime": {
     "end_time": "2025-09-07T02:50:17.529241Z",
     "start_time": "2025-09-07T02:48:30.861337Z"
    }
   },
   "cell_type": "code",
   "source": [
    "dataset = DataLoader(BATCHES)\n",
    "\n",
    "feature, label = dataset[0]\n",
    "_, channel_size, row_size, column_size = feature.shape()\n",
    "conv_row_size = row_size - KERNELS + 1\n",
    "conv_column_size = column_size - KERNELS + 1\n",
    "model = Sequential([Convolution2D(channel_size, KERNELS, 16),\n",
    "                    Flatten(),\n",
    "                    Dropout(),\n",
    "                    Linear(conv_row_size * conv_column_size * 16, 64),\n",
    "                    Tanh(),\n",
    "                    Linear(64, label.size()),\n",
    "                    Softmax()])\n",
    "loss = MSELoss()\n",
    "sgd = SGD(model.parameters(), LEARNING_RATE)\n",
    "\n",
    "for epoch in range(EPOCHS):\n",
    "    for i in range(0, len(dataset), dataset.batch_size):\n",
    "        feature, label = dataset[i]\n",
    "\n",
    "        prediction = model(feature)\n",
    "        error = loss(prediction, label)\n",
    "\n",
    "        error.gradient()\n",
    "        sgd.backward()\n",
    "\n",
    "print(f'prediction: {prediction.data}')\n",
    "print(f'error: {error.data}')"
   ],
   "id": "3d564d0723a4f15f",
   "outputs": [
    {
     "name": "stdout",
     "output_type": "stream",
     "text": [
      "prediction: [[7.33784479e-04 1.32581559e-04 3.31188453e-04 1.34327541e-02\n",
      "  8.73679102e-05 3.00553273e-04 7.23489567e-06 9.81433627e-01\n",
      "  3.69617616e-05 3.50394658e-03]\n",
      " [9.13917153e-01 1.30948542e-04 8.97877406e-04 6.68478008e-04\n",
      "  7.07636510e-03 7.06562780e-02 1.89466520e-03 3.95482891e-03\n",
      "  7.20767335e-04 8.26383546e-05]]\n",
      "error: 0.0006505929932005619\n"
     ]
    }
   ],
   "execution_count": 17
  },
  {
   "metadata": {
    "ExecuteTime": {
     "end_time": "2025-09-07T02:50:18.552572Z",
     "start_time": "2025-09-07T02:50:17.681464Z"
    }
   },
   "cell_type": "code",
   "source": [
    "dataset.eval()\n",
    "model.eval()\n",
    "\n",
    "prediction = model(Tensor(dataset.features))\n",
    "result = (prediction.data.argmax(axis=1) == dataset.labels.argmax(axis=1)).sum()\n",
    "print(f'Result: {result} of {len(dataset.features)}')"
   ],
   "id": "608eb6a39bcc72",
   "outputs": [
    {
     "name": "stdout",
     "output_type": "stream",
     "text": [
      "Result: 913 of 1000\n"
     ]
    }
   ],
   "execution_count": 18
  }
 ],
 "metadata": {
  "kernelspec": {
   "display_name": "Python 3",
   "language": "python",
   "name": "python3"
  },
  "language_info": {
   "codemirror_mode": {
    "name": "ipython",
    "version": 2
   },
   "file_extension": ".py",
   "mimetype": "text/x-python",
   "name": "python",
   "nbconvert_exporter": "python",
   "pygments_lexer": "ipython2",
   "version": "2.7.6"
  }
 },
 "nbformat": 4,
 "nbformat_minor": 5
}
