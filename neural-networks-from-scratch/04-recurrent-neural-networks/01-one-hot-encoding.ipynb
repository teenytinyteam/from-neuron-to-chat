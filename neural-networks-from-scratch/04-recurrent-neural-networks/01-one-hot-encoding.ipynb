{
 "cells": [
  {
   "metadata": {
    "collapsed": true
   },
   "cell_type": "markdown",
   "source": "# One Hot Encoding",
   "id": "5ee45c72cf06aee8"
  },
  {
   "metadata": {
    "ExecuteTime": {
     "end_time": "2025-09-07T00:58:42.773046Z",
     "start_time": "2025-09-07T00:58:42.660744Z"
    }
   },
   "cell_type": "code",
   "source": [
    "import csv\n",
    "import re\n",
    "import numpy as np"
   ],
   "id": "cf2664248bd4db03",
   "outputs": [],
   "execution_count": 1
  },
  {
   "metadata": {
    "ExecuteTime": {
     "end_time": "2025-09-07T00:58:42.789651Z",
     "start_time": "2025-09-07T00:58:42.779119Z"
    }
   },
   "cell_type": "code",
   "source": [
    "class DataLoader:\n",
    "\n",
    "    def __init__(self):\n",
    "        self.reviews = []\n",
    "        self.sentiments = []\n",
    "        with open('reviews.csv', 'r', encoding='utf-8') as f:\n",
    "            reader = csv.reader(f)\n",
    "            next(reader)\n",
    "            for _, row in enumerate(reader):\n",
    "                self.reviews.append(row[0])\n",
    "                self.sentiments.append(row[1])\n",
    "\n",
    "        split_reviews = []\n",
    "        for r in self.reviews:\n",
    "            split_reviews.append(self.clean_text(r.lower()).split())\n",
    "\n",
    "        self.vocabulary = set(w for r in split_reviews for w in r)\n",
    "        self.word2index = {w: idx for idx, w in enumerate(self.vocabulary)}\n",
    "        self.index2word = {idx: w for idx, w in enumerate(self.vocabulary)}\n",
    "        self.tokens = [[self.word2index[w] for w in r if w in self.word2index] for r in split_reviews]\n",
    "\n",
    "    @staticmethod\n",
    "    def clean_text(text):\n",
    "        txt = re.sub(r'<[^>]+>', '', text)\n",
    "        txt = re.sub(r'[^a-zA-Z0-9\\s]', '', txt)\n",
    "        return txt\n",
    "\n",
    "    def encode(self, text):\n",
    "        words = self.clean_text(text.lower()).split()\n",
    "        return [self.word2index[word] for word in words]\n",
    "\n",
    "    def decode(self, tokens):\n",
    "        return \" \".join([self.index2word[index] for index in tokens])"
   ],
   "id": "9262c542fe60f4e5",
   "outputs": [],
   "execution_count": 2
  },
  {
   "metadata": {
    "ExecuteTime": {
     "end_time": "2025-09-07T00:58:42.836558Z",
     "start_time": "2025-09-07T00:58:42.827869Z"
    }
   },
   "cell_type": "code",
   "source": [
    "dataset = DataLoader()\n",
    "\n",
    "print('Vocabulary count:', len(dataset.vocabulary))\n",
    "print('Review: ', dataset.reviews[0])\n",
    "print('Tokens: ', dataset.tokens[0])\n",
    "\n",
    "message = 'i recommend this film'\n",
    "print('Message: ', message)\n",
    "tokens = dataset.encode(message)\n",
    "print('Encode: ', tokens)\n",
    "print('Decode: ', dataset.decode(tokens))"
   ],
   "id": "d2e46d65deca5a02",
   "outputs": [
    {
     "name": "stdout",
     "output_type": "stream",
     "text": [
      "Vocabulary count: 86\n",
      "Review:  this movie was excellent. i enjoyed the plot and acting. the character was wonderful. recommend. screenplay actor actress by is a\n",
      "Tokens:  [70, 14, 66, 24, 44, 41, 38, 73, 58, 30, 38, 11, 66, 77, 45, 8, 49, 33, 76, 78, 42]\n",
      "Message:  i recommend this film\n",
      "Encode:  [44, 45, 70, 54]\n",
      "Decode:  i recommend this film\n"
     ]
    }
   ],
   "execution_count": 3
  }
 ],
 "metadata": {
  "kernelspec": {
   "display_name": "Python 3",
   "language": "python",
   "name": "python3"
  },
  "language_info": {
   "codemirror_mode": {
    "name": "ipython",
    "version": 2
   },
   "file_extension": ".py",
   "mimetype": "text/x-python",
   "name": "python",
   "nbconvert_exporter": "python",
   "pygments_lexer": "ipython2",
   "version": "2.7.6"
  }
 },
 "nbformat": 4,
 "nbformat_minor": 5
}
