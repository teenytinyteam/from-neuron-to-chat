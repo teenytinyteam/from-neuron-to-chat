{
 "cells": [
  {
   "metadata": {
    "collapsed": true
   },
   "cell_type": "markdown",
   "source": "# Iteration",
   "id": "30442cb343e7b0ad"
  },
  {
   "metadata": {
    "ExecuteTime": {
     "end_time": "2025-09-06T18:10:15.185143Z",
     "start_time": "2025-09-06T18:10:15.111839Z"
    }
   },
   "cell_type": "code",
   "source": "import numpy as np",
   "id": "76cd0eceb82c72ae",
   "outputs": [],
   "execution_count": 1
  },
  {
   "metadata": {
    "ExecuteTime": {
     "end_time": "2025-09-06T18:10:15.201327Z",
     "start_time": "2025-09-06T18:10:15.195029Z"
    }
   },
   "cell_type": "code",
   "source": [
    "class Tensor:\n",
    "\n",
    "    def __init__(self, data):\n",
    "        self.data = np.array(data)\n",
    "\n",
    "        self.grad = None\n",
    "        self.gradient_fn = lambda: None\n",
    "        self.parents = set()\n",
    "\n",
    "    def gradient(self):\n",
    "        if self.gradient_fn:\n",
    "            self.gradient_fn()\n",
    "\n",
    "        for p in self.parents:\n",
    "            p.gradient()\n",
    "\n",
    "    def size(self):\n",
    "        return len(self.data)"
   ],
   "id": "cc9c99803449193",
   "outputs": [],
   "execution_count": 2
  },
  {
   "metadata": {
    "ExecuteTime": {
     "end_time": "2025-09-06T18:10:15.249585Z",
     "start_time": "2025-09-06T18:10:15.244917Z"
    }
   },
   "cell_type": "code",
   "source": [
    "class DataLoader:\n",
    "\n",
    "    def __init__(self):\n",
    "        self.features = [[28.1, 58.0],\n",
    "                         [22.5, 72.0],\n",
    "                         [31.4, 45.0],\n",
    "                         [19.8, 85.0],\n",
    "                         [27.6, 63]]\n",
    "        self.labels = [[165],\n",
    "                       [95],\n",
    "                       [210],\n",
    "                       [70],\n",
    "                       [155]]\n",
    "\n",
    "    def __len__(self):  # 3\n",
    "        return len(self.features)\n",
    "\n",
    "    def __getitem__(self, index):  # 4\n",
    "        return (Tensor(self.features[index]),\n",
    "                Tensor(self.labels[index]))"
   ],
   "id": "c6f618de01a13195",
   "outputs": [],
   "execution_count": 3
  },
  {
   "metadata": {
    "ExecuteTime": {
     "end_time": "2025-09-06T18:10:15.301780Z",
     "start_time": "2025-09-06T18:10:15.296048Z"
    }
   },
   "cell_type": "code",
   "source": [
    "class Linear:\n",
    "\n",
    "    def __init__(self, in_size, out_size):\n",
    "        self.in_size = in_size\n",
    "        self.out_size = out_size\n",
    "\n",
    "        self.weight = Tensor(np.ones((out_size, in_size)) / in_size)\n",
    "        self.bias = Tensor(np.zeros(out_size))\n",
    "\n",
    "    def __call__(self, x: Tensor):\n",
    "        return self.forward(x)\n",
    "\n",
    "    def forward(self, x: Tensor):\n",
    "        p = Tensor(x.data @ self.weight.data.T + self.bias.data)\n",
    "\n",
    "        def gradient_fn():\n",
    "            self.weight.grad = p.grad * x.data\n",
    "            self.bias.grad = np.sum(p.grad, axis=0)\n",
    "\n",
    "        p.gradient_fn = gradient_fn\n",
    "        p.parents = {self.weight, self.bias}\n",
    "        return p\n",
    "\n",
    "    def parameters(self):\n",
    "        return [self.weight, self.bias]"
   ],
   "id": "2ab7ae6fc6671a14",
   "outputs": [],
   "execution_count": 4
  },
  {
   "metadata": {
    "ExecuteTime": {
     "end_time": "2025-09-06T18:10:15.362784Z",
     "start_time": "2025-09-06T18:10:15.353386Z"
    }
   },
   "cell_type": "code",
   "source": [
    "class MSELoss:\n",
    "\n",
    "    def __call__(self, p: Tensor, y: Tensor):\n",
    "        mse = Tensor(((p.data - y.data) ** 2).mean())\n",
    "\n",
    "        def gradient_fn():\n",
    "            p.grad = (p.data - y.data) * 2\n",
    "\n",
    "        mse.gradient_fn = gradient_fn\n",
    "        mse.parents = {p}\n",
    "        return mse"
   ],
   "id": "420e284daa9a7ebc",
   "outputs": [],
   "execution_count": 5
  },
  {
   "metadata": {
    "ExecuteTime": {
     "end_time": "2025-09-06T18:10:15.419850Z",
     "start_time": "2025-09-06T18:10:15.413544Z"
    }
   },
   "cell_type": "code",
   "source": [
    "class SGD:\n",
    "\n",
    "    def __init__(self, parameters, lr):\n",
    "        self.parameters = parameters\n",
    "        self.lr = lr\n",
    "\n",
    "    def backward(self):\n",
    "        for p in self.parameters:\n",
    "            p.data -= p.grad * self.lr"
   ],
   "id": "4c6eb2971e19e46",
   "outputs": [],
   "execution_count": 6
  },
  {
   "metadata": {
    "ExecuteTime": {
     "end_time": "2025-09-06T18:10:15.473715Z",
     "start_time": "2025-09-06T18:10:15.469036Z"
    }
   },
   "cell_type": "code",
   "source": "LEARNING_RATE = 0.00001",
   "id": "aa00a1f932d073e8",
   "outputs": [],
   "execution_count": 7
  },
  {
   "metadata": {
    "ExecuteTime": {
     "end_time": "2025-09-06T18:10:15.540907Z",
     "start_time": "2025-09-06T18:10:15.525143Z"
    }
   },
   "cell_type": "code",
   "source": [
    "dataset = DataLoader()\n",
    "\n",
    "feature, label = dataset[0]\n",
    "model = Linear(feature.size(), label.size())\n",
    "loss = MSELoss()\n",
    "sgd = SGD(model.parameters(), LEARNING_RATE)\n",
    "\n",
    "for i in range(len(dataset)):\n",
    "    feature, label = dataset[i]\n",
    "\n",
    "    prediction = model(feature)\n",
    "    print(f'prediction: {prediction.data}')\n",
    "\n",
    "    error = loss(prediction, label)\n",
    "    print(f'error: {error.data}')\n",
    "\n",
    "    error.gradient()\n",
    "    sgd.backward()\n",
    "    print(f\"weight: {model.weight.data}\")\n",
    "    print(f\"bias: {model.bias.data}\")"
   ],
   "id": "a54aedf01de16263",
   "outputs": [
    {
     "name": "stdout",
     "output_type": "stream",
     "text": [
      "prediction: [43.05]\n",
      "error: 14871.802500000002\n",
      "weight: [[0.5685359 0.641462 ]]\n",
      "bias: [0.002439]\n",
      "prediction: [58.97976075]\n",
      "error: 1297.4576356272407\n",
      "weight: [[0.58474501 0.69333114]]\n",
      "bias: [0.0031594]\n",
      "prediction: [49.56405415]\n",
      "error: 25739.69272117319\n",
      "weight: [[0.68549878 0.8377235 ]]\n",
      "bias: [0.00636812]\n",
      "prediction: [84.78574114]\n",
      "error: 218.6181411279782\n",
      "weight: [[0.67964363 0.81258774]]\n",
      "bias: [0.00607241]\n",
      "prediction: [69.9572639]\n",
      "error: 7232.266962624995\n",
      "weight: [[0.72658722 0.91974158]]\n",
      "bias: [0.00777326]\n"
     ]
    }
   ],
   "execution_count": 8
  }
 ],
 "metadata": {
  "kernelspec": {
   "display_name": "Python 3",
   "language": "python",
   "name": "python3"
  },
  "language_info": {
   "codemirror_mode": {
    "name": "ipython",
    "version": 2
   },
   "file_extension": ".py",
   "mimetype": "text/x-python",
   "name": "python",
   "nbconvert_exporter": "python",
   "pygments_lexer": "ipython2",
   "version": "2.7.6"
  }
 },
 "nbformat": 4,
 "nbformat_minor": 5
}
