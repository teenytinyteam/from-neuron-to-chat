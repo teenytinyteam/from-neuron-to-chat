{
 "cells": [
  {
   "metadata": {
    "collapsed": true
   },
   "cell_type": "markdown",
   "source": "# Mean Squared Error",
   "id": "76559de2175c9d8a"
  },
  {
   "metadata": {
    "ExecuteTime": {
     "end_time": "2025-09-06T18:06:07.524082Z",
     "start_time": "2025-09-06T18:06:07.517526Z"
    }
   },
   "cell_type": "code",
   "source": "import numpy as np",
   "id": "13568a21bcfb54b",
   "outputs": [],
   "execution_count": 18
  },
  {
   "metadata": {
    "ExecuteTime": {
     "end_time": "2025-09-06T18:06:07.550113Z",
     "start_time": "2025-09-06T18:06:07.546104Z"
    }
   },
   "cell_type": "code",
   "source": [
    "class Tensor:\n",
    "\n",
    "    def __init__(self, data):\n",
    "        self.data = np.array(data)\n",
    "\n",
    "    def size(self):\n",
    "        return len(self.data)"
   ],
   "id": "e6a353cc41f471ff",
   "outputs": [],
   "execution_count": 19
  },
  {
   "metadata": {
    "ExecuteTime": {
     "end_time": "2025-09-06T18:06:07.601182Z",
     "start_time": "2025-09-06T18:06:07.596209Z"
    }
   },
   "cell_type": "code",
   "source": [
    "class DataLoader:\n",
    "\n",
    "    def __init__(self):\n",
    "        self.feature = Tensor([28.1, 58.0])\n",
    "        self.label = Tensor([165])"
   ],
   "id": "ff88d32cf81d666d",
   "outputs": [],
   "execution_count": 20
  },
  {
   "metadata": {
    "ExecuteTime": {
     "end_time": "2025-09-06T18:06:07.652609Z",
     "start_time": "2025-09-06T18:06:07.647191Z"
    }
   },
   "cell_type": "code",
   "source": [
    "class Linear:\n",
    "\n",
    "    def __init__(self, in_size, out_size):\n",
    "        self.in_size = in_size\n",
    "        self.out_size = out_size\n",
    "\n",
    "        self.weight = Tensor(np.ones((out_size, in_size)) / in_size)\n",
    "        self.bias = Tensor(np.zeros(out_size))\n",
    "\n",
    "    def __call__(self, x: Tensor):\n",
    "        return self.forward(x)\n",
    "\n",
    "    def forward(self, x: Tensor):\n",
    "        return Tensor(x.data @ self.weight.data.T + self.bias.data)"
   ],
   "id": "861ed2abc54b6ec3",
   "outputs": [],
   "execution_count": 21
  },
  {
   "metadata": {
    "ExecuteTime": {
     "end_time": "2025-09-06T18:06:07.702396Z",
     "start_time": "2025-09-06T18:06:07.698207Z"
    }
   },
   "cell_type": "code",
   "source": [
    "class MSELoss:\n",
    "\n",
    "    def __call__(self, p: Tensor, y: Tensor):\n",
    "        return Tensor(((p.data - y.data) ** 2).mean())"
   ],
   "id": "3a7ce68fde281f7",
   "outputs": [],
   "execution_count": 22
  },
  {
   "metadata": {
    "ExecuteTime": {
     "end_time": "2025-09-06T18:06:07.758577Z",
     "start_time": "2025-09-06T18:06:07.751105Z"
    }
   },
   "cell_type": "code",
   "source": [
    "dataset = DataLoader()\n",
    "\n",
    "model = Linear(dataset.feature.size(), dataset.label.size())\n",
    "loss = MSELoss()\n",
    "\n",
    "prediction = model(dataset.feature)\n",
    "print(f'prediction: {prediction.data}')\n",
    "\n",
    "error = loss(prediction, dataset.label)\n",
    "print(f'error: {error.data}')"
   ],
   "id": "591476299b8ae83b",
   "outputs": [
    {
     "name": "stdout",
     "output_type": "stream",
     "text": [
      "prediction: [43.05]\n",
      "error: 14871.802500000002\n"
     ]
    }
   ],
   "execution_count": 23
  }
 ],
 "metadata": {
  "kernelspec": {
   "display_name": "Python 3",
   "language": "python",
   "name": "python3"
  },
  "language_info": {
   "codemirror_mode": {
    "name": "ipython",
    "version": 2
   },
   "file_extension": ".py",
   "mimetype": "text/x-python",
   "name": "python",
   "nbconvert_exporter": "python",
   "pygments_lexer": "ipython2",
   "version": "2.7.6"
  }
 },
 "nbformat": 4,
 "nbformat_minor": 5
}
