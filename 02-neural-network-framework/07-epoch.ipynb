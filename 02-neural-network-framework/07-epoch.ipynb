{
 "cells": [
  {
   "metadata": {
    "collapsed": true
   },
   "cell_type": "markdown",
   "source": "# Epoch",
   "id": "18e3b3f3ee61bc2d"
  },
  {
   "metadata": {
    "ExecuteTime": {
     "end_time": "2025-09-06T18:54:52.947559Z",
     "start_time": "2025-09-06T18:54:52.861205Z"
    }
   },
   "cell_type": "code",
   "source": "import numpy as np",
   "id": "213d3c1e1c86b654",
   "outputs": [],
   "execution_count": 1
  },
  {
   "metadata": {
    "ExecuteTime": {
     "end_time": "2025-09-06T18:54:52.964908Z",
     "start_time": "2025-09-06T18:54:52.957566Z"
    }
   },
   "cell_type": "code",
   "source": [
    "class Tensor:\n",
    "\n",
    "    def __init__(self, data):\n",
    "        self.data = np.array(data)\n",
    "\n",
    "        self.grad = None\n",
    "        self.gradient_fn = lambda: None\n",
    "        self.parents = set()\n",
    "\n",
    "    def gradient(self):\n",
    "        if self.gradient_fn:\n",
    "            self.gradient_fn()\n",
    "\n",
    "        for p in self.parents:\n",
    "            p.gradient()\n",
    "\n",
    "    def size(self):\n",
    "        return self.data.shape[-1]"
   ],
   "id": "d26b4ab4d6b78200",
   "outputs": [],
   "execution_count": 2
  },
  {
   "metadata": {
    "ExecuteTime": {
     "end_time": "2025-09-06T18:54:53.012597Z",
     "start_time": "2025-09-06T18:54:53.007686Z"
    }
   },
   "cell_type": "code",
   "source": [
    "class DataLoader:\n",
    "\n",
    "    def __init__(self, batch_size):\n",
    "        self.batch_size = batch_size\n",
    "\n",
    "        self.features = [[28.1, 58.0],\n",
    "                         [22.5, 72.0],\n",
    "                         [31.4, 45.0],\n",
    "                         [19.8, 85.0],\n",
    "                         [27.6, 63]]\n",
    "        self.labels = [[165],\n",
    "                       [95],\n",
    "                       [210],\n",
    "                       [70],\n",
    "                       [155]]\n",
    "\n",
    "    def __len__(self):  # 3\n",
    "        return len(self.features)\n",
    "\n",
    "    def __getitem__(self, index):  # 4\n",
    "        return (Tensor(self.features[index: index + self.batch_size]),\n",
    "                Tensor(self.labels[index: index + self.batch_size]))"
   ],
   "id": "12506e3d5da760da",
   "outputs": [],
   "execution_count": 3
  },
  {
   "metadata": {
    "ExecuteTime": {
     "end_time": "2025-09-06T18:54:53.064505Z",
     "start_time": "2025-09-06T18:54:53.058068Z"
    }
   },
   "cell_type": "code",
   "source": [
    "class Linear:\n",
    "\n",
    "    def __init__(self, in_size, out_size):\n",
    "        self.in_size = in_size\n",
    "        self.out_size = out_size\n",
    "\n",
    "        self.weight = Tensor(np.ones((out_size, in_size)) / in_size)\n",
    "        self.bias = Tensor(np.zeros(out_size))\n",
    "\n",
    "    def __call__(self, x: Tensor):\n",
    "        return self.forward(x)\n",
    "\n",
    "    def forward(self, x: Tensor):\n",
    "        p = Tensor(x.data @ self.weight.data.T + self.bias.data)\n",
    "\n",
    "        def gradient_fn():\n",
    "            self.weight.grad = p.grad.T @ x.data / len(x.data)\n",
    "            self.bias.grad = np.sum(p.grad, axis=0) / len(x.data)\n",
    "\n",
    "        p.gradient_fn = gradient_fn\n",
    "        p.parents = {self.weight, self.bias}\n",
    "        return p\n",
    "\n",
    "    def parameters(self):\n",
    "        return [self.weight, self.bias]"
   ],
   "id": "d75e3b2d60e06d44",
   "outputs": [],
   "execution_count": 4
  },
  {
   "metadata": {
    "ExecuteTime": {
     "end_time": "2025-09-06T18:54:53.117660Z",
     "start_time": "2025-09-06T18:54:53.111068Z"
    }
   },
   "cell_type": "code",
   "source": [
    "class MSELoss:\n",
    "\n",
    "    def __call__(self, p: Tensor, y: Tensor):\n",
    "        mse = Tensor(((p.data - y.data) ** 2).mean())\n",
    "\n",
    "        def gradient_fn():\n",
    "            p.grad = (p.data - y.data) * 2\n",
    "\n",
    "        mse.gradient_fn = gradient_fn\n",
    "        mse.parents = {p}\n",
    "        return mse"
   ],
   "id": "42a863efeb6f9f73",
   "outputs": [],
   "execution_count": 5
  },
  {
   "metadata": {
    "ExecuteTime": {
     "end_time": "2025-09-06T18:54:53.171577Z",
     "start_time": "2025-09-06T18:54:53.165451Z"
    }
   },
   "cell_type": "code",
   "source": [
    "class SGD:\n",
    "\n",
    "    def __init__(self, parameters, lr):\n",
    "        self.parameters = parameters\n",
    "        self.lr = lr\n",
    "\n",
    "    def backward(self):\n",
    "        for p in self.parameters:\n",
    "            p.data -= p.grad * self.lr"
   ],
   "id": "eee6fe94b94445e6",
   "outputs": [],
   "execution_count": 6
  },
  {
   "metadata": {
    "ExecuteTime": {
     "end_time": "2025-09-06T18:54:53.225819Z",
     "start_time": "2025-09-06T18:54:53.220661Z"
    }
   },
   "cell_type": "code",
   "source": [
    "LEARNING_RATE = 0.00001\n",
    "BATCHES = 2\n",
    "EPOCHS = 100"
   ],
   "id": "ec7077338e3771ca",
   "outputs": [],
   "execution_count": 7
  },
  {
   "metadata": {
    "ExecuteTime": {
     "end_time": "2025-09-06T18:54:53.321635Z",
     "start_time": "2025-09-06T18:54:53.280781Z"
    }
   },
   "cell_type": "code",
   "source": [
    "dataset = DataLoader(BATCHES)\n",
    "\n",
    "feature, label = dataset[0]\n",
    "model = Linear(feature.size(), label.size())\n",
    "loss = MSELoss()\n",
    "sgd = SGD(model.parameters(), LEARNING_RATE)\n",
    "\n",
    "for epoch in range(EPOCHS):\n",
    "    print(f\"epoch: {epoch}\")\n",
    "\n",
    "    for i in range(0, len(dataset), dataset.batch_size):\n",
    "        feature, label = dataset[i]\n",
    "\n",
    "        prediction = model(feature)\n",
    "        print(f'prediction: {prediction.data}')\n",
    "\n",
    "        error = loss(prediction, label)\n",
    "        print(f'error: {error.data}')\n",
    "\n",
    "        error.gradient()\n",
    "        sgd.backward()\n",
    "        print(f\"weight: {model.weight.data}\")\n",
    "        print(f\"bias: {model.bias.data}\")"
   ],
   "id": "670946a315e5f9b9",
   "outputs": [
    {
     "name": "stdout",
     "output_type": "stream",
     "text": [
      "epoch: 0\n",
      "prediction: [[43.05]\n",
      " [47.25]]\n",
      "error: 8575.9325\n",
      "weight: [[0.5450117 0.605111 ]]\n",
      "bias: [0.001697]\n",
      "prediction: [[44.34505938]\n",
      " [62.22736366]]\n",
      "error: 13750.986613744806\n",
      "weight: [[0.59856633 0.68626246]]\n",
      "bias: [0.00343128]\n",
      "prediction: [[59.75839732]]\n",
      "error: 9070.962881280973\n",
      "weight: [[0.6511397  0.80626688]]\n",
      "bias: [0.00533611]\n",
      "epoch: 1\n",
      "prediction: [[65.06584087]\n",
      " [72.70719493]]\n",
      "error: 5241.902659665337\n",
      "weight: [[0.68423708 0.88027952]]\n",
      "bias: [0.00655838]\n",
      "prediction: [[61.10418082]\n",
      " [88.37821134]]\n",
      "error: 11253.861810556275\n",
      "weight: [[0.72735148 0.93166115]]\n",
      "bias: [0.00786355]\n",
      "prediction: [[78.77741711]]\n",
      "error: 5809.882141806621\n",
      "weight: [[0.76942635 1.02770161]]\n",
      "bias: [0.00938801]\n",
      "epoch: 2\n",
      "prediction: [[81.23696162]\n",
      " [91.31599661]]\n",
      "error: 3514.909239990455\n",
      "weight: [[0.79379266 1.07893665]]\n",
      "bias: [0.01026248]\n",
      "prediction: [[ 73.4875014 ]\n",
      " [107.43697269]]\n",
      "error: 10018.594599336657\n",
      "weight: [[0.82924506 1.10854585]]\n",
      "bias: [0.01125323]\n",
      "prediction: [[92.73680561]]\n",
      "error: 3876.7053755846787\n",
      "weight: [[0.86361435 1.18699748]]\n",
      "bias: [0.01249849]\n",
      "epoch: 3\n",
      "prediction: [[ 93.12591526]\n",
      " [104.90763958]]\n",
      "error: 2632.0226898574742\n",
      "weight: [[0.88158175 1.22155094]]\n",
      "bias: [0.01311816]\n",
      "prediction: [[ 82.66457749]\n",
      " [121.30026703]]\n",
      "error: 9423.01361153798\n",
      "weight: [[0.91140762 1.23524666]]\n",
      "bias: [0.01387851]\n",
      "prediction: [[102.98926815]]\n",
      "error: 2705.116227565086\n",
      "weight: [[0.94011754 1.30078018]]\n",
      "bias: [0.01491873]\n",
      "epoch: 4\n",
      "prediction: [[101.87747203]\n",
      " [114.82373633]]\n",
      "error: 2188.7170296872328\n",
      "weight: [[0.95339463 1.32311816]]\n",
      "bias: [0.01535171]\n",
      "prediction: [[ 89.4922601 ]\n",
      " [131.35760864]]\n",
      "error: 9143.435757528305\n",
      "weight: [[0.97908525 1.32519267]]\n",
      "bias: [0.01594321]\n",
      "prediction: [[110.52583452]]\n",
      "error: 1977.9513952974164\n",
      "weight: [[1.00363499 1.38123012]]\n",
      "bias: [0.0168327]\n",
      "epoch: 5\n",
      "prediction: [[108.33032296]\n",
      " [122.04718868]]\n",
      "error: 1971.5013558739665\n",
      "weight: [[1.01347355 1.39462456]]\n",
      "bias: [0.01712892]\n",
      "prediction: [[ 94.59830359]\n",
      " [138.62699265]]\n",
      "error: 9013.607826796593\n",
      "weight: [[1.03612154 1.38822238]]\n",
      "bias: [0.01759667]\n",
      "prediction: [[116.07256097]]\n",
      "error: 1515.34550939788\n",
      "weight: [[1.05760949 1.43727095]]\n",
      "bias: [0.01837522]\n",
      "epoch: 6\n",
      "prediction: [[113.09891694]\n",
      " [127.29809711]]\n",
      "error: 1868.4447495462914\n",
      "weight: [[1.06492662 1.44411895]]\n",
      "bias: [0.01857125]\n",
      "prediction: [[ 98.44261982]\n",
      " [143.85422894]]\n",
      "error: 8949.748102599333\n",
      "weight: [[1.0853325  1.43154367]]\n",
      "bias: [0.01894828]\n",
      "prediction: [[120.16137681]]\n",
      "error: 1213.7296654614581\n",
      "weight: [[1.10456342 1.47544034]]\n",
      "bias: [0.01964505]\n",
      "epoch: 7\n",
      "prediction: [[116.6334169]\n",
      " [131.1040265]]\n",
      "error: 1821.4135451329776\n",
      "weight: [[1.11003103 1.47749806]]\n",
      "bias: [0.01976768]\n",
      "prediction: [[101.36215452]\n",
      " [147.58571699]]\n",
      "error: 8910.862475590238\n",
      "weight: [[1.12878134 1.46043723]]\n",
      "bias: [0.0200782]\n",
      "prediction: [[123.18198858]]\n",
      "error: 1012.3858507998169\n",
      "weight: [[1.14634488 1.50052792]]\n",
      "bias: [0.02071456]\n",
      "epoch: 8\n",
      "prediction: [[119.26362527]\n",
      " [133.85148489]]\n",
      "error: 1800.626925783688\n",
      "weight: [[1.15045522 1.49908195]]\n",
      "bias: [0.02078341]\n",
      "prediction: [[103.60376506]\n",
      " [150.22176266]]\n",
      "error: 8877.84500664892\n",
      "weight: [[1.16797972 1.47877176]]\n",
      "bias: [0.02104515]\n",
      "prediction: [[125.41990644]]\n",
      "error: 874.9819348074114\n",
      "weight: [[1.18430794 1.51604268]]\n",
      "bias: [0.02163676]\n",
      "epoch: 9\n",
      "prediction: [[121.23116509]\n",
      " [135.82363814]]\n",
      "error: 1791.1401700555325\n",
      "weight: [[1.18742166 1.51203558]]\n",
      "bias: [0.02166621]\n",
      "prediction: [[105.34830757]\n",
      " [152.05563962]]\n",
      "error: 8842.552360748694\n",
      "weight: [[1.20403528 1.48938155]]\n",
      "bias: [0.02189217]\n",
      "prediction: [[127.08430346]]\n",
      "error: 779.286113467788\n",
      "weight: [[1.21944474 1.52455533]]\n",
      "bias: [0.02245048]\n"
     ]
    }
   ],
   "execution_count": 8
  }
 ],
 "metadata": {
  "kernelspec": {
   "display_name": "Python 3",
   "language": "python",
   "name": "python3"
  },
  "language_info": {
   "codemirror_mode": {
    "name": "ipython",
    "version": 2
   },
   "file_extension": ".py",
   "mimetype": "text/x-python",
   "name": "python",
   "nbconvert_exporter": "python",
   "pygments_lexer": "ipython2",
   "version": "2.7.6"
  }
 },
 "nbformat": 4,
 "nbformat_minor": 5
}
