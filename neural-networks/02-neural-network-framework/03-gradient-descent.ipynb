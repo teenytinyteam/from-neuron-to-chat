{
 "cells": [
  {
   "metadata": {
    "collapsed": true
   },
   "cell_type": "markdown",
   "source": "# Gradient Descent",
   "id": "bc5216501c028c68"
  },
  {
   "metadata": {
    "ExecuteTime": {
     "end_time": "2025-09-07T02:41:32.316408Z",
     "start_time": "2025-09-07T02:41:32.237615Z"
    }
   },
   "cell_type": "code",
   "source": "import numpy as np",
   "id": "3a99a981700a0fcf",
   "outputs": [],
   "execution_count": 1
  },
  {
   "metadata": {
    "ExecuteTime": {
     "end_time": "2025-09-07T02:41:32.335303Z",
     "start_time": "2025-09-07T02:41:32.327042Z"
    }
   },
   "cell_type": "code",
   "source": [
    "class Tensor:\n",
    "\n",
    "    def __init__(self, data):\n",
    "        self.data = np.array(data)\n",
    "\n",
    "        self.grad = None\n",
    "        self.gradient_fn = lambda: None\n",
    "        self.parents = set()\n",
    "\n",
    "    def gradient(self):\n",
    "        if self.gradient_fn:\n",
    "            self.gradient_fn()\n",
    "\n",
    "        for p in self.parents:\n",
    "            p.gradient()\n",
    "\n",
    "    def size(self):\n",
    "        return len(self.data)"
   ],
   "id": "f4326ed88e226b26",
   "outputs": [],
   "execution_count": 2
  },
  {
   "metadata": {
    "ExecuteTime": {
     "end_time": "2025-09-07T02:41:32.377822Z",
     "start_time": "2025-09-07T02:41:32.374179Z"
    }
   },
   "cell_type": "code",
   "source": [
    "class DataLoader:\n",
    "\n",
    "    def __init__(self):\n",
    "        self.feature = Tensor([28.1, 58.0])\n",
    "        self.label = Tensor([165])"
   ],
   "id": "fe83dc0b23902f51",
   "outputs": [],
   "execution_count": 3
  },
  {
   "metadata": {
    "ExecuteTime": {
     "end_time": "2025-09-07T02:41:32.433263Z",
     "start_time": "2025-09-07T02:41:32.423939Z"
    }
   },
   "cell_type": "code",
   "source": [
    "class Linear:\n",
    "\n",
    "    def __init__(self, in_size, out_size):\n",
    "        self.in_size = in_size\n",
    "        self.out_size = out_size\n",
    "\n",
    "        self.weight = Tensor(np.ones((out_size, in_size)) / in_size)\n",
    "        self.bias = Tensor(np.zeros(out_size))\n",
    "\n",
    "    def __call__(self, x: Tensor):\n",
    "        return self.forward(x)\n",
    "\n",
    "    def forward(self, x: Tensor):\n",
    "        p = Tensor(x.data @ self.weight.data.T + self.bias.data)\n",
    "\n",
    "        def gradient_fn():\n",
    "            self.weight.grad = p.grad * x.data\n",
    "            self.bias.grad = np.sum(p.grad, axis=0)\n",
    "\n",
    "        p.gradient_fn = gradient_fn\n",
    "        p.parents = {self.weight, self.bias}\n",
    "        return p\n",
    "\n",
    "    def parameters(self):\n",
    "        return [self.weight, self.bias]"
   ],
   "id": "676ae335931d7b0c",
   "outputs": [],
   "execution_count": 4
  },
  {
   "metadata": {
    "ExecuteTime": {
     "end_time": "2025-09-07T02:41:32.488016Z",
     "start_time": "2025-09-07T02:41:32.481706Z"
    }
   },
   "cell_type": "code",
   "source": [
    "class MSELoss:\n",
    "\n",
    "    def __call__(self, p: Tensor, y: Tensor):\n",
    "        mse = Tensor(((p.data - y.data) ** 2).mean())\n",
    "\n",
    "        def gradient_fn():\n",
    "            p.grad = (p.data - y.data) * 2\n",
    "\n",
    "        mse.gradient_fn = gradient_fn\n",
    "        mse.parents = {p}\n",
    "        return mse"
   ],
   "id": "abb9d31d86399218",
   "outputs": [],
   "execution_count": 5
  },
  {
   "metadata": {
    "ExecuteTime": {
     "end_time": "2025-09-07T02:41:32.546195Z",
     "start_time": "2025-09-07T02:41:32.538699Z"
    }
   },
   "cell_type": "code",
   "source": [
    "class SGD:\n",
    "\n",
    "    def __init__(self, parameters):\n",
    "        self.parameters = parameters\n",
    "\n",
    "    def backward(self):\n",
    "        for p in self.parameters:\n",
    "            p.data -= p.grad"
   ],
   "id": "49eab58f6c36b785",
   "outputs": [],
   "execution_count": 6
  },
  {
   "metadata": {
    "ExecuteTime": {
     "end_time": "2025-09-07T02:41:32.617093Z",
     "start_time": "2025-09-07T02:41:32.601882Z"
    }
   },
   "cell_type": "code",
   "source": [
    "dataset = DataLoader()\n",
    "\n",
    "model = Linear(dataset.feature.size(), dataset.label.size())\n",
    "loss = MSELoss()\n",
    "sgd = SGD(model.parameters())\n",
    "\n",
    "prediction = model(dataset.feature)\n",
    "error = loss(prediction, dataset.label)\n",
    "\n",
    "error.gradient()\n",
    "sgd.backward()\n",
    "\n",
    "print(f'prediction: {prediction.data}')\n",
    "print(f'error: {error.data}')\n",
    "print(f\"weight: {model.weight.data}\")\n",
    "print(f\"bias: {model.bias.data}\")"
   ],
   "id": "c8a6f0e15cdb99ba",
   "outputs": [
    {
     "name": "stdout",
     "output_type": "stream",
     "text": [
      "prediction: [43.05]\n",
      "error: 14871.802500000002\n",
      "weight: [[ 6854.09 14146.7 ]]\n",
      "bias: [243.9]\n"
     ]
    }
   ],
   "execution_count": 7
  }
 ],
 "metadata": {
  "kernelspec": {
   "display_name": "Python 3",
   "language": "python",
   "name": "python3"
  },
  "language_info": {
   "codemirror_mode": {
    "name": "ipython",
    "version": 2
   },
   "file_extension": ".py",
   "mimetype": "text/x-python",
   "name": "python",
   "nbconvert_exporter": "python",
   "pygments_lexer": "ipython2",
   "version": "2.7.6"
  }
 },
 "nbformat": 4,
 "nbformat_minor": 5
}
