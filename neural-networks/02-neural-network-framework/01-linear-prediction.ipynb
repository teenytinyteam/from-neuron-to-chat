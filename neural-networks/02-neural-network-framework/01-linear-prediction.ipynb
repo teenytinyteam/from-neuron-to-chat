{
 "cells": [
  {
   "metadata": {
    "collapsed": true
   },
   "cell_type": "markdown",
   "source": "# Linear Prediction",
   "id": "5c3769bc2ff852be"
  },
  {
   "metadata": {
    "ExecuteTime": {
     "end_time": "2025-09-07T02:39:34.380768Z",
     "start_time": "2025-09-07T02:39:34.310566Z"
    }
   },
   "cell_type": "code",
   "source": "import numpy as np",
   "id": "fff758d7ea7ba7b5",
   "outputs": [],
   "execution_count": 1
  },
  {
   "metadata": {
    "ExecuteTime": {
     "end_time": "2025-09-07T02:39:34.393572Z",
     "start_time": "2025-09-07T02:39:34.388600Z"
    }
   },
   "cell_type": "code",
   "source": [
    "class Tensor:\n",
    "\n",
    "    def __init__(self, data):\n",
    "        self.data = np.array(data)\n",
    "\n",
    "    def size(self):\n",
    "        return len(self.data)"
   ],
   "id": "cdd39592f25b94e0",
   "outputs": [],
   "execution_count": 2
  },
  {
   "metadata": {
    "ExecuteTime": {
     "end_time": "2025-09-07T02:39:34.440233Z",
     "start_time": "2025-09-07T02:39:34.436989Z"
    }
   },
   "cell_type": "code",
   "source": [
    "class DataLoader:\n",
    "\n",
    "    def __init__(self):\n",
    "        self.feature = Tensor([28.1, 58.0])"
   ],
   "id": "89e1cd469102b1b1",
   "outputs": [],
   "execution_count": 3
  },
  {
   "metadata": {
    "ExecuteTime": {
     "end_time": "2025-09-07T02:39:34.489124Z",
     "start_time": "2025-09-07T02:39:34.484332Z"
    }
   },
   "cell_type": "code",
   "source": [
    "class Linear:\n",
    "\n",
    "    def __init__(self, in_size, out_size):\n",
    "        self.in_size = in_size\n",
    "        self.out_size = out_size\n",
    "\n",
    "        self.weight = Tensor(np.ones((out_size, in_size)) / in_size)\n",
    "        self.bias = Tensor(np.zeros(out_size))\n",
    "\n",
    "    def __call__(self, x: Tensor):\n",
    "        return self.forward(x)\n",
    "\n",
    "    def forward(self, x: Tensor):\n",
    "        return Tensor(x.data @ self.weight.data.T + self.bias.data)"
   ],
   "id": "9e097e333c19a6e0",
   "outputs": [],
   "execution_count": 4
  },
  {
   "metadata": {
    "ExecuteTime": {
     "end_time": "2025-09-07T02:39:34.552324Z",
     "start_time": "2025-09-07T02:39:34.541807Z"
    }
   },
   "cell_type": "code",
   "source": [
    "dataset = DataLoader()\n",
    "\n",
    "model = Linear(dataset.feature.size(), 1)\n",
    "\n",
    "prediction = model(dataset.feature)\n",
    "\n",
    "print(f'prediction: {prediction.data}')"
   ],
   "id": "8bbc30c4941b2273",
   "outputs": [
    {
     "name": "stdout",
     "output_type": "stream",
     "text": [
      "prediction: [43.05]\n"
     ]
    }
   ],
   "execution_count": 5
  }
 ],
 "metadata": {
  "kernelspec": {
   "display_name": "Python 3",
   "language": "python",
   "name": "python3"
  },
  "language_info": {
   "codemirror_mode": {
    "name": "ipython",
    "version": 2
   },
   "file_extension": ".py",
   "mimetype": "text/x-python",
   "name": "python",
   "nbconvert_exporter": "python",
   "pygments_lexer": "ipython2",
   "version": "2.7.6"
  }
 },
 "nbformat": 4,
 "nbformat_minor": 5
}
