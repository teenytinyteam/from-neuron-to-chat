{
 "cells": [
  {
   "metadata": {
    "collapsed": true
   },
   "cell_type": "markdown",
   "source": "# Pool 2d",
   "id": "4d5f8468df1870e3"
  },
  {
   "metadata": {
    "ExecuteTime": {
     "end_time": "2025-09-07T02:50:27.601438Z",
     "start_time": "2025-09-07T02:50:27.421739Z"
    }
   },
   "cell_type": "code",
   "source": [
    "from abc import abstractmethod, ABC\n",
    "import numpy as np\n",
    "\n",
    "np.random.seed(99)"
   ],
   "id": "c50dfbc557ec5a22",
   "outputs": [],
   "execution_count": 1
  },
  {
   "metadata": {
    "ExecuteTime": {
     "end_time": "2025-09-07T02:50:27.620100Z",
     "start_time": "2025-09-07T02:50:27.614225Z"
    }
   },
   "cell_type": "code",
   "source": [
    "class Tensor:\n",
    "\n",
    "    def __init__(self, data):\n",
    "        self.data = np.array(data)\n",
    "        self.grad = None\n",
    "        self.gradient_fn = lambda: None\n",
    "        self.parents = set()\n",
    "\n",
    "    def gradient(self):\n",
    "        if self.gradient_fn:\n",
    "            self.gradient_fn()\n",
    "\n",
    "        for p in self.parents:\n",
    "            p.gradient()\n",
    "\n",
    "    def shape(self):\n",
    "        return self.data.shape\n",
    "\n",
    "    def size(self):\n",
    "        return np.prod(self.data.shape[1:])"
   ],
   "id": "97c03ec98951d49e",
   "outputs": [],
   "execution_count": 2
  },
  {
   "metadata": {
    "ExecuteTime": {
     "end_time": "2025-09-07T02:50:27.666904Z",
     "start_time": "2025-09-07T02:50:27.660Z"
    }
   },
   "cell_type": "code",
   "source": [
    "class DataLoader:\n",
    "\n",
    "    def __init__(self, batch_size):\n",
    "        self.batch_size = batch_size\n",
    "\n",
    "        with (np.load('mini-mnist.npz', allow_pickle=True) as f):\n",
    "            self.x_train, self.y_train = self.normalize(f['x_train'], f['y_train'])\n",
    "            self.x_test, self.y_test = self.normalize(f['x_test'], f['y_test'])\n",
    "\n",
    "        self.train()\n",
    "\n",
    "    @staticmethod\n",
    "    def normalize(x, y):\n",
    "        inputs = np.expand_dims(x / 255, axis=1)\n",
    "        targets = np.zeros((len(y), 10))\n",
    "        targets[range(len(y)), y] = 1\n",
    "        return inputs, targets\n",
    "\n",
    "    def train(self):\n",
    "        self.features = self.x_train\n",
    "        self.labels = self.y_train\n",
    "\n",
    "    def eval(self):\n",
    "        self.features = self.x_test\n",
    "        self.labels = self.y_test\n",
    "\n",
    "    def __len__(self):  # 3\n",
    "        return len(self.features)\n",
    "\n",
    "    def __getitem__(self, index):  # 4\n",
    "        return (Tensor(self.features[index: index + self.batch_size]),\n",
    "                Tensor(self.labels[index: index + self.batch_size]))"
   ],
   "id": "d21592701ca55088",
   "outputs": [],
   "execution_count": 3
  },
  {
   "metadata": {
    "ExecuteTime": {
     "end_time": "2025-09-07T02:50:27.716360Z",
     "start_time": "2025-09-07T02:50:27.711451Z"
    }
   },
   "cell_type": "code",
   "source": [
    "class Layer(ABC):\n",
    "\n",
    "    def __init__(self):\n",
    "        self.training = True\n",
    "\n",
    "    def __call__(self, x: Tensor):\n",
    "        return self.forward(x)\n",
    "\n",
    "    @abstractmethod\n",
    "    def forward(self, x: Tensor):\n",
    "        pass\n",
    "\n",
    "    def parameters(self):\n",
    "        return []\n",
    "\n",
    "    def train(self):\n",
    "        self.training = True\n",
    "\n",
    "    def eval(self):\n",
    "        self.training = False"
   ],
   "id": "c49f829deedee683",
   "outputs": [],
   "execution_count": 4
  },
  {
   "metadata": {
    "ExecuteTime": {
     "end_time": "2025-09-07T02:50:27.771942Z",
     "start_time": "2025-09-07T02:50:27.759823Z"
    }
   },
   "cell_type": "code",
   "source": [
    "class Linear(Layer):\n",
    "\n",
    "    def __init__(self, in_size, out_size):\n",
    "        super().__init__()\n",
    "        self.in_size = in_size\n",
    "        self.out_size = out_size\n",
    "\n",
    "        self.weight = Tensor(np.random.rand(out_size, in_size) / in_size)\n",
    "        self.bias = Tensor(np.zeros(out_size))\n",
    "\n",
    "    def forward(self, x: Tensor):\n",
    "        p = Tensor(x.data @ self.weight.data.T + self.bias.data)\n",
    "\n",
    "        def gradient_fn():\n",
    "            self.weight.grad = p.grad.T @ x.data / len(x.data)\n",
    "            self.bias.grad = np.sum(p.grad, axis=0) / len(x.data)\n",
    "            x.grad = p.grad @ self.weight.data\n",
    "\n",
    "        p.gradient_fn = gradient_fn\n",
    "        p.parents = {self.weight, self.bias, x}\n",
    "        return p\n",
    "\n",
    "    def parameters(self):\n",
    "        return [self.weight, self.bias]"
   ],
   "id": "7e1e584548dba8a0",
   "outputs": [],
   "execution_count": 5
  },
  {
   "metadata": {
    "ExecuteTime": {
     "end_time": "2025-09-07T02:50:27.813648Z",
     "start_time": "2025-09-07T02:50:27.807907Z"
    }
   },
   "cell_type": "code",
   "source": [
    "class Sequential(Layer):\n",
    "\n",
    "    def __init__(self, layers):\n",
    "        super().__init__()\n",
    "        self.layers = layers\n",
    "\n",
    "    def forward(self, x: Tensor):\n",
    "        for l in self.layers:\n",
    "            x = l(x)\n",
    "        return x\n",
    "\n",
    "    def parameters(self):\n",
    "        return [p for l in self.layers for p in l.parameters()]\n",
    "\n",
    "    def train(self):\n",
    "        for l in self.layers:\n",
    "            l.train()\n",
    "\n",
    "    def eval(self):\n",
    "        for l in self.layers:\n",
    "            l.eval()"
   ],
   "id": "1235064bf09ddee",
   "outputs": [],
   "execution_count": 6
  },
  {
   "metadata": {
    "ExecuteTime": {
     "end_time": "2025-09-07T02:50:27.863983Z",
     "start_time": "2025-09-07T02:50:27.857068Z"
    }
   },
   "cell_type": "code",
   "source": [
    "class Convolution2D(Layer):\n",
    "\n",
    "    def __init__(self, channel_size, kernel_size, out_size):\n",
    "        super().__init__()\n",
    "        self.channel_size = channel_size\n",
    "        self.kernel_size = kernel_size\n",
    "        self.out_size = out_size\n",
    "\n",
    "        in_size = kernel_size ** 2 * channel_size\n",
    "        self.weight = Tensor(np.random.rand(out_size, in_size) / in_size)\n",
    "        self.bias = Tensor(np.zeros(out_size))\n",
    "\n",
    "    def forward(self, x: Tensor):\n",
    "        batches, channels, rows, columns = x.data.shape\n",
    "        rows = rows - self.kernel_size + 1\n",
    "        columns = columns - self.kernel_size + 1\n",
    "\n",
    "        patches = []\n",
    "        for b in range(batches):\n",
    "            for c in range(channels):\n",
    "                for r in range(rows):\n",
    "                    for l in range(columns):\n",
    "                        patch = x.data[b,\n",
    "                        c:c + self.channel_size,\n",
    "                        r:r + self.kernel_size,\n",
    "                        l:l + self.kernel_size]\n",
    "                        patches.append(patch)\n",
    "        patches = np.array(patches).reshape(batches, channels, rows, columns, -1)\n",
    "\n",
    "        p = Tensor(patches @ self.weight.data.T + self.bias.data)\n",
    "\n",
    "        def gradient_fn():\n",
    "            self.weight.grad = p.grad.reshape(-1, self.out_size).T @ (patches.reshape(-1, self.kernel_size ** 2))\n",
    "            self.bias.grad = np.sum(p.grad.reshape(-1, self.out_size), axis=0)\n",
    "\n",
    "        p.gradient_fn = gradient_fn\n",
    "        p.parents = {self.weight, self.bias}\n",
    "        return p\n",
    "\n",
    "    def parameters(self):\n",
    "        return [self.weight, self.bias]"
   ],
   "id": "ff52fd5a6ee711f8",
   "outputs": [],
   "execution_count": 7
  },
  {
   "metadata": {
    "ExecuteTime": {
     "end_time": "2025-09-07T02:50:27.915334Z",
     "start_time": "2025-09-07T02:50:27.908165Z"
    }
   },
   "cell_type": "code",
   "source": [
    "class Pool2D(Layer):\n",
    "\n",
    "    def __init__(self, kernel_size):\n",
    "        super().__init__()\n",
    "        self.kernel_size = kernel_size\n",
    "\n",
    "    def forward(self, x: Tensor):\n",
    "        batches, channels, rows, columns, patches = x.data.shape\n",
    "        pooled_rows = rows // self.kernel_size\n",
    "        pooled_columns = columns // self.kernel_size\n",
    "\n",
    "        masks = np.zeros_like(x.data, dtype=bool)\n",
    "        pools = np.zeros((batches, channels, pooled_rows, pooled_columns, patches))\n",
    "        for r in range(pooled_rows):\n",
    "            for l in range(pooled_columns):\n",
    "                row_slice = slice(r * self.kernel_size, (r + 1) * self.kernel_size)\n",
    "                column_slice = slice(l * self.kernel_size, (l + 1) * self.kernel_size)\n",
    "                regions = x.data[:, :, row_slice, column_slice, :]\n",
    "                max_region = regions.max(axis=(2, 3), keepdims=True)\n",
    "                pools[:, :, r, l, :] = max_region.squeeze(axis=(2, 3))\n",
    "                mask = regions == max_region\n",
    "                masks[:, :, row_slice, column_slice, :] += mask\n",
    "\n",
    "        p = Tensor(pools)\n",
    "\n",
    "        def gradient_fn():\n",
    "            x.grad = np.zeros_like(x.data)\n",
    "            x.grad[masks] = p.grad.repeat(self.kernel_size, axis=2).repeat(self.kernel_size, axis=3)[masks]\n",
    "\n",
    "        p.gradient_fn = gradient_fn\n",
    "        p.parents = {x}\n",
    "        return p"
   ],
   "id": "50fee4d32b206fd2",
   "outputs": [],
   "execution_count": 8
  },
  {
   "metadata": {
    "ExecuteTime": {
     "end_time": "2025-09-07T02:50:27.965522Z",
     "start_time": "2025-09-07T02:50:27.960599Z"
    }
   },
   "cell_type": "code",
   "source": [
    "class Flatten(Layer):\n",
    "\n",
    "    def forward(self, x: Tensor):\n",
    "        p = Tensor(np.array(x.data.reshape(x.data.shape[0], -1)))\n",
    "\n",
    "        def gradient_fn():\n",
    "            x.grad = p.grad.reshape(x.data.shape)\n",
    "\n",
    "        p.gradient_fn = gradient_fn\n",
    "        p.parents = {x}\n",
    "        return p"
   ],
   "id": "8f5e65f05fc5d5b9",
   "outputs": [],
   "execution_count": 9
  },
  {
   "metadata": {
    "ExecuteTime": {
     "end_time": "2025-09-07T02:50:28.015352Z",
     "start_time": "2025-09-07T02:50:28.010050Z"
    }
   },
   "cell_type": "code",
   "source": [
    "class Dropout(Layer):\n",
    "\n",
    "    def __init__(self, dropout_rate=0.3):\n",
    "        super().__init__()\n",
    "        self.dropout_rate = dropout_rate\n",
    "\n",
    "    def forward(self, x: Tensor):\n",
    "        if not self.training:\n",
    "            return x\n",
    "\n",
    "        mask = np.random.random(x.data.shape) > self.dropout_rate\n",
    "        p = Tensor(x.data * mask)\n",
    "\n",
    "        def gradient_fn():\n",
    "            x.grad = p.grad * mask\n",
    "\n",
    "        p.gradient_fn = gradient_fn\n",
    "        p.parents = {x}\n",
    "        return p"
   ],
   "id": "50b7c3f70da4ba",
   "outputs": [],
   "execution_count": 10
  },
  {
   "metadata": {
    "ExecuteTime": {
     "end_time": "2025-09-07T02:50:28.065305Z",
     "start_time": "2025-09-07T02:50:28.060950Z"
    }
   },
   "cell_type": "code",
   "source": [
    "class ReLU(Layer):\n",
    "\n",
    "    def forward(self, x: Tensor):\n",
    "        p = Tensor(np.maximum(0, x.data))\n",
    "\n",
    "        def gradient_fn():\n",
    "            x.grad = (p.data > 0) * p.grad\n",
    "\n",
    "        p.gradient_fn = gradient_fn\n",
    "        p.parents = {x}\n",
    "        return p"
   ],
   "id": "74d97106ea7c60c3",
   "outputs": [],
   "execution_count": 11
  },
  {
   "metadata": {
    "ExecuteTime": {
     "end_time": "2025-09-07T02:50:28.113347Z",
     "start_time": "2025-09-07T02:50:28.109754Z"
    }
   },
   "cell_type": "code",
   "source": [
    "class Tanh(Layer):\n",
    "\n",
    "    def forward(self, x: Tensor):\n",
    "        p = Tensor(np.tanh(x.data))\n",
    "\n",
    "        def gradient_fn():\n",
    "            x.grad = p.grad * (1 - p.data ** 2)\n",
    "\n",
    "        p.gradient_fn = gradient_fn\n",
    "        p.parents = {x}\n",
    "        return p"
   ],
   "id": "1c798d12cca0542d",
   "outputs": [],
   "execution_count": 12
  },
  {
   "metadata": {
    "ExecuteTime": {
     "end_time": "2025-09-07T02:50:28.165013Z",
     "start_time": "2025-09-07T02:50:28.159187Z"
    }
   },
   "cell_type": "code",
   "source": [
    "class Sigmoid(Layer):\n",
    "\n",
    "    def __init__(self, clip_range=(-100, 100)):\n",
    "        super().__init__()\n",
    "        self.clip_range = clip_range\n",
    "\n",
    "    def forward(self, x: Tensor):\n",
    "        z = np.clip(x.data, self.clip_range[0], self.clip_range[1])\n",
    "        p = Tensor(1 / (1 + np.exp(-z)))\n",
    "\n",
    "        def gradient_fn():\n",
    "            x.grad = p.grad * p.data * (1 - p.data)\n",
    "\n",
    "        p.gradient_fn = gradient_fn\n",
    "        p.parents = {x}\n",
    "        return p"
   ],
   "id": "1dca613582f46cfc",
   "outputs": [],
   "execution_count": 13
  },
  {
   "metadata": {
    "ExecuteTime": {
     "end_time": "2025-09-07T02:50:28.224364Z",
     "start_time": "2025-09-07T02:50:28.211586Z"
    }
   },
   "cell_type": "code",
   "source": [
    "class Softmax(Layer):\n",
    "\n",
    "    def __init__(self, axis=1):\n",
    "        super().__init__()\n",
    "        self.axis = axis\n",
    "\n",
    "    def forward(self, x: Tensor):\n",
    "        exp = np.exp(x.data - np.max(x.data, axis=self.axis, keepdims=True))\n",
    "        p = Tensor(exp / np.sum(exp, axis=self.axis, keepdims=True))\n",
    "\n",
    "        def gradient_fn():\n",
    "            x.grad = np.zeros_like(x.data)\n",
    "            for idx in range(x.data.shape[0]):\n",
    "                itm = p.data[idx].reshape(-1, 1)\n",
    "                x.grad[idx] = (np.diagflat(itm) - itm @ itm.T) @ p.grad[idx]\n",
    "\n",
    "        p.gradient_fn = gradient_fn\n",
    "        p.parents = {x}\n",
    "        return p"
   ],
   "id": "a01d83d8ab504817",
   "outputs": [],
   "execution_count": 14
  },
  {
   "metadata": {
    "ExecuteTime": {
     "end_time": "2025-09-07T02:50:28.274211Z",
     "start_time": "2025-09-07T02:50:28.267713Z"
    }
   },
   "cell_type": "code",
   "source": [
    "class MSELoss:\n",
    "\n",
    "    def __call__(self, p: Tensor, y: Tensor):\n",
    "        mse = Tensor(((p.data - y.data) ** 2).mean())\n",
    "\n",
    "        def gradient_fn():\n",
    "            p.grad = (p.data - y.data) * 2\n",
    "\n",
    "        mse.gradient_fn = gradient_fn\n",
    "        mse.parents = {p}\n",
    "        return mse"
   ],
   "id": "3e5a7c87f601cb9b",
   "outputs": [],
   "execution_count": 15
  },
  {
   "metadata": {
    "ExecuteTime": {
     "end_time": "2025-09-07T02:50:28.327Z",
     "start_time": "2025-09-07T02:50:28.321585Z"
    }
   },
   "cell_type": "code",
   "source": [
    "class SGD:\n",
    "\n",
    "    def __init__(self, parameters, lr):\n",
    "        self.parameters = parameters\n",
    "        self.lr = lr\n",
    "\n",
    "    def backward(self):\n",
    "        for p in self.parameters:\n",
    "            p.data -= p.grad * self.lr"
   ],
   "id": "8e957cd19466f123",
   "outputs": [],
   "execution_count": 16
  },
  {
   "metadata": {
    "ExecuteTime": {
     "end_time": "2025-09-07T02:50:28.378151Z",
     "start_time": "2025-09-07T02:50:28.373618Z"
    }
   },
   "cell_type": "code",
   "source": [
    "LEARNING_RATE = 0.01\n",
    "BATCHES = 2\n",
    "EPOCHS = 10\n",
    "KERNELS = 3\n",
    "POOLS = 2"
   ],
   "id": "9d239d72c57fb141",
   "outputs": [],
   "execution_count": 17
  },
  {
   "metadata": {
    "ExecuteTime": {
     "end_time": "2025-09-07T02:51:25.269021Z",
     "start_time": "2025-09-07T02:50:28.429443Z"
    }
   },
   "cell_type": "code",
   "source": [
    "dataset = DataLoader(BATCHES)\n",
    "\n",
    "feature, label = dataset[0]\n",
    "_, channel_size, row_size, column_size = feature.shape()\n",
    "conv_row_size = (row_size - KERNELS + 1) // POOLS\n",
    "conv_column_size = (column_size - KERNELS + 1) // POOLS\n",
    "model = Sequential([Convolution2D(channel_size, KERNELS, 16),\n",
    "                    Pool2D(POOLS),\n",
    "                    Flatten(),\n",
    "                    Dropout(),\n",
    "                    Linear(conv_row_size * conv_column_size * 16, 64),\n",
    "                    Tanh(),\n",
    "                    Linear(64, label.size()),\n",
    "                    Softmax()])\n",
    "loss = MSELoss()\n",
    "sgd = SGD(model.parameters(), LEARNING_RATE)\n",
    "\n",
    "for epoch in range(EPOCHS):\n",
    "    for i in range(0, len(dataset), dataset.batch_size):\n",
    "        feature, label = dataset[i]\n",
    "\n",
    "        prediction = model(feature)\n",
    "        error = loss(prediction, label)\n",
    "\n",
    "        error.gradient()\n",
    "        sgd.backward()\n",
    "\n",
    "print(f'prediction: {prediction.data}')\n",
    "print(f'error: {error.data}')"
   ],
   "id": "c4a824364987605",
   "outputs": [
    {
     "name": "stdout",
     "output_type": "stream",
     "text": [
      "prediction: [[4.65538745e-04 1.95740618e-04 2.01629216e-04 3.35078963e-02\n",
      "  1.10319653e-04 2.71299340e-03 1.00077373e-05 9.52186995e-01\n",
      "  1.25589186e-04 1.04832903e-02]\n",
      " [8.29071541e-01 2.65758891e-04 2.30301450e-03 7.27108169e-04\n",
      "  1.77997784e-02 1.31445670e-01 1.33315668e-02 3.05638708e-03\n",
      "  1.11277038e-03 8.86404680e-04]]\n",
      "error: 0.0025266389825080327\n"
     ]
    }
   ],
   "execution_count": 18
  },
  {
   "metadata": {
    "ExecuteTime": {
     "end_time": "2025-09-07T02:51:26.189747Z",
     "start_time": "2025-09-07T02:51:25.317473Z"
    }
   },
   "cell_type": "code",
   "source": [
    "dataset.eval()\n",
    "model.eval()\n",
    "\n",
    "prediction = model(Tensor(dataset.features))\n",
    "result = (prediction.data.argmax(axis=1) == dataset.labels.argmax(axis=1)).sum()\n",
    "print(f'Result: {result} of {len(dataset.features)}')"
   ],
   "id": "f26301ace6407536",
   "outputs": [
    {
     "name": "stdout",
     "output_type": "stream",
     "text": [
      "Result: 895 of 1000\n"
     ]
    }
   ],
   "execution_count": 19
  }
 ],
 "metadata": {
  "kernelspec": {
   "display_name": "Python 3",
   "language": "python",
   "name": "python3"
  },
  "language_info": {
   "codemirror_mode": {
    "name": "ipython",
    "version": 2
   },
   "file_extension": ".py",
   "mimetype": "text/x-python",
   "name": "python",
   "nbconvert_exporter": "python",
   "pygments_lexer": "ipython2",
   "version": "2.7.6"
  }
 },
 "nbformat": 4,
 "nbformat_minor": 5
}
