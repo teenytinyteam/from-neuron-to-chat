{
 "cells": [
  {
   "metadata": {
    "collapsed": true
   },
   "cell_type": "markdown",
   "source": "# Flatten",
   "id": "80180abfaeff3c5a"
  },
  {
   "metadata": {
    "ExecuteTime": {
     "end_time": "2025-09-07T02:46:11.919407Z",
     "start_time": "2025-09-07T02:46:11.841724Z"
    }
   },
   "cell_type": "code",
   "source": [
    "from abc import abstractmethod, ABC\n",
    "import numpy as np\n",
    "\n",
    "np.random.seed(99)"
   ],
   "id": "9b2d5449267de4ef",
   "outputs": [],
   "execution_count": 1
  },
  {
   "metadata": {
    "ExecuteTime": {
     "end_time": "2025-09-07T02:46:11.943624Z",
     "start_time": "2025-09-07T02:46:11.934425Z"
    }
   },
   "cell_type": "code",
   "source": [
    "class Tensor:\n",
    "\n",
    "    def __init__(self, data):\n",
    "        self.data = np.array(data)\n",
    "        self.grad = None\n",
    "        self.gradient_fn = lambda: None\n",
    "        self.parents = set()\n",
    "\n",
    "    def gradient(self):\n",
    "        if self.gradient_fn:\n",
    "            self.gradient_fn()\n",
    "\n",
    "        for p in self.parents:\n",
    "            p.gradient()\n",
    "\n",
    "    def shape(self):\n",
    "        return self.data.shape\n",
    "\n",
    "    def size(self):\n",
    "        return np.prod(self.data.shape[1:])"
   ],
   "id": "4c571bc8442b4821",
   "outputs": [],
   "execution_count": 2
  },
  {
   "metadata": {
    "ExecuteTime": {
     "end_time": "2025-09-07T02:46:11.992646Z",
     "start_time": "2025-09-07T02:46:11.986163Z"
    }
   },
   "cell_type": "code",
   "source": [
    "class DataLoader:\n",
    "\n",
    "    def __init__(self, batch_size):\n",
    "        self.batch_size = batch_size\n",
    "\n",
    "        with (np.load('mini-mnist.npz', allow_pickle=True) as f):\n",
    "            self.x_train, self.y_train = self.normalize(f['x_train'], f['y_train'])\n",
    "            self.x_test, self.y_test = self.normalize(f['x_test'], f['y_test'])\n",
    "\n",
    "        self.train()\n",
    "\n",
    "    @staticmethod\n",
    "    def normalize(x, y):\n",
    "        inputs = x / 255\n",
    "        targets = np.zeros((len(y), 10))\n",
    "        targets[range(len(y)), y] = 1\n",
    "        return inputs, targets\n",
    "\n",
    "    def train(self):\n",
    "        self.features = self.x_train\n",
    "        self.labels = self.y_train\n",
    "\n",
    "    def eval(self):\n",
    "        self.features = self.x_test\n",
    "        self.labels = self.y_test\n",
    "\n",
    "    def __len__(self):  # 3\n",
    "        return len(self.features)\n",
    "\n",
    "    def __getitem__(self, index):  # 4\n",
    "        return (Tensor(self.features[index: index + self.batch_size]),\n",
    "                Tensor(self.labels[index: index + self.batch_size]))"
   ],
   "id": "7049975fc3a10e8a",
   "outputs": [],
   "execution_count": 3
  },
  {
   "metadata": {
    "ExecuteTime": {
     "end_time": "2025-09-07T02:46:12.043683Z",
     "start_time": "2025-09-07T02:46:12.038755Z"
    }
   },
   "cell_type": "code",
   "source": [
    "class Layer(ABC):\n",
    "\n",
    "    def __call__(self, x: Tensor):\n",
    "        return self.forward(x)\n",
    "\n",
    "    @abstractmethod\n",
    "    def forward(self, x: Tensor):\n",
    "        pass\n",
    "\n",
    "    def parameters(self):\n",
    "        return []"
   ],
   "id": "c4641066a8ce0225",
   "outputs": [],
   "execution_count": 4
  },
  {
   "metadata": {
    "ExecuteTime": {
     "end_time": "2025-09-07T02:46:12.103315Z",
     "start_time": "2025-09-07T02:46:12.088873Z"
    }
   },
   "cell_type": "code",
   "source": [
    "class Linear(Layer):\n",
    "\n",
    "    def __init__(self, in_size, out_size):\n",
    "        self.in_size = in_size\n",
    "        self.out_size = out_size\n",
    "\n",
    "        self.weight = Tensor(np.random.rand(out_size, in_size) / in_size)\n",
    "        self.bias = Tensor(np.zeros(out_size))\n",
    "\n",
    "    def forward(self, x: Tensor):\n",
    "        p = Tensor(x.data @ self.weight.data.T + self.bias.data)\n",
    "\n",
    "        def gradient_fn():\n",
    "            self.weight.grad = p.grad.T @ x.data / len(x.data)\n",
    "            self.bias.grad = np.sum(p.grad, axis=0) / len(x.data)\n",
    "            x.grad = p.grad @ self.weight.data\n",
    "\n",
    "        p.gradient_fn = gradient_fn\n",
    "        p.parents = {self.weight, self.bias, x}\n",
    "        return p\n",
    "\n",
    "    def parameters(self):\n",
    "        return [self.weight, self.bias]"
   ],
   "id": "cdf575661cc8a82b",
   "outputs": [],
   "execution_count": 5
  },
  {
   "metadata": {
    "ExecuteTime": {
     "end_time": "2025-09-07T02:46:12.142533Z",
     "start_time": "2025-09-07T02:46:12.139080Z"
    }
   },
   "cell_type": "code",
   "source": [
    "class Sequential(Layer):\n",
    "\n",
    "    def __init__(self, layers):\n",
    "        self.layers = layers\n",
    "\n",
    "    def forward(self, x: Tensor):\n",
    "        for l in self.layers:\n",
    "            x = l(x)\n",
    "        return x\n",
    "\n",
    "    def parameters(self):\n",
    "        return [p for l in self.layers for p in l.parameters()]"
   ],
   "id": "be88306df99ed6ff",
   "outputs": [],
   "execution_count": 6
  },
  {
   "metadata": {
    "ExecuteTime": {
     "end_time": "2025-09-07T02:46:12.193150Z",
     "start_time": "2025-09-07T02:46:12.188600Z"
    }
   },
   "cell_type": "code",
   "source": [
    "class Flatten(Layer):\n",
    "\n",
    "    def forward(self, x: Tensor):\n",
    "        p = Tensor(np.array(x.data.reshape(x.data.shape[0], -1)))\n",
    "\n",
    "        def gradient_fn():\n",
    "            x.grad = p.grad.reshape(x.data.shape)\n",
    "\n",
    "        p.gradient_fn = gradient_fn\n",
    "        p.parents = {x}\n",
    "        return p"
   ],
   "id": "ae45cac3ac6fdf75",
   "outputs": [],
   "execution_count": 7
  },
  {
   "metadata": {
    "ExecuteTime": {
     "end_time": "2025-09-07T02:46:12.248461Z",
     "start_time": "2025-09-07T02:46:12.241663Z"
    }
   },
   "cell_type": "code",
   "source": [
    "class ReLU(Layer):\n",
    "\n",
    "    def forward(self, x: Tensor):\n",
    "        p = Tensor(np.maximum(0, x.data))\n",
    "\n",
    "        def gradient_fn():\n",
    "            x.grad = (p.data > 0) * p.grad\n",
    "\n",
    "        p.gradient_fn = gradient_fn\n",
    "        p.parents = {x}\n",
    "        return p"
   ],
   "id": "162e12019e2d3151",
   "outputs": [],
   "execution_count": 8
  },
  {
   "metadata": {
    "ExecuteTime": {
     "end_time": "2025-09-07T02:46:12.302196Z",
     "start_time": "2025-09-07T02:46:12.296137Z"
    }
   },
   "cell_type": "code",
   "source": [
    "class MSELoss:\n",
    "\n",
    "    def __call__(self, p: Tensor, y: Tensor):\n",
    "        mse = Tensor(((p.data - y.data) ** 2).mean())\n",
    "\n",
    "        def gradient_fn():\n",
    "            p.grad = (p.data - y.data) * 2\n",
    "\n",
    "        mse.gradient_fn = gradient_fn\n",
    "        mse.parents = {p}\n",
    "        return mse"
   ],
   "id": "679da60d3663ff63",
   "outputs": [],
   "execution_count": 9
  },
  {
   "metadata": {
    "ExecuteTime": {
     "end_time": "2025-09-07T02:46:12.359393Z",
     "start_time": "2025-09-07T02:46:12.352950Z"
    }
   },
   "cell_type": "code",
   "source": [
    "class SGD:\n",
    "\n",
    "    def __init__(self, parameters, lr):\n",
    "        self.parameters = parameters\n",
    "        self.lr = lr\n",
    "\n",
    "    def backward(self):\n",
    "        for p in self.parameters:\n",
    "            p.data -= p.grad * self.lr"
   ],
   "id": "69c243b978ea8818",
   "outputs": [],
   "execution_count": 10
  },
  {
   "metadata": {
    "ExecuteTime": {
     "end_time": "2025-09-07T02:46:12.415427Z",
     "start_time": "2025-09-07T02:46:12.410245Z"
    }
   },
   "cell_type": "code",
   "source": [
    "LEARNING_RATE = 0.01\n",
    "BATCHES = 2\n",
    "EPOCHS = 10"
   ],
   "id": "f3e87e643431ae94",
   "outputs": [],
   "execution_count": 11
  },
  {
   "metadata": {
    "ExecuteTime": {
     "end_time": "2025-09-07T02:46:15.919Z",
     "start_time": "2025-09-07T02:46:12.467447Z"
    }
   },
   "cell_type": "code",
   "source": [
    "dataset = DataLoader(BATCHES)\n",
    "\n",
    "feature, label = dataset[0]\n",
    "model = Sequential([Flatten(),\n",
    "                    Linear(feature.size(), 64),\n",
    "                    Linear(64, label.size())])\n",
    "loss = MSELoss()\n",
    "sgd = SGD(model.parameters(), LEARNING_RATE)\n",
    "\n",
    "for epoch in range(EPOCHS):\n",
    "    for i in range(0, len(dataset), dataset.batch_size):\n",
    "        feature, label = dataset[i]\n",
    "\n",
    "        prediction = model(feature)\n",
    "        error = loss(prediction, label)\n",
    "\n",
    "        error.gradient()\n",
    "        sgd.backward()\n",
    "\n",
    "print(f'prediction: {prediction.data}')\n",
    "print(f'error: {error.data}')"
   ],
   "id": "cd84dcf41dd1060a",
   "outputs": [
    {
     "name": "stdout",
     "output_type": "stream",
     "text": [
      "prediction: [[ 0.11083283  0.02134011  0.17679583  0.22544495  0.04815652  0.07399061\n",
      "  -0.0407456   0.65842557 -0.20715554 -0.06561596]\n",
      " [ 0.45772509  0.1258233   0.16573017  0.0086728   0.24667893  0.2344905\n",
      "  -0.07729493  0.12763943 -0.1453146  -0.14211867]]\n",
      "error: 0.03925096495676775\n"
     ]
    }
   ],
   "execution_count": 12
  },
  {
   "metadata": {
    "ExecuteTime": {
     "end_time": "2025-09-07T02:46:15.950138Z",
     "start_time": "2025-09-07T02:46:15.928871Z"
    }
   },
   "cell_type": "code",
   "source": [
    "dataset.eval()\n",
    "\n",
    "prediction = model(Tensor(dataset.features))\n",
    "result = (prediction.data.argmax(axis=1) == dataset.labels.argmax(axis=1)).sum()\n",
    "print(f'Result: {result} of {len(dataset.features)}')"
   ],
   "id": "11fce69baea3d821",
   "outputs": [
    {
     "name": "stdout",
     "output_type": "stream",
     "text": [
      "Result: 843 of 1000\n"
     ]
    }
   ],
   "execution_count": 13
  }
 ],
 "metadata": {
  "kernelspec": {
   "display_name": "Python 3",
   "language": "python",
   "name": "python3"
  },
  "language_info": {
   "codemirror_mode": {
    "name": "ipython",
    "version": 2
   },
   "file_extension": ".py",
   "mimetype": "text/x-python",
   "name": "python",
   "nbconvert_exporter": "python",
   "pygments_lexer": "ipython2",
   "version": "2.7.6"
  }
 },
 "nbformat": 4,
 "nbformat_minor": 5
}
