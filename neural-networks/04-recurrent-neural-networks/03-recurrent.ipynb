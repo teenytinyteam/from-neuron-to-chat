{
 "cells": [
  {
   "metadata": {
    "collapsed": true
   },
   "cell_type": "markdown",
   "source": "# Recurrent",
   "id": "829a199bf6cfb1c8"
  },
  {
   "metadata": {
    "ExecuteTime": {
     "end_time": "2025-09-07T02:57:42.702446Z",
     "start_time": "2025-09-07T02:57:42.544893Z"
    }
   },
   "cell_type": "code",
   "source": [
    "import csv\n",
    "import re\n",
    "from abc import ABC, abstractmethod\n",
    "import numpy as np"
   ],
   "id": "d32722c1079840e",
   "outputs": [],
   "execution_count": 1
  },
  {
   "metadata": {
    "ExecuteTime": {
     "end_time": "2025-09-07T02:57:42.718349Z",
     "start_time": "2025-09-07T02:57:42.710506Z"
    }
   },
   "cell_type": "code",
   "source": [
    "class Tensor:\n",
    "\n",
    "    def __init__(self, data):\n",
    "        self.data = np.array(data)\n",
    "        self.grad = None\n",
    "        self.gradient_fn = lambda: None\n",
    "        self.parents = set()\n",
    "\n",
    "    def gradient(self):\n",
    "        if self.gradient_fn:\n",
    "            self.gradient_fn()\n",
    "\n",
    "        for p in self.parents:\n",
    "            p.gradient()\n",
    "\n",
    "    def shape(self):\n",
    "        return self.data.shape\n",
    "\n",
    "    def size(self):\n",
    "        return np.prod(self.data.shape[1:])\n",
    "\n",
    "    def concat(self, other, axis):\n",
    "        p = Tensor(np.concatenate([self.data, other.data], axis=axis))\n",
    "\n",
    "        def gradient_fn():\n",
    "            self.grad, other.grad = np.split(p.grad, [self.data.shape[axis]], axis=axis)\n",
    "\n",
    "        p.gradient_fn = gradient_fn\n",
    "        p.parents = {self, other}\n",
    "        return p"
   ],
   "id": "8794646b8cdcc96f",
   "outputs": [],
   "execution_count": 2
  },
  {
   "metadata": {
    "ExecuteTime": {
     "end_time": "2025-09-07T02:57:42.763705Z",
     "start_time": "2025-09-07T02:57:42.758167Z"
    }
   },
   "cell_type": "code",
   "source": [
    "class Sequence:\n",
    "\n",
    "    def __init__(self, tokens, vocabulary_size, batch_size):\n",
    "        self.tokens = tokens\n",
    "        self.vocabulary_size = vocabulary_size\n",
    "        self.batch_size = batch_size\n",
    "\n",
    "    def __len__(self):\n",
    "        return len(self.tokens) - self.batch_size\n",
    "\n",
    "    def __getitem__(self, index):\n",
    "        return (Tensor([self.tokens[index:index + self.batch_size]]),\n",
    "                Tensor([self.embedding(self.tokens[index + self.batch_size:\n",
    "                                                   index + self.batch_size + 1])]))\n",
    "\n",
    "    def embedding(self, index):\n",
    "        ebd = np.zeros(self.vocabulary_size)\n",
    "        ebd[index] = 1\n",
    "        return ebd"
   ],
   "id": "4f2b69bc5a030252",
   "outputs": [],
   "execution_count": 3
  },
  {
   "metadata": {
    "ExecuteTime": {
     "end_time": "2025-09-07T02:57:42.817946Z",
     "start_time": "2025-09-07T02:57:42.810475Z"
    }
   },
   "cell_type": "code",
   "source": [
    "class DataLoader:\n",
    "\n",
    "    def __init__(self, sequence_batch_size):\n",
    "        self.sequence_batch_size = sequence_batch_size\n",
    "\n",
    "        self.reviews = []\n",
    "        self.sentiments = []\n",
    "        with open('reviews.csv', 'r', encoding='utf-8') as f:\n",
    "            reader = csv.reader(f)\n",
    "            next(reader)\n",
    "            for _, row in enumerate(reader):\n",
    "                self.reviews.append(row[0])\n",
    "                self.sentiments.append(row[1])\n",
    "\n",
    "        split_reviews = []\n",
    "        for r in self.reviews:\n",
    "            split_reviews.append(self.clean_text(r.lower()).split())\n",
    "\n",
    "        self.vocabulary = set(w for r in split_reviews for w in r)\n",
    "        self.word2index = {w: idx for idx, w in enumerate(self.vocabulary)}\n",
    "        self.index2word = {idx: w for idx, w in enumerate(self.vocabulary)}\n",
    "        self.tokens = [[self.word2index[w] for w in r if w in self.word2index] for r in split_reviews]\n",
    "\n",
    "        self.train()\n",
    "\n",
    "    @staticmethod\n",
    "    def clean_text(text):\n",
    "        txt = re.sub(r'<[^>]+>', '', text)\n",
    "        txt = re.sub(r'[^a-zA-Z0-9\\s]', '', txt)\n",
    "        return txt\n",
    "\n",
    "    def encode(self, text):\n",
    "        words = self.clean_text(text.lower()).split()\n",
    "        return [self.word2index[word] for word in words]\n",
    "\n",
    "    def decode(self, tokens):\n",
    "        return \" \".join([self.index2word[index] for index in tokens])\n",
    "\n",
    "    def train(self):\n",
    "        self.sequences = self.tokens[:-10]\n",
    "\n",
    "    def eval(self):\n",
    "        self.sequences = self.tokens[-10:]\n",
    "\n",
    "    def __len__(self):\n",
    "        return len(self.sequences)\n",
    "\n",
    "    def __getitem__(self, index):\n",
    "        return Sequence(self.sequences[index], len(self.vocabulary), self.sequence_batch_size)\n"
   ],
   "id": "5802c7e229573582",
   "outputs": [],
   "execution_count": 4
  },
  {
   "metadata": {
    "ExecuteTime": {
     "end_time": "2025-09-07T02:57:42.868697Z",
     "start_time": "2025-09-07T02:57:42.863270Z"
    }
   },
   "cell_type": "code",
   "source": [
    "class Layer(ABC):\n",
    "\n",
    "    def __init__(self):\n",
    "        self.training = True\n",
    "\n",
    "    def __call__(self, *args):\n",
    "        return self.forward(*args)\n",
    "\n",
    "    @abstractmethod\n",
    "    def forward(self, *args):\n",
    "        pass\n",
    "\n",
    "    def parameters(self):\n",
    "        return []\n",
    "\n",
    "    def train(self):\n",
    "        self.training = True\n",
    "\n",
    "    def eval(self):\n",
    "        self.training = False"
   ],
   "id": "3fadf3974f32e192",
   "outputs": [],
   "execution_count": 5
  },
  {
   "metadata": {
    "ExecuteTime": {
     "end_time": "2025-09-07T02:57:42.928945Z",
     "start_time": "2025-09-07T02:57:42.914885Z"
    }
   },
   "cell_type": "code",
   "source": [
    "np.random.seed(99)\n",
    "\n",
    "class Linear(Layer):\n",
    "\n",
    "    def __init__(self, in_size, out_size):\n",
    "        super().__init__()\n",
    "        self.in_size = in_size\n",
    "        self.out_size = out_size\n",
    "\n",
    "        self.weight = Tensor(np.random.rand(out_size, in_size) / in_size)\n",
    "        self.bias = Tensor(np.zeros(out_size))\n",
    "\n",
    "    def forward(self, x: Tensor):\n",
    "        p = Tensor(x.data @ self.weight.data.T + self.bias.data)\n",
    "\n",
    "        def gradient_fn():\n",
    "            self.weight.grad = p.grad.T @ x.data\n",
    "            self.bias.grad = np.sum(p.grad, axis=0)\n",
    "            x.grad = p.grad @ self.weight.data\n",
    "\n",
    "        p.gradient_fn = gradient_fn\n",
    "        p.parents = {self.weight, self.bias, x}\n",
    "        return p\n",
    "\n",
    "    def parameters(self):\n",
    "        return [self.weight, self.bias]"
   ],
   "id": "b514893a5f9869b8",
   "outputs": [],
   "execution_count": 6
  },
  {
   "metadata": {
    "ExecuteTime": {
     "end_time": "2025-09-07T02:57:42.968961Z",
     "start_time": "2025-09-07T02:57:42.964801Z"
    }
   },
   "cell_type": "code",
   "source": [
    "class Sequential(Layer):\n",
    "\n",
    "    def __init__(self, layers):\n",
    "        super().__init__()\n",
    "        self.layers = layers\n",
    "\n",
    "    def forward(self, x: Tensor):\n",
    "        for l in self.layers:\n",
    "            x = l(x)\n",
    "        return x\n",
    "\n",
    "    def parameters(self):\n",
    "        return [p for l in self.layers for p in l.parameters()]\n",
    "\n",
    "    def train(self):\n",
    "        for l in self.layers:\n",
    "            l.train()\n",
    "\n",
    "    def eval(self):\n",
    "        for l in self.layers:\n",
    "            l.eval()"
   ],
   "id": "af5d1500aeed00a7",
   "outputs": [],
   "execution_count": 7
  },
  {
   "metadata": {
    "ExecuteTime": {
     "end_time": "2025-09-07T02:57:43.018883Z",
     "start_time": "2025-09-07T02:57:43.013883Z"
    }
   },
   "cell_type": "code",
   "source": [
    "class Embedding(Layer):\n",
    "\n",
    "    def __init__(self, vocabulary_size, embedding_size, axis=1):\n",
    "        super().__init__()\n",
    "        self.vocabulary_size = vocabulary_size\n",
    "        self.embedding_size = embedding_size\n",
    "        self.axis = axis\n",
    "\n",
    "        self.weight = Tensor(np.random.rand(embedding_size, vocabulary_size) / vocabulary_size)\n",
    "\n",
    "    def forward(self, x: Tensor):\n",
    "        p = Tensor(np.sum(self.weight.data.T[x.data], axis=self.axis))\n",
    "\n",
    "        def gradient_fn():\n",
    "            if self.weight.grad is None:\n",
    "                self.weight.grad = np.zeros_like(self.weight.data)\n",
    "            self.weight.grad.T[x.data] += p.grad\n",
    "\n",
    "        p.gradient_fn = gradient_fn\n",
    "        p.parents = {self.weight}\n",
    "        return p\n",
    "\n",
    "    def parameters(self):\n",
    "        return [self.weight]"
   ],
   "id": "dc22d38d307eb035",
   "outputs": [],
   "execution_count": 8
  },
  {
   "metadata": {
    "ExecuteTime": {
     "end_time": "2025-09-07T02:57:43.072276Z",
     "start_time": "2025-09-07T02:57:43.066255Z"
    }
   },
   "cell_type": "code",
   "source": [
    "class Tanh(Layer):\n",
    "\n",
    "    def forward(self, x: Tensor):\n",
    "        p = Tensor(np.tanh(x.data))\n",
    "\n",
    "        def gradient_fn():\n",
    "            x.grad = p.grad * (1 - p.data ** 2)\n",
    "\n",
    "        p.gradient_fn = gradient_fn\n",
    "        p.parents = {x}\n",
    "        return p"
   ],
   "id": "25aaf9981dbb44d7",
   "outputs": [],
   "execution_count": 9
  },
  {
   "metadata": {
    "ExecuteTime": {
     "end_time": "2025-09-07T02:57:43.124736Z",
     "start_time": "2025-09-07T02:57:43.119355Z"
    }
   },
   "cell_type": "code",
   "source": [
    "class BCELoss:\n",
    "\n",
    "    def __call__(self, p: Tensor, y: Tensor):\n",
    "        clipped = np.clip(p.data, 1e-7, 1 - 1e-7)\n",
    "        bce = Tensor(-np.mean(y.data * np.log(clipped)\n",
    "                              + (1 - y.data) * np.log(1 - clipped)))\n",
    "\n",
    "        def gradient_fn():\n",
    "            p.grad = (clipped - y.data) / (clipped * (1 - clipped) * len(p.data))\n",
    "\n",
    "        bce.gradient_fn = gradient_fn\n",
    "        bce.parents = {p}\n",
    "        return bce"
   ],
   "id": "a83f2cb332b79c74",
   "outputs": [],
   "execution_count": 10
  },
  {
   "metadata": {
    "ExecuteTime": {
     "end_time": "2025-09-07T02:57:43.173957Z",
     "start_time": "2025-09-07T02:57:43.170175Z"
    }
   },
   "cell_type": "code",
   "source": [
    "class SGD:\n",
    "\n",
    "    def __init__(self, parameters, lr):\n",
    "        self.parameters = parameters\n",
    "        self.lr = lr\n",
    "\n",
    "    def backward(self):\n",
    "        for p in self.parameters:\n",
    "            p.data -= p.grad * self.lr"
   ],
   "id": "b7074b3d59ca21de",
   "outputs": [],
   "execution_count": 11
  },
  {
   "metadata": {
    "ExecuteTime": {
     "end_time": "2025-09-07T02:57:43.230313Z",
     "start_time": "2025-09-07T02:57:43.221812Z"
    }
   },
   "cell_type": "code",
   "source": [
    "class RNN(Layer):\n",
    "\n",
    "    def __init__(self, vocabulary_size, embedding_size):\n",
    "        super().__init__()\n",
    "        self.vocabulary_size = vocabulary_size\n",
    "        self.embedding_size = embedding_size\n",
    "\n",
    "        self.embedding = Embedding(vocabulary_size, embedding_size)\n",
    "        self.update = Linear(embedding_size * 2, embedding_size)\n",
    "        self.hidden = Linear(embedding_size, embedding_size)\n",
    "        self.output = Linear(embedding_size, vocabulary_size)\n",
    "        self.tanh = Tanh()\n",
    "\n",
    "        self.layers = [self.embedding,\n",
    "                       self.update,\n",
    "                       self.hidden,\n",
    "                       self.output,\n",
    "                       self.tanh]\n",
    "\n",
    "    def __call__(self, x: Tensor, h: Tensor):\n",
    "        return self.forward(x, h)\n",
    "\n",
    "    def forward(self, x: Tensor, h: Tensor):\n",
    "        if not h:\n",
    "            h = Tensor(np.zeros((1, self.embedding_size)))\n",
    "\n",
    "        embedding_feature = self.embedding(x)\n",
    "        concat_feature = embedding_feature.concat(h, axis=1)\n",
    "        cell_hidden = self.tanh(self.update(concat_feature))\n",
    "        hidden_feature = self.tanh(self.hidden(cell_hidden))\n",
    "\n",
    "        return (self.output(hidden_feature),\n",
    "                Tensor(hidden_feature.data))\n",
    "\n",
    "    def parameters(self):\n",
    "        return [p for l in self.layers for p in l.parameters()]"
   ],
   "id": "caeebf1486871e4f",
   "outputs": [],
   "execution_count": 12
  },
  {
   "metadata": {
    "ExecuteTime": {
     "end_time": "2025-09-07T02:57:43.285247Z",
     "start_time": "2025-09-07T02:57:43.280732Z"
    }
   },
   "cell_type": "code",
   "source": [
    "LEARNING_RATE = 0.02\n",
    "BATCHES = 2\n",
    "EPOCHS = 100"
   ],
   "id": "deb2e8d12ea60648",
   "outputs": [],
   "execution_count": 13
  },
  {
   "metadata": {
    "ExecuteTime": {
     "end_time": "2025-09-07T02:58:23.788704Z",
     "start_time": "2025-09-07T02:57:43.337960Z"
    }
   },
   "cell_type": "code",
   "source": [
    "dataset = DataLoader(BATCHES)\n",
    "\n",
    "model = RNN(len(dataset.vocabulary), 64)\n",
    "\n",
    "loss = BCELoss()\n",
    "sgd = SGD(model.parameters(), lr=LEARNING_RATE)\n",
    "\n",
    "for epoch in range(EPOCHS):\n",
    "    for i in range(len(dataset)):\n",
    "        sequence = dataset[i]\n",
    "\n",
    "        hidden = None\n",
    "        for i in range(len(sequence)):\n",
    "            feature, label = sequence[i]\n",
    "\n",
    "            prediction, hidden = model(feature, hidden)\n",
    "            error = loss(prediction, label)\n",
    "\n",
    "            error.gradient()\n",
    "            sgd.backward()\n",
    "\n",
    "print(f'Prediction: {prediction.data}')\n",
    "print(f'Error: {error.data}')"
   ],
   "id": "4e2cc14f5848a137",
   "outputs": [
    {
     "name": "stdout",
     "output_type": "stream",
     "text": [
      "Prediction: [[  -530998.53561824   -529199.27783194   -531273.7816793\n",
      "    -528162.03018178   -532003.87226925   -521112.61431277\n",
      "    -528932.0423276    -531995.88997791  12476001.68498749\n",
      "    -529977.22140357   -531233.86920703   -527643.371929\n",
      "    -531792.46554565   -532051.73897462   -532311.07185013\n",
      "    -531792.4231392    -530755.17170836 -13120050.16690759\n",
      "    -531265.84678557   -527643.35941833   -532051.72718975\n",
      "    -520633.84485558   -531265.81214962   -527124.67090203\n",
      "    -530487.87013227   -527902.69979382   -532051.7164006\n",
      "    -532051.7463024    -532506.60860829   -528931.93160703\n",
      "    -528672.64511437   -526849.45592028   -528796.29589824\n",
      "    -532562.43584646   -527116.7779875    -532051.82776411\n",
      "    -531273.78956488   -531792.41247323   -526865.42678404\n",
      "    -523123.34159553   -533819.04579531   -532287.13562413\n",
      "    -523219.13904981   -533033.12666016   -527124.68501688\n",
      "    -532051.74447201   -521639.2530818    -532303.12595944\n",
      "    -531792.51395828   -530650.71574583   -529709.90073529\n",
      "    -527384.00704679   -533567.79195842   -533033.12942311\n",
      "    -533788.56495918   -531724.50526431   -531784.4843013\n",
      "    -531006.51581316   -521898.58798149   -532562.42234863\n",
      "    -530236.50963941   -528923.98809655   -534046.48391356\n",
      "    -531792.45051708   -530495.87182565   -505206.52020743\n",
      "   -6414196.07915656   -527635.41420111   -531792.42467716\n",
      "    -529717.82927144   -532051.80684597   -531784.41866911\n",
      "    -532051.76588772   -532311.04900378   -529458.57100386\n",
      "    -526330.86237229   -528162.01581225   -517757.44468554\n",
      "    -532051.72744287   -530755.11881684   -530755.17387097\n",
      "    -532051.77447016   -531257.81187768   -524790.91121519\n",
      "    -532765.8063115    -531792.40161726]]\n",
      "Error: 0.3748395314237608\n"
     ]
    }
   ],
   "execution_count": 14
  },
  {
   "metadata": {
    "ExecuteTime": {
     "end_time": "2025-09-07T02:58:23.870158Z",
     "start_time": "2025-09-07T02:58:23.834345Z"
    }
   },
   "cell_type": "code",
   "source": [
    "dataset.eval()\n",
    "\n",
    "for i in range(len(dataset)):\n",
    "    sequence = dataset[i]\n",
    "\n",
    "    feature, label = sequence[0]\n",
    "    original = sequence.tokens[:BATCHES]\n",
    "    generated = original.copy()\n",
    "\n",
    "    hidden = None\n",
    "    for j in range(len(sequence)):\n",
    "        feature, label = sequence[j]\n",
    "\n",
    "        prediction, hidden = model(feature, hidden)\n",
    "        original.append(sequence.tokens[j + BATCHES])\n",
    "        generated.append(prediction.data.argmax())\n",
    "\n",
    "    print(f'original: {dataset.decode(original)}')\n",
    "    print(f'generated: {dataset.decode(generated)}')"
   ],
   "id": "efba24e6321b3870",
   "outputs": [
    {
     "name": "stdout",
     "output_type": "stream",
     "text": [
      "original: worst movie with awful music the actor did a boring job actress director character screenplay scene but or it at by\n",
      "generated: worst movie actor actor is is is is is is is is is is is is is is is is is\n",
      "original: i recommend this film the actress was wonderful and the music was amazing actor director character scene plot by was\n",
      "generated: i recommend is is is is is actor actor is is is actor actor is is is is is is\n",
      "original: poor movie the story and actor were terrible i disappointed the director actress character action screenplay scene by is\n",
      "generated: poor movie actor actor is is is is is is is is is is is is is is is\n",
      "original: excellent film i saw this time perfect performance by the actor and actress director screenplay scene character his her\n",
      "generated: excellent film is is is is is is is is is is is is is is is is is\n",
      "original: boring movie with poor effect the director did a awful job actor character actress screenplay music plot by was is\n",
      "generated: boring movie actor actor is is is is is is is is is is is is is is is actor\n",
      "original: this film was wonderful i loved the plot and actress the scene was amazing director character actor screenplay his her\n",
      "generated: this film is actor actor is is is is is is is is actor actor is is is is is\n",
      "original: great movie the actor and screenplay were excellent i enjoyed the visual actress character scene script music effect or\n",
      "generated: great movie actor actor is is is is is is is is is is is is is is is\n",
      "original: i waste of time the screenplay was boring and the scene was awful actor actress character screenplay music effect by\n",
      "generated: i waste is is is is is actor actor is is is actor actor is is is is is is\n",
      "original: best film with fantastic soundtrack the director did a perfect job actor actress character scene screenplay music in on\n",
      "generated: best film is is is is is is is is is is is is is is is is is\n",
      "original: this movie was terrible i hated the story and actor the scene was poor actress director character screenplay action by\n",
      "generated: this movie actor actor actor is is is is is is is is actor actor is is is is is\n"
     ]
    }
   ],
   "execution_count": 15
  }
 ],
 "metadata": {
  "kernelspec": {
   "display_name": "Python 3",
   "language": "python",
   "name": "python3"
  },
  "language_info": {
   "codemirror_mode": {
    "name": "ipython",
    "version": 2
   },
   "file_extension": ".py",
   "mimetype": "text/x-python",
   "name": "python",
   "nbconvert_exporter": "python",
   "pygments_lexer": "ipython2",
   "version": "2.7.6"
  }
 },
 "nbformat": 4,
 "nbformat_minor": 5
}
