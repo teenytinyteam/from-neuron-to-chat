{
 "cells": [
  {
   "metadata": {
    "collapsed": true
   },
   "cell_type": "markdown",
   "source": "# 第4章 学习的节奏：学习率",
   "id": "8b1718296e14f742"
  },
  {
   "metadata": {
    "ExecuteTime": {
     "end_time": "2025-09-07T02:39:12.007945Z",
     "start_time": "2025-09-07T02:39:11.931169Z"
    }
   },
   "cell_type": "code",
   "source": "import numpy as np",
   "id": "c790c2847a5addf8",
   "outputs": [],
   "execution_count": 1
  },
  {
   "metadata": {
    "ExecuteTime": {
     "end_time": "2025-09-07T02:39:12.042096Z",
     "start_time": "2025-09-07T02:39:12.035683Z"
    }
   },
   "cell_type": "code",
   "source": [
    "feature = np.array([28.1, 58.0])\n",
    "label = np.array([165])"
   ],
   "id": "f75679cccb656250",
   "outputs": [],
   "execution_count": 2
  },
  {
   "metadata": {
    "ExecuteTime": {
     "end_time": "2025-09-07T02:39:12.086688Z",
     "start_time": "2025-09-07T02:39:12.083343Z"
    }
   },
   "cell_type": "code",
   "source": [
    "weight = np.ones([1, 2]) / 2\n",
    "bias = np.zeros(1)"
   ],
   "id": "245a524c6f8e8384",
   "outputs": [],
   "execution_count": 3
  },
  {
   "metadata": {
    "ExecuteTime": {
     "end_time": "2025-09-07T02:39:12.138057Z",
     "start_time": "2025-09-07T02:39:12.133302Z"
    }
   },
   "cell_type": "code",
   "source": [
    "def forward(x, w, b):\n",
    "    return x @ w.T + b\n",
    "\n",
    "def backward(x, d, w, b, lr):\n",
    "    return w - d * x * lr, b - np.sum(d) * lr"
   ],
   "id": "571cda810bf15d32",
   "outputs": [],
   "execution_count": 4
  },
  {
   "metadata": {
    "ExecuteTime": {
     "end_time": "2025-09-07T02:39:12.187200Z",
     "start_time": "2025-09-07T02:39:12.183637Z"
    }
   },
   "cell_type": "code",
   "source": [
    "def mse_loss(p, y):\n",
    "    return ((p - y) ** 2).mean()\n",
    "\n",
    "def gradient(p, y):\n",
    "    return (p - y) * 2"
   ],
   "id": "2b55e473b09915ee",
   "outputs": [],
   "execution_count": 5
  },
  {
   "metadata": {
    "ExecuteTime": {
     "end_time": "2025-09-07T02:39:12.238984Z",
     "start_time": "2025-09-07T02:39:12.233471Z"
    }
   },
   "cell_type": "code",
   "source": "LEARNING_RATE = 0.00001",
   "id": "795e2c55652c26ab",
   "outputs": [],
   "execution_count": 6
  },
  {
   "metadata": {
    "ExecuteTime": {
     "end_time": "2025-09-07T02:39:12.298111Z",
     "start_time": "2025-09-07T02:39:12.290234Z"
    }
   },
   "cell_type": "code",
   "source": [
    "prediction = forward(feature, weight, bias)\n",
    "error = mse_loss(prediction, label)\n",
    "\n",
    "delta = gradient(prediction, label)\n",
    "weight, bias = backward(feature, delta, weight, bias, LEARNING_RATE)\n",
    "\n",
    "print(f'prediction: {prediction}')\n",
    "print(f'error: {error}')\n",
    "print(f\"weight: {weight}\")\n",
    "print(f\"bias: {bias}\")"
   ],
   "id": "f9c2087f7685165d",
   "outputs": [
    {
     "name": "stdout",
     "output_type": "stream",
     "text": [
      "prediction: [43.05]\n",
      "error: 14871.802500000002\n",
      "weight: [[0.5685359 0.641462 ]]\n",
      "bias: [0.002439]\n"
     ]
    }
   ],
   "execution_count": 7
  }
 ],
 "metadata": {
  "kernelspec": {
   "display_name": "Python 3",
   "language": "python",
   "name": "python3"
  },
  "language_info": {
   "codemirror_mode": {
    "name": "ipython",
    "version": 2
   },
   "file_extension": ".py",
   "mimetype": "text/x-python",
   "name": "python",
   "nbconvert_exporter": "python",
   "pygments_lexer": "ipython2",
   "version": "2.7.6"
  }
 },
 "nbformat": 4,
 "nbformat_minor": 5
}
