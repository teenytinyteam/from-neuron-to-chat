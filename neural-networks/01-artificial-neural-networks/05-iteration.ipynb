{
 "cells": [
  {
   "metadata": {
    "collapsed": true
   },
   "cell_type": "markdown",
   "source": "# 第5章 从数据中学习：训练迭代",
   "id": "bd2413e6bd0413ac"
  },
  {
   "metadata": {
    "ExecuteTime": {
     "end_time": "2025-09-07T02:30:41.487456Z",
     "start_time": "2025-09-07T02:30:41.479863Z"
    }
   },
   "cell_type": "code",
   "source": "import numpy as np",
   "id": "f33796948bbd3b9d",
   "outputs": [],
   "execution_count": 8
  },
  {
   "metadata": {
    "ExecuteTime": {
     "end_time": "2025-09-07T02:30:41.510650Z",
     "start_time": "2025-09-07T02:30:41.507176Z"
    }
   },
   "cell_type": "code",
   "source": [
    "features = np.array([[28.1, 58.0],\n",
    "                     [22.5, 72.0],\n",
    "                     [31.4, 45.0],\n",
    "                     [19.8, 85.0],\n",
    "                     [27.6, 63]])\n",
    "labels = np.array([[165],\n",
    "                   [95],\n",
    "                   [210],\n",
    "                   [70],\n",
    "                   [155]])"
   ],
   "id": "9cf97e0aff1109f0",
   "outputs": [],
   "execution_count": 9
  },
  {
   "metadata": {
    "ExecuteTime": {
     "end_time": "2025-09-07T02:30:41.565591Z",
     "start_time": "2025-09-07T02:30:41.561902Z"
    }
   },
   "cell_type": "code",
   "source": [
    "weight = np.ones([1, 2]) / 2\n",
    "bias = np.zeros(1)"
   ],
   "id": "5fd7c2799d4415a9",
   "outputs": [],
   "execution_count": 10
  },
  {
   "metadata": {
    "ExecuteTime": {
     "end_time": "2025-09-07T02:30:41.616415Z",
     "start_time": "2025-09-07T02:30:41.612797Z"
    }
   },
   "cell_type": "code",
   "source": [
    "def forward(x, w, b):\n",
    "    return x @ w.T + b\n",
    "\n",
    "def backward(x, d, w, b, lr):\n",
    "    return w - d * x * lr, b - np.sum(d) * lr"
   ],
   "id": "20d04d9eb374f532",
   "outputs": [],
   "execution_count": 11
  },
  {
   "metadata": {
    "ExecuteTime": {
     "end_time": "2025-09-07T02:30:41.670705Z",
     "start_time": "2025-09-07T02:30:41.666383Z"
    }
   },
   "cell_type": "code",
   "source": [
    "def mse_loss(p, y):\n",
    "    return ((p - y) ** 2).mean()\n",
    "\n",
    "def gradient(p, y):\n",
    "    return (p - y) * 2"
   ],
   "id": "647d598dffd11b77",
   "outputs": [],
   "execution_count": 12
  },
  {
   "metadata": {
    "ExecuteTime": {
     "end_time": "2025-09-07T02:30:41.721121Z",
     "start_time": "2025-09-07T02:30:41.718609Z"
    }
   },
   "cell_type": "code",
   "source": "LEARNING_RATE = 0.00001",
   "id": "698bf415ae4df244",
   "outputs": [],
   "execution_count": 13
  },
  {
   "metadata": {
    "ExecuteTime": {
     "end_time": "2025-09-07T02:30:41.797962Z",
     "start_time": "2025-09-07T02:30:41.780297Z"
    }
   },
   "cell_type": "code",
   "source": [
    "for i in range(len(features)):\n",
    "    feature = features[i]\n",
    "    label = labels[i]\n",
    "\n",
    "    prediction = forward(feature, weight, bias)\n",
    "    error = mse_loss(prediction, label)\n",
    "\n",
    "    delta = gradient(prediction, label)\n",
    "    weight, bias = backward(feature, delta, weight, bias, LEARNING_RATE)\n",
    "\n",
    "print(f'prediction: {prediction}')\n",
    "print(f'error: {error}')\n",
    "print(f\"weight: {weight}\")\n",
    "print(f\"bias: {bias}\")"
   ],
   "id": "aafcbc64d6062dd1",
   "outputs": [
    {
     "name": "stdout",
     "output_type": "stream",
     "text": [
      "prediction: [69.9572639]\n",
      "error: 7232.266962624995\n",
      "weight: [[0.72658722 0.91974158]]\n",
      "bias: [0.00777326]\n"
     ]
    }
   ],
   "execution_count": 14
  }
 ],
 "metadata": {
  "kernelspec": {
   "display_name": "Python 3",
   "language": "python",
   "name": "python3"
  },
  "language_info": {
   "codemirror_mode": {
    "name": "ipython",
    "version": 2
   },
   "file_extension": ".py",
   "mimetype": "text/x-python",
   "name": "python",
   "nbconvert_exporter": "python",
   "pygments_lexer": "ipython2",
   "version": "2.7.6"
  }
 },
 "nbformat": 4,
 "nbformat_minor": 5
}
