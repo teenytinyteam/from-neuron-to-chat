{
 "cells": [
  {
   "metadata": {},
   "cell_type": "markdown",
   "source": "# Linear Prediction",
   "id": "a1146e84786b39ad"
  },
  {
   "metadata": {
    "ExecuteTime": {
     "end_time": "2025-09-07T02:38:42.572426Z",
     "start_time": "2025-09-07T02:38:42.488551Z"
    }
   },
   "cell_type": "code",
   "source": "import numpy as np",
   "id": "c149cd39b2b71e65",
   "outputs": [],
   "execution_count": 1
  },
  {
   "metadata": {
    "ExecuteTime": {
     "end_time": "2025-09-07T02:38:42.593706Z",
     "start_time": "2025-09-07T02:38:42.586240Z"
    }
   },
   "cell_type": "code",
   "source": "feature = np.array([28.1, 58.0])",
   "id": "b050dedb74880075",
   "outputs": [],
   "execution_count": 2
  },
  {
   "metadata": {
    "ExecuteTime": {
     "end_time": "2025-09-07T02:38:42.637205Z",
     "start_time": "2025-09-07T02:38:42.633817Z"
    }
   },
   "cell_type": "code",
   "source": [
    "weight = np.ones([1, 2]) / 2\n",
    "bias = np.zeros(1)"
   ],
   "id": "2ca162b2695374a5",
   "outputs": [],
   "execution_count": 3
  },
  {
   "metadata": {
    "ExecuteTime": {
     "end_time": "2025-09-07T02:38:42.685208Z",
     "start_time": "2025-09-07T02:38:42.682439Z"
    }
   },
   "cell_type": "code",
   "source": [
    "def forward(x, w, b):\n",
    "    return x @ w.T + b"
   ],
   "id": "3b76e5123d224f89",
   "outputs": [],
   "execution_count": 4
  },
  {
   "metadata": {
    "ExecuteTime": {
     "end_time": "2025-09-07T02:38:42.737626Z",
     "start_time": "2025-09-07T02:38:42.732674Z"
    }
   },
   "cell_type": "code",
   "source": [
    "prediction = forward(feature, weight, bias)\n",
    "\n",
    "print(f'prediction: {prediction}')"
   ],
   "id": "948220ad6a79e733",
   "outputs": [
    {
     "name": "stdout",
     "output_type": "stream",
     "text": [
      "prediction: [43.05]\n"
     ]
    }
   ],
   "execution_count": 5
  }
 ],
 "metadata": {
  "kernelspec": {
   "display_name": "Python 3",
   "language": "python",
   "name": "python3"
  },
  "language_info": {
   "codemirror_mode": {
    "name": "ipython",
    "version": 2
   },
   "file_extension": ".py",
   "mimetype": "text/x-python",
   "name": "python",
   "nbconvert_exporter": "python",
   "pygments_lexer": "ipython2",
   "version": "2.7.6"
  }
 },
 "nbformat": 4,
 "nbformat_minor": 5
}
