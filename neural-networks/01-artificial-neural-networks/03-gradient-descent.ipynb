{
 "cells": [
  {
   "metadata": {
    "collapsed": true
   },
   "cell_type": "markdown",
   "source": "# 机器如何学习？：梯度下降",
   "id": "858e685ef64b01ed"
  },
  {
   "metadata": {
    "ExecuteTime": {
     "end_time": "2025-09-07T02:38:37.671472Z",
     "start_time": "2025-09-07T02:38:37.562977Z"
    }
   },
   "cell_type": "code",
   "source": "import numpy as np",
   "id": "98f522323c77cd1f",
   "outputs": [],
   "execution_count": 2
  },
  {
   "metadata": {
    "ExecuteTime": {
     "end_time": "2025-09-07T02:38:37.684091Z",
     "start_time": "2025-09-07T02:38:37.681281Z"
    }
   },
   "cell_type": "code",
   "source": [
    "feature = np.array([28.1, 58.0])\n",
    "label = np.array([165])"
   ],
   "id": "2f34f29db0c1a088",
   "outputs": [],
   "execution_count": 3
  },
  {
   "metadata": {
    "ExecuteTime": {
     "end_time": "2025-09-07T02:38:37.733078Z",
     "start_time": "2025-09-07T02:38:37.729550Z"
    }
   },
   "cell_type": "code",
   "source": [
    "weight = np.ones([1, 2]) / 2\n",
    "bias = np.zeros(1)"
   ],
   "id": "c952e5e7c9a5176b",
   "outputs": [],
   "execution_count": 4
  },
  {
   "metadata": {
    "ExecuteTime": {
     "end_time": "2025-09-07T02:38:37.785712Z",
     "start_time": "2025-09-07T02:38:37.781710Z"
    }
   },
   "cell_type": "code",
   "source": [
    "def forward(x, w, b):\n",
    "    return x @ w.T + b\n",
    "\n",
    "def backward(x, d, w, b):\n",
    "    return w - d * x, b - np.sum(d)"
   ],
   "id": "2f4b1ae3ac6e2314",
   "outputs": [],
   "execution_count": 5
  },
  {
   "metadata": {
    "ExecuteTime": {
     "end_time": "2025-09-07T02:38:37.839588Z",
     "start_time": "2025-09-07T02:38:37.833230Z"
    }
   },
   "cell_type": "code",
   "source": [
    "def mse_loss(p, y):\n",
    "    return ((p - y) ** 2).mean()\n",
    "\n",
    "def gradient(p, y):\n",
    "    return (p - y) * 2"
   ],
   "id": "d3c6763d6c1f15d9",
   "outputs": [],
   "execution_count": 6
  },
  {
   "metadata": {
    "ExecuteTime": {
     "end_time": "2025-09-07T02:38:37.907204Z",
     "start_time": "2025-09-07T02:38:37.893727Z"
    }
   },
   "cell_type": "code",
   "source": [
    "prediction = forward(feature, weight, bias)\n",
    "error = mse_loss(prediction, label)\n",
    "\n",
    "delta = gradient(prediction, label)\n",
    "weight, bias = backward(feature, delta, weight, bias)\n",
    "\n",
    "print(f'prediction: {prediction}')\n",
    "print(f'error: {error}')\n",
    "print(f\"weight: {weight}\")\n",
    "print(f\"bias: {bias}\")"
   ],
   "id": "11237f48834e66dd",
   "outputs": [
    {
     "name": "stdout",
     "output_type": "stream",
     "text": [
      "prediction: [43.05]\n",
      "error: 14871.802500000002\n",
      "weight: [[ 6854.09 14146.7 ]]\n",
      "bias: [243.9]\n"
     ]
    }
   ],
   "execution_count": 7
  }
 ],
 "metadata": {
  "kernelspec": {
   "display_name": "Python 3",
   "language": "python",
   "name": "python3"
  },
  "language_info": {
   "codemirror_mode": {
    "name": "ipython",
    "version": 2
   },
   "file_extension": ".py",
   "mimetype": "text/x-python",
   "name": "python",
   "nbconvert_exporter": "python",
   "pygments_lexer": "ipython2",
   "version": "2.7.6"
  }
 },
 "nbformat": 4,
 "nbformat_minor": 5
}
