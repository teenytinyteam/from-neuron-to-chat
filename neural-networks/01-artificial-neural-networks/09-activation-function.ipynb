{
 "cells": [
  {
   "metadata": {
    "collapsed": true
   },
   "cell_type": "markdown",
   "source": "# 第9章 打破线性思维：激活函数",
   "id": "c13c4d67746275a0"
  },
  {
   "metadata": {
    "ExecuteTime": {
     "end_time": "2025-09-07T02:36:45.491146Z",
     "start_time": "2025-09-07T02:36:45.358121Z"
    }
   },
   "cell_type": "code",
   "source": [
    "import numpy as np\n",
    "\n",
    "np.random.seed(99)"
   ],
   "id": "a6a1493a7493f69a",
   "outputs": [],
   "execution_count": 1
  },
  {
   "metadata": {
    "ExecuteTime": {
     "end_time": "2025-09-07T02:36:45.502680Z",
     "start_time": "2025-09-07T02:36:45.498907Z"
    }
   },
   "cell_type": "code",
   "source": [
    "features = np.array([[28.1, 58.0],\n",
    "                     [22.5, 72.0],\n",
    "                     [31.4, 45.0],\n",
    "                     [19.8, 85.0],\n",
    "                     [27.6, 63]])\n",
    "labels = np.array([[165],\n",
    "                   [95],\n",
    "                   [210],\n",
    "                   [70],\n",
    "                   [155]])"
   ],
   "id": "94fb04b7ecacdabd",
   "outputs": [],
   "execution_count": 2
  },
  {
   "metadata": {
    "ExecuteTime": {
     "end_time": "2025-09-07T02:36:45.572327Z",
     "start_time": "2025-09-07T02:36:45.554921Z"
    }
   },
   "cell_type": "code",
   "source": [
    "hidden_weight = np.random.rand(4, 2) / 2\n",
    "hidden_bias = np.zeros(4)\n",
    "output_weight = np.random.rand(1, 4) / 4\n",
    "output_bias = np.zeros(1)"
   ],
   "id": "67c328f5c1b16cdd",
   "outputs": [],
   "execution_count": 3
  },
  {
   "metadata": {
    "ExecuteTime": {
     "end_time": "2025-09-07T02:36:45.619542Z",
     "start_time": "2025-09-07T02:36:45.614169Z"
    }
   },
   "cell_type": "code",
   "source": [
    "def forward(x, w, b):\n",
    "    return x @ w.T + b\n",
    "\n",
    "def backward(x, d, w, b, lr):\n",
    "    return w - d.T @ x * lr / len(x), b - np.sum(d, axis=0) * lr / len(x)"
   ],
   "id": "d6cc7186fa4096f8",
   "outputs": [],
   "execution_count": 4
  },
  {
   "metadata": {
    "ExecuteTime": {
     "end_time": "2025-09-07T02:36:45.681544Z",
     "start_time": "2025-09-07T02:36:45.675476Z"
    }
   },
   "cell_type": "code",
   "source": [
    "def relu(x):\n",
    "    return np.maximum(0, x)\n",
    "\n",
    "def relu_backward(y, d):\n",
    "    return (y > 0) * d"
   ],
   "id": "accb2297cdac5fae",
   "outputs": [],
   "execution_count": 5
  },
  {
   "metadata": {
    "ExecuteTime": {
     "end_time": "2025-09-07T02:36:45.740724Z",
     "start_time": "2025-09-07T02:36:45.735457Z"
    }
   },
   "cell_type": "code",
   "source": [
    "def mse_loss(p, y):\n",
    "    return ((p - y) ** 2).mean()\n",
    "\n",
    "def gradient(p, y):\n",
    "    return (p - y) * 2\n",
    "\n",
    "def gradient_backward(d, w):\n",
    "    return d @ w"
   ],
   "id": "2bfd2a6fb144f881",
   "outputs": [],
   "execution_count": 6
  },
  {
   "metadata": {
    "ExecuteTime": {
     "end_time": "2025-09-07T02:36:45.787429Z",
     "start_time": "2025-09-07T02:36:45.783515Z"
    }
   },
   "cell_type": "code",
   "source": [
    "LEARNING_RATE = 0.00001\n",
    "BATCHES = 2\n",
    "EPOCHS = 100"
   ],
   "id": "a82a60e720ef9d99",
   "outputs": [],
   "execution_count": 7
  },
  {
   "metadata": {
    "ExecuteTime": {
     "end_time": "2025-09-07T02:36:45.879201Z",
     "start_time": "2025-09-07T02:36:45.839867Z"
    }
   },
   "cell_type": "code",
   "source": [
    "for epoch in range(EPOCHS):\n",
    "    for i in range(0, len(features), BATCHES):\n",
    "        feature = features[i: i + BATCHES]\n",
    "        label = labels[i: i + BATCHES]\n",
    "\n",
    "        hidden = relu(forward(feature, hidden_weight, hidden_bias))\n",
    "        prediction = forward(hidden, output_weight, output_bias)\n",
    "        error = mse_loss(prediction, label)\n",
    "\n",
    "        output_delta = gradient(prediction, label)\n",
    "        hidden_delta = relu_backward(hidden, gradient_backward(output_delta, output_weight))\n",
    "\n",
    "        output_weight, output_bias = backward(hidden, output_delta, output_weight, output_bias, LEARNING_RATE)\n",
    "        hidden_weight, hidden_bias = backward(feature, hidden_delta, hidden_weight, hidden_bias, LEARNING_RATE)\n",
    "\n",
    "print(f'prediction: {prediction}')\n",
    "print(f'error: {error}')\n",
    "print(f\"hidden weight: {hidden_weight}\")\n",
    "print(f\"hidden bias: {hidden_bias}\")\n",
    "print(f\"output weight: {output_weight}\")\n",
    "print(f\"output bias: {output_bias}\")"
   ],
   "id": "605c6ba089f44045",
   "outputs": [
    {
     "name": "stdout",
     "output_type": "stream",
     "text": [
      "prediction: [[155.11296397]]\n",
      "error: 0.012760858933958853\n",
      "hidden weight: [[ 1.76484505 -0.18674966]\n",
      " [ 1.03703305 -0.28042707]\n",
      " [ 1.841336   -0.19713464]\n",
      " [ 0.86475635 -0.16323803]]\n",
      "hidden bias: [0.02756028 0.01128611 0.0274037  0.01401242]\n",
      "output weight: [[1.72645161 0.98532318 1.78153145 0.87436275]]\n",
      "output bias: [0.03441526]\n"
     ]
    }
   ],
   "execution_count": 8
  }
 ],
 "metadata": {
  "kernelspec": {
   "display_name": "Python 3",
   "language": "python",
   "name": "python3"
  },
  "language_info": {
   "codemirror_mode": {
    "name": "ipython",
    "version": 2
   },
   "file_extension": ".py",
   "mimetype": "text/x-python",
   "name": "python",
   "nbconvert_exporter": "python",
   "pygments_lexer": "ipython2",
   "version": "2.7.6"
  }
 },
 "nbformat": 4,
 "nbformat_minor": 5
}
