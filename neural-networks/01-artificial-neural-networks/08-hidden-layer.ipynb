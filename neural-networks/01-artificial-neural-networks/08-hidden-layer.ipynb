{
 "cells": [
  {
   "metadata": {
    "collapsed": true
   },
   "cell_type": "markdown",
   "source": "# Hidden Layer",
   "id": "439914507894bde"
  },
  {
   "metadata": {
    "ExecuteTime": {
     "end_time": "2025-09-07T02:33:49.377422Z",
     "start_time": "2025-09-07T02:33:49.374367Z"
    }
   },
   "cell_type": "code",
   "source": "import numpy as np",
   "id": "3d34cc9e70b35618",
   "outputs": [],
   "execution_count": 8
  },
  {
   "metadata": {
    "ExecuteTime": {
     "end_time": "2025-09-07T02:33:49.393356Z",
     "start_time": "2025-09-07T02:33:49.389398Z"
    }
   },
   "cell_type": "code",
   "source": [
    "features = np.array([[28.1, 58.0],\n",
    "                     [22.5, 72.0],\n",
    "                     [31.4, 45.0],\n",
    "                     [19.8, 85.0],\n",
    "                     [27.6, 63]])\n",
    "labels = np.array([[165],\n",
    "                   [95],\n",
    "                   [210],\n",
    "                   [70],\n",
    "                   [155]])"
   ],
   "id": "5be3e528d59fe684",
   "outputs": [],
   "execution_count": 9
  },
  {
   "metadata": {
    "ExecuteTime": {
     "end_time": "2025-09-07T02:33:49.452709Z",
     "start_time": "2025-09-07T02:33:49.444792Z"
    }
   },
   "cell_type": "code",
   "source": [
    "np.random.seed(99)\n",
    "\n",
    "hidden_weight = np.random.rand(4, 2) / 2\n",
    "hidden_bias = np.zeros(4)\n",
    "output_weight = np.random.rand(1, 4) / 4\n",
    "output_bias = np.zeros(1)"
   ],
   "id": "2d2b81cbe0582118",
   "outputs": [],
   "execution_count": 10
  },
  {
   "metadata": {
    "ExecuteTime": {
     "end_time": "2025-09-07T02:33:49.521818Z",
     "start_time": "2025-09-07T02:33:49.506900Z"
    }
   },
   "cell_type": "code",
   "source": [
    "def forward(x, w, b):\n",
    "    return x @ w.T + b\n",
    "\n",
    "def backward(x, d, w, b, lr):\n",
    "    return w - d.T @ x * lr / len(x), b - np.sum(d, axis=0) * lr / len(x)"
   ],
   "id": "fe52b6dbfc25aae9",
   "outputs": [],
   "execution_count": 11
  },
  {
   "metadata": {
    "ExecuteTime": {
     "end_time": "2025-09-07T02:33:49.586333Z",
     "start_time": "2025-09-07T02:33:49.577134Z"
    }
   },
   "cell_type": "code",
   "source": [
    "def mse_loss(p, y):\n",
    "    return ((p - y) ** 2).mean()\n",
    "\n",
    "def gradient(p, y):\n",
    "    return (p - y) * 2\n",
    "\n",
    "def gradient_backward(d, w):\n",
    "    return d @ w"
   ],
   "id": "8ba7be523b7f9526",
   "outputs": [],
   "execution_count": 12
  },
  {
   "metadata": {
    "ExecuteTime": {
     "end_time": "2025-09-07T02:33:49.636832Z",
     "start_time": "2025-09-07T02:33:49.631402Z"
    }
   },
   "cell_type": "code",
   "source": [
    "LEARNING_RATE = 0.00001\n",
    "BATCHES = 2\n",
    "EPOCHS = 100"
   ],
   "id": "a4a581cb602a8ab2",
   "outputs": [],
   "execution_count": 13
  },
  {
   "metadata": {
    "ExecuteTime": {
     "end_time": "2025-09-07T02:33:49.716474Z",
     "start_time": "2025-09-07T02:33:49.683920Z"
    }
   },
   "cell_type": "code",
   "source": [
    "for epoch in range(EPOCHS):\n",
    "    for i in range(0, len(features), BATCHES):\n",
    "        feature = features[i: i + BATCHES]\n",
    "        label = labels[i: i + BATCHES]\n",
    "\n",
    "        hidden = forward(feature, hidden_weight, hidden_bias)\n",
    "        prediction = forward(hidden, output_weight, output_bias)\n",
    "        error = mse_loss(prediction, label)\n",
    "\n",
    "        output_delta = gradient(prediction, label)\n",
    "        hidden_delta = gradient_backward(output_delta, output_weight)\n",
    "\n",
    "        output_weight, output_bias = backward(hidden, output_delta, output_weight, output_bias, LEARNING_RATE)\n",
    "        hidden_weight, hidden_bias = backward(feature, hidden_delta, hidden_weight, hidden_bias, LEARNING_RATE)\n",
    "\n",
    "print(f'prediction: {prediction}')\n",
    "print(f'error: {error}')\n",
    "print(f\"hidden weight: {hidden_weight}\")\n",
    "print(f\"hidden bias: {hidden_bias}\")\n",
    "print(f\"output weight: {output_weight}\")\n",
    "print(f\"output bias: {output_bias}\")"
   ],
   "id": "b86dcb80e9afacf1",
   "outputs": [
    {
     "name": "stdout",
     "output_type": "stream",
     "text": [
      "prediction: [[156.72406292]]\n",
      "error: 2.97239296238889\n",
      "hidden weight: [[ 1.76093526 -0.17343877]\n",
      " [ 1.02638991 -0.30940862]\n",
      " [ 1.83729626 -0.18342356]\n",
      " [ 0.86270593 -0.15644664]]\n",
      "hidden bias: [0.0275739  0.01086594 0.02741749 0.01401818]\n",
      "output weight: [[1.7206489  0.9828031  1.7754612  0.87087029]]\n",
      "output bias: [0.03443334]\n"
     ]
    }
   ],
   "execution_count": 14
  }
 ],
 "metadata": {
  "kernelspec": {
   "display_name": "Python 3",
   "language": "python",
   "name": "python3"
  },
  "language_info": {
   "codemirror_mode": {
    "name": "ipython",
    "version": 2
   },
   "file_extension": ".py",
   "mimetype": "text/x-python",
   "name": "python",
   "nbconvert_exporter": "python",
   "pygments_lexer": "ipython2",
   "version": "2.7.6"
  }
 },
 "nbformat": 4,
 "nbformat_minor": 5
}
