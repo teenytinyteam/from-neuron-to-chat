{
 "cells": [
  {
   "metadata": {
    "collapsed": true
   },
   "cell_type": "markdown",
   "source": "# 第2章 我们错得有多离谱？：损失函数",
   "id": "2e17d5017e8146fc"
  },
  {
   "metadata": {
    "ExecuteTime": {
     "end_time": "2025-09-07T02:38:49.642481Z",
     "start_time": "2025-09-07T02:38:49.561017Z"
    }
   },
   "cell_type": "code",
   "source": "import numpy as np",
   "id": "f882880299d19d83",
   "outputs": [],
   "execution_count": 1
  },
  {
   "metadata": {
    "ExecuteTime": {
     "end_time": "2025-09-07T02:38:49.663515Z",
     "start_time": "2025-09-07T02:38:49.656976Z"
    }
   },
   "cell_type": "code",
   "source": [
    "feature = np.array([28.1, 58.0])\n",
    "label = np.array([165])"
   ],
   "id": "a7fda12382f61a63",
   "outputs": [],
   "execution_count": 2
  },
  {
   "metadata": {
    "ExecuteTime": {
     "end_time": "2025-09-07T02:38:49.709885Z",
     "start_time": "2025-09-07T02:38:49.706676Z"
    }
   },
   "cell_type": "code",
   "source": [
    "weight = np.ones([1, 2]) / 2\n",
    "bias = np.zeros(1)"
   ],
   "id": "739da0120f307f0a",
   "outputs": [],
   "execution_count": 3
  },
  {
   "metadata": {
    "ExecuteTime": {
     "end_time": "2025-09-07T02:38:49.761683Z",
     "start_time": "2025-09-07T02:38:49.757892Z"
    }
   },
   "cell_type": "code",
   "source": [
    "def forward(x, w, b):\n",
    "    return x @ w.T + b"
   ],
   "id": "c85acfd63adb8fae",
   "outputs": [],
   "execution_count": 4
  },
  {
   "metadata": {
    "ExecuteTime": {
     "end_time": "2025-09-07T02:38:49.816367Z",
     "start_time": "2025-09-07T02:38:49.812390Z"
    }
   },
   "cell_type": "code",
   "source": [
    "def mse_loss(p, y):\n",
    "    return ((p - y) ** 2).mean()"
   ],
   "id": "6abe43e19b8178f",
   "outputs": [],
   "execution_count": 5
  },
  {
   "metadata": {
    "ExecuteTime": {
     "end_time": "2025-09-07T02:38:49.871949Z",
     "start_time": "2025-09-07T02:38:49.866959Z"
    }
   },
   "cell_type": "code",
   "source": [
    "prediction = forward(feature, weight, bias)\n",
    "error = mse_loss(prediction, label)\n",
    "\n",
    "print(f'prediction: {prediction}')\n",
    "print(f'error: {error}')"
   ],
   "id": "f68d4c4b75757218",
   "outputs": [
    {
     "name": "stdout",
     "output_type": "stream",
     "text": [
      "prediction: [43.05]\n",
      "error: 14871.802500000002\n"
     ]
    }
   ],
   "execution_count": 6
  }
 ],
 "metadata": {
  "kernelspec": {
   "display_name": "Python 3",
   "language": "python",
   "name": "python3"
  },
  "language_info": {
   "codemirror_mode": {
    "name": "ipython",
    "version": 2
   },
   "file_extension": ".py",
   "mimetype": "text/x-python",
   "name": "python",
   "nbconvert_exporter": "python",
   "pygments_lexer": "ipython2",
   "version": "2.7.6"
  }
 },
 "nbformat": 4,
 "nbformat_minor": 5
}
