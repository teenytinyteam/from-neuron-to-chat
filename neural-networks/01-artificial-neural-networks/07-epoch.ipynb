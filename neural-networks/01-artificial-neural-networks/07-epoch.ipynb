{
 "cells": [
  {
   "metadata": {
    "collapsed": true
   },
   "cell_type": "markdown",
   "source": "# 第7章 温故而知新：轮次",
   "id": "9fc0bfdf36693308"
  },
  {
   "metadata": {
    "ExecuteTime": {
     "end_time": "2025-09-07T02:32:25.273568Z",
     "start_time": "2025-09-07T02:32:25.267028Z"
    }
   },
   "cell_type": "code",
   "source": "import numpy as np",
   "id": "80e6a22cb86d2f8d",
   "outputs": [],
   "execution_count": 8
  },
  {
   "metadata": {
    "ExecuteTime": {
     "end_time": "2025-09-07T02:32:25.291645Z",
     "start_time": "2025-09-07T02:32:25.288639Z"
    }
   },
   "cell_type": "code",
   "source": [
    "features = np.array([[28.1, 58.0],\n",
    "                     [22.5, 72.0],\n",
    "                     [31.4, 45.0],\n",
    "                     [19.8, 85.0],\n",
    "                     [27.6, 63]])\n",
    "labels = np.array([[165],\n",
    "                   [95],\n",
    "                   [210],\n",
    "                   [70],\n",
    "                   [155]])"
   ],
   "id": "bb52d9f0b56870b6",
   "outputs": [],
   "execution_count": 9
  },
  {
   "metadata": {
    "ExecuteTime": {
     "end_time": "2025-09-07T02:32:25.343417Z",
     "start_time": "2025-09-07T02:32:25.339897Z"
    }
   },
   "cell_type": "code",
   "source": [
    "weight = np.ones([1, 2]) / 2\n",
    "bias = np.zeros(1)"
   ],
   "id": "e8faa726f981c59b",
   "outputs": [],
   "execution_count": 10
  },
  {
   "metadata": {
    "ExecuteTime": {
     "end_time": "2025-09-07T02:32:25.403129Z",
     "start_time": "2025-09-07T02:32:25.392317Z"
    }
   },
   "cell_type": "code",
   "source": [
    "def forward(x, w, b):\n",
    "    return x @ w.T + b\n",
    "\n",
    "def backward(x, d, w, b, lr):\n",
    "    return w - d.T @ x * lr / len(x), b - np.sum(d, axis=0) * lr / len(x)"
   ],
   "id": "28fa507fa1e4cb01",
   "outputs": [],
   "execution_count": 11
  },
  {
   "metadata": {
    "ExecuteTime": {
     "end_time": "2025-09-07T02:32:25.478901Z",
     "start_time": "2025-09-07T02:32:25.470503Z"
    }
   },
   "cell_type": "code",
   "source": [
    "def mse_loss(p, y):\n",
    "    return ((p - y) ** 2).mean()\n",
    "\n",
    "def gradient(p, y):\n",
    "    return (p - y) * 2"
   ],
   "id": "d575ad5d5fa16b3f",
   "outputs": [],
   "execution_count": 12
  },
  {
   "metadata": {
    "ExecuteTime": {
     "end_time": "2025-09-07T02:32:25.537562Z",
     "start_time": "2025-09-07T02:32:25.529898Z"
    }
   },
   "cell_type": "code",
   "source": [
    "LEARNING_RATE = 0.00001\n",
    "BATCHES = 2\n",
    "EPOCHS = 100"
   ],
   "id": "f28132ab6336b190",
   "outputs": [],
   "execution_count": 13
  },
  {
   "metadata": {
    "ExecuteTime": {
     "end_time": "2025-09-07T02:32:25.626445Z",
     "start_time": "2025-09-07T02:32:25.594915Z"
    }
   },
   "cell_type": "code",
   "source": [
    "for epoch in range(EPOCHS):\n",
    "    for i in range(0, len(features), BATCHES):\n",
    "        feature = features[i: i + BATCHES]\n",
    "        label = labels[i: i + BATCHES]\n",
    "\n",
    "        prediction = forward(feature, weight, bias)\n",
    "        error = mse_loss(prediction, label)\n",
    "\n",
    "        delta = gradient(prediction, label)\n",
    "        weight, bias = backward(feature, delta, weight, bias, LEARNING_RATE)\n",
    "\n",
    "print(f'prediction: {prediction}')\n",
    "print(f'error: {error}')\n",
    "print(f\"weight: {weight}\")\n",
    "print(f\"bias: {bias}\")"
   ],
   "id": "e8d216d787ba2401",
   "outputs": [
    {
     "name": "stdout",
     "output_type": "stream",
     "text": [
      "prediction: [[138.4940385]]\n",
      "error: 272.4467651015051\n",
      "weight: [[3.33546109 0.76086691]]\n",
      "bias: [0.06274236]\n"
     ]
    }
   ],
   "execution_count": 14
  }
 ],
 "metadata": {
  "kernelspec": {
   "display_name": "Python 3",
   "language": "python",
   "name": "python3"
  },
  "language_info": {
   "codemirror_mode": {
    "name": "ipython",
    "version": 2
   },
   "file_extension": ".py",
   "mimetype": "text/x-python",
   "name": "python",
   "nbconvert_exporter": "python",
   "pygments_lexer": "ipython2",
   "version": "2.7.6"
  }
 },
 "nbformat": 4,
 "nbformat_minor": 5
}
