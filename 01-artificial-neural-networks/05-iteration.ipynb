{
 "cells": [
  {
   "metadata": {
    "collapsed": true
   },
   "cell_type": "markdown",
   "source": "# Iteration",
   "id": "bd2413e6bd0413ac"
  },
  {
   "metadata": {
    "ExecuteTime": {
     "end_time": "2025-09-05T23:20:10.399302Z",
     "start_time": "2025-09-05T23:20:10.268749Z"
    }
   },
   "cell_type": "code",
   "source": [
    "import numpy as np\n",
    "\n",
    "features = np.array([[28.1, 58.0],\n",
    "                     [22.5, 72.0],\n",
    "                     [31.4, 45.0],\n",
    "                     [19.8, 85.0],\n",
    "                     [27.6, 63]])\n",
    "labels = np.array([[165],\n",
    "                   [95],\n",
    "                   [210],\n",
    "                   [70],\n",
    "                   [155]])"
   ],
   "id": "f33796948bbd3b9d",
   "outputs": [],
   "execution_count": 1
  },
  {
   "metadata": {
    "ExecuteTime": {
     "end_time": "2025-09-05T23:20:11.077177Z",
     "start_time": "2025-09-05T23:20:11.070648Z"
    }
   },
   "cell_type": "code",
   "source": [
    "weight = np.ones([1, 2]) / 2\n",
    "bias = np.zeros(1)"
   ],
   "id": "5fd7c2799d4415a9",
   "outputs": [],
   "execution_count": 2
  },
  {
   "metadata": {
    "ExecuteTime": {
     "end_time": "2025-09-05T23:20:12.044617Z",
     "start_time": "2025-09-05T23:20:12.039728Z"
    }
   },
   "cell_type": "code",
   "source": [
    "def forward(x, w, b):\n",
    "    return x @ w.T + b\n",
    "\n",
    "def backward(x, d, w, b, lr):\n",
    "    return w - d * x * lr, b - np.sum(d) * lr"
   ],
   "id": "20d04d9eb374f532",
   "outputs": [],
   "execution_count": 3
  },
  {
   "metadata": {
    "ExecuteTime": {
     "end_time": "2025-09-05T23:20:13.003636Z",
     "start_time": "2025-09-05T23:20:12.998059Z"
    }
   },
   "cell_type": "code",
   "source": [
    "def mse_loss(p, y):\n",
    "    return ((p - y) ** 2).mean()\n",
    "\n",
    "def gradient(p, y):\n",
    "    return (p - y) * 2"
   ],
   "id": "647d598dffd11b77",
   "outputs": [],
   "execution_count": 4
  },
  {
   "metadata": {
    "ExecuteTime": {
     "end_time": "2025-09-05T23:20:14.937324Z",
     "start_time": "2025-09-05T23:20:14.931715Z"
    }
   },
   "cell_type": "code",
   "source": "LEARNING_RATE = 0.00001",
   "id": "698bf415ae4df244",
   "outputs": [],
   "execution_count": 5
  },
  {
   "metadata": {
    "ExecuteTime": {
     "end_time": "2025-09-05T23:20:15.946699Z",
     "start_time": "2025-09-05T23:20:15.932144Z"
    }
   },
   "cell_type": "code",
   "source": [
    "for i in range(len(features)):\n",
    "    feature = features[i]\n",
    "    label = labels[i]\n",
    "\n",
    "    prediction = forward(feature, weight, bias)\n",
    "    print(f'prediction: {prediction}')\n",
    "\n",
    "    error = mse_loss(prediction, label)\n",
    "    print(f'error: {error}')\n",
    "\n",
    "    delta = gradient(prediction, label)\n",
    "    weight, bias = backward(feature, delta, weight, bias, LEARNING_RATE)\n",
    "    print(f\"weight: {weight}\")\n",
    "    print(f\"bias: {bias}\")"
   ],
   "id": "aafcbc64d6062dd1",
   "outputs": [
    {
     "name": "stdout",
     "output_type": "stream",
     "text": [
      "prediction: [43.05]\n",
      "error: 14871.802500000002\n",
      "weight: [[0.5685359 0.641462 ]]\n",
      "bias: [0.002439]\n",
      "prediction: [58.97976075]\n",
      "error: 1297.4576356272407\n",
      "weight: [[0.58474501 0.69333114]]\n",
      "bias: [0.0031594]\n",
      "prediction: [49.56405415]\n",
      "error: 25739.69272117319\n",
      "weight: [[0.68549878 0.8377235 ]]\n",
      "bias: [0.00636812]\n",
      "prediction: [84.78574114]\n",
      "error: 218.6181411279782\n",
      "weight: [[0.67964363 0.81258774]]\n",
      "bias: [0.00607241]\n",
      "prediction: [69.9572639]\n",
      "error: 7232.266962624995\n",
      "weight: [[0.72658722 0.91974158]]\n",
      "bias: [0.00777326]\n"
     ]
    }
   ],
   "execution_count": 6
  }
 ],
 "metadata": {
  "kernelspec": {
   "display_name": "Python 3",
   "language": "python",
   "name": "python3"
  },
  "language_info": {
   "codemirror_mode": {
    "name": "ipython",
    "version": 2
   },
   "file_extension": ".py",
   "mimetype": "text/x-python",
   "name": "python",
   "nbconvert_exporter": "python",
   "pygments_lexer": "ipython2",
   "version": "2.7.6"
  }
 },
 "nbformat": 4,
 "nbformat_minor": 5
}
