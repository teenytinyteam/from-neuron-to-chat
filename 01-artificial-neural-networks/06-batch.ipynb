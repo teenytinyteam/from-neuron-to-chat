{
 "cells": [
  {
   "metadata": {
    "collapsed": true
   },
   "cell_type": "markdown",
   "source": "# Batch",
   "id": "c05190c332c5be97"
  },
  {
   "metadata": {
    "ExecuteTime": {
     "end_time": "2025-09-05T23:20:23.496376Z",
     "start_time": "2025-09-05T23:20:23.419616Z"
    }
   },
   "cell_type": "code",
   "source": [
    "import numpy as np\n",
    "\n",
    "features = np.array([[28.1, 58.0],\n",
    "                     [22.5, 72.0],\n",
    "                     [31.4, 45.0],\n",
    "                     [19.8, 85.0],\n",
    "                     [27.6, 63]])\n",
    "labels = np.array([[165],\n",
    "                   [95],\n",
    "                   [210],\n",
    "                   [70],\n",
    "                   [155]])"
   ],
   "id": "a2cac2228ddf353e",
   "outputs": [],
   "execution_count": 1
  },
  {
   "metadata": {
    "ExecuteTime": {
     "end_time": "2025-09-05T23:20:24.980750Z",
     "start_time": "2025-09-05T23:20:24.973595Z"
    }
   },
   "cell_type": "code",
   "source": [
    "weight = np.ones([1, 2]) / 2\n",
    "bias = np.zeros(1)"
   ],
   "id": "43a12aeededa8e42",
   "outputs": [],
   "execution_count": 2
  },
  {
   "metadata": {
    "ExecuteTime": {
     "end_time": "2025-09-05T23:20:25.870297Z",
     "start_time": "2025-09-05T23:20:25.865878Z"
    }
   },
   "cell_type": "code",
   "source": [
    "def forward(x, w, b):\n",
    "    return x @ w.T + b\n",
    "\n",
    "def backward(x, d, w, b, lr):\n",
    "    return w - d.T @ x * lr / len(x), b - np.sum(d, axis=0) * lr / len(x)"
   ],
   "id": "f439f60472546e50",
   "outputs": [],
   "execution_count": 3
  },
  {
   "metadata": {
    "ExecuteTime": {
     "end_time": "2025-09-05T23:20:29.226180Z",
     "start_time": "2025-09-05T23:20:29.217611Z"
    }
   },
   "cell_type": "code",
   "source": [
    "def mse_loss(p, y):\n",
    "    return ((p - y) ** 2).mean()\n",
    "\n",
    "def gradient(p, y):\n",
    "    return (p - y) * 2"
   ],
   "id": "1bdd8d28ae4b130a",
   "outputs": [],
   "execution_count": 4
  },
  {
   "metadata": {
    "ExecuteTime": {
     "end_time": "2025-09-05T23:20:30.405096Z",
     "start_time": "2025-09-05T23:20:30.401507Z"
    }
   },
   "cell_type": "code",
   "source": [
    "LEARNING_RATE = 0.00001\n",
    "BATCHES = 2"
   ],
   "id": "5830c517b1714cd1",
   "outputs": [],
   "execution_count": 5
  },
  {
   "metadata": {
    "ExecuteTime": {
     "end_time": "2025-09-05T23:20:31.830301Z",
     "start_time": "2025-09-05T23:20:31.811496Z"
    }
   },
   "cell_type": "code",
   "source": [
    "for i in range(0, len(features), BATCHES):\n",
    "    feature = features[i: i + BATCHES]\n",
    "    label = labels[i: i + BATCHES]\n",
    "\n",
    "    prediction = forward(feature, weight, bias)\n",
    "    print(f'prediction: {prediction}')\n",
    "\n",
    "    error = mse_loss(prediction, label)\n",
    "    print(f'error: {error}')\n",
    "\n",
    "    delta = gradient(prediction, label)\n",
    "    weight, bias = backward(feature, delta, weight, bias, LEARNING_RATE)\n",
    "    print(f\"weight: {weight}\")\n",
    "    print(f\"bias: {bias}\")"
   ],
   "id": "dc9cc3ba47abcf17",
   "outputs": [
    {
     "name": "stdout",
     "output_type": "stream",
     "text": [
      "prediction: [[43.05]\n",
      " [47.25]]\n",
      "error: 8575.9325\n",
      "weight: [[0.5450117 0.605111 ]]\n",
      "bias: [0.001697]\n",
      "prediction: [[44.34505938]\n",
      " [62.22736366]]\n",
      "error: 13750.986613744806\n",
      "weight: [[0.59856633 0.68626246]]\n",
      "bias: [0.00343128]\n",
      "prediction: [[59.75839732]]\n",
      "error: 9070.962881280973\n",
      "weight: [[0.6511397  0.80626688]]\n",
      "bias: [0.00533611]\n"
     ]
    }
   ],
   "execution_count": 6
  }
 ],
 "metadata": {
  "kernelspec": {
   "display_name": "Python 3",
   "language": "python",
   "name": "python3"
  },
  "language_info": {
   "codemirror_mode": {
    "name": "ipython",
    "version": 2
   },
   "file_extension": ".py",
   "mimetype": "text/x-python",
   "name": "python",
   "nbconvert_exporter": "python",
   "pygments_lexer": "ipython2",
   "version": "2.7.6"
  }
 },
 "nbformat": 4,
 "nbformat_minor": 5
}
