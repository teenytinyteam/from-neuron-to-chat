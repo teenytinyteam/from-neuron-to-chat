{
 "cells": [
  {
   "metadata": {},
   "cell_type": "markdown",
   "source": "# Linear Prediction",
   "id": "a1146e84786b39ad"
  },
  {
   "metadata": {},
   "cell_type": "code",
   "execution_count": null,
   "source": "import numpy as np",
   "id": "c149cd39b2b71e65",
   "outputs": []
  },
  {
   "metadata": {},
   "cell_type": "code",
   "outputs": [],
   "execution_count": 1,
   "source": "feature = np.array([28.1, 58.0])",
   "id": "b050dedb74880075"
  },
  {
   "metadata": {
    "ExecuteTime": {
     "end_time": "2025-09-05T23:19:26.948814Z",
     "start_time": "2025-09-05T23:19:26.940903Z"
    }
   },
   "cell_type": "code",
   "outputs": [],
   "execution_count": 2,
   "source": [
    "weight = np.ones([1, 2]) / 2\n",
    "bias = np.zeros(1)"
   ],
   "id": "2ca162b2695374a5"
  },
  {
   "metadata": {
    "ExecuteTime": {
     "end_time": "2025-09-05T23:19:28.437968Z",
     "start_time": "2025-09-05T23:19:28.434393Z"
    }
   },
   "cell_type": "code",
   "outputs": [],
   "execution_count": 3,
   "source": [
    "def forward(x, w, b):\n",
    "    return x @ w.T + b"
   ],
   "id": "3b76e5123d224f89"
  },
  {
   "metadata": {
    "ExecuteTime": {
     "end_time": "2025-09-05T23:19:29.679925Z",
     "start_time": "2025-09-05T23:19:29.675188Z"
    }
   },
   "cell_type": "code",
   "outputs": [
    {
     "name": "stdout",
     "output_type": "stream",
     "text": [
      "prediction: [43.05]\n"
     ]
    }
   ],
   "execution_count": 4,
   "source": [
    "prediction = forward(feature, weight, bias)\n",
    "print(f'prediction: {prediction}')"
   ],
   "id": "948220ad6a79e733"
  }
 ],
 "metadata": {
  "kernelspec": {
   "display_name": "Python 3",
   "language": "python",
   "name": "python3"
  },
  "language_info": {
   "codemirror_mode": {
    "name": "ipython",
    "version": 2
   },
   "file_extension": ".py",
   "mimetype": "text/x-python",
   "name": "python",
   "nbconvert_exporter": "python",
   "pygments_lexer": "ipython2",
   "version": "2.7.6"
  }
 },
 "nbformat": 4,
 "nbformat_minor": 5
}
