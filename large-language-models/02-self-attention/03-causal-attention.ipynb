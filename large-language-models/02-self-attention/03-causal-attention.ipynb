{
 "cells": [
  {
   "metadata": {
    "collapsed": true
   },
   "cell_type": "markdown",
   "source": "# Causal Attention",
   "id": "592a1f4af4a8c6d4"
  },
  {
   "metadata": {
    "ExecuteTime": {
     "end_time": "2025-09-07T20:17:17.806667Z",
     "start_time": "2025-09-07T20:17:17.710032Z"
    }
   },
   "cell_type": "code",
   "source": [
    "import re\n",
    "from abc import ABC, abstractmethod\n",
    "import numpy as np\n",
    "\n",
    "np.random.seed(99)"
   ],
   "id": "baf4aeab967c47f5",
   "outputs": [],
   "execution_count": 1
  },
  {
   "metadata": {
    "ExecuteTime": {
     "end_time": "2025-09-07T20:17:17.828629Z",
     "start_time": "2025-09-07T20:17:17.816211Z"
    }
   },
   "cell_type": "code",
   "source": [
    "class Tensor:\n",
    "\n",
    "    def __init__(self, data):\n",
    "        self.data = np.array(data)\n",
    "        self.grad = None\n",
    "        self.gradient_fn = lambda: None\n",
    "        self.parents = set()\n",
    "\n",
    "    def gradient(self):\n",
    "        if self.gradient_fn:\n",
    "            self.gradient_fn()\n",
    "\n",
    "        for p in self.parents:\n",
    "            p.gradient()\n",
    "\n",
    "    def shape(self):\n",
    "        return self.data.shape\n",
    "\n",
    "    def size(self):\n",
    "        return np.prod(self.data.shape[1:])\n",
    "\n",
    "    def __add__(self, other):\n",
    "        p = Tensor(self.data + other.data)\n",
    "\n",
    "        def gradient_fn():\n",
    "            self.grad = p.grad\n",
    "            other.grad = p.grad\n",
    "\n",
    "        p.gradient_fn = gradient_fn\n",
    "        p.parents = {self, other}\n",
    "        return p\n",
    "\n",
    "    def __sub__(self, other):\n",
    "        p = Tensor(self.data - other.data)\n",
    "\n",
    "        def gradient_fn():\n",
    "            self.grad = p.grad\n",
    "            other.grad = -p.grad\n",
    "\n",
    "        p.gradient_fn = gradient_fn\n",
    "        p.parents = {self, other}\n",
    "        return p\n",
    "\n",
    "    def __mul__(self, other):\n",
    "        p = Tensor(self.data * other.data)\n",
    "\n",
    "        def gradient_fn():\n",
    "            self.grad = p.grad * other.data\n",
    "            other.grad = p.grad * self.data\n",
    "\n",
    "        p.gradient_fn = gradient_fn\n",
    "        p.parents = {self, other}\n",
    "        return p\n",
    "\n",
    "    def __truediv__(self, other):\n",
    "        p = Tensor(self.data / other.data)\n",
    "\n",
    "        def gradient_fn():\n",
    "            self.grad = p.grad / other.data\n",
    "            other.grad = -p.grad * self.data / (other.data ** 2)\n",
    "\n",
    "        p.gradient_fn = gradient_fn\n",
    "        p.parents = {self, other}\n",
    "        return p\n",
    "\n",
    "    def __matmul__(self, other):\n",
    "        p = Tensor(np.matmul(self.data, other.data))\n",
    "\n",
    "        def gradient_fn():\n",
    "            self.grad = np.matmul(p.grad, other.data.swapaxes(-1, -2))\n",
    "            other.grad = np.matmul(self.data.swapaxes(-1, -2), p.grad)\n",
    "\n",
    "        p.gradient_fn = gradient_fn\n",
    "        p.parents = {self, other}\n",
    "        return p\n",
    "\n",
    "    def transpose(self, axes=None):\n",
    "        p = Tensor(np.transpose(self.data, axes))\n",
    "\n",
    "        def gradient_fn():\n",
    "            if axes is None:\n",
    "                self.grad = np.transpose(p.grad)\n",
    "            else:\n",
    "                idx = np.argsort(axes)\n",
    "                self.grad = np.transpose(p.grad, idx)\n",
    "\n",
    "        p.gradient_fn = gradient_fn\n",
    "        p.parents = {self}\n",
    "        return p\n",
    "\n",
    "    @property\n",
    "    def T(self):\n",
    "        return self.transpose()\n",
    "\n",
    "    def concat(self, other, axis):\n",
    "        p = Tensor(np.concatenate([self.data, other.data], axis=axis))\n",
    "\n",
    "        def gradient_fn():\n",
    "            self.grad, other.grad = np.split(p.grad, [self.data.shape[axis]], axis=axis)\n",
    "\n",
    "        p.gradient_fn = gradient_fn\n",
    "        p.parents = {self, other}\n",
    "        return p"
   ],
   "id": "a7cdaa8e4f53f86a",
   "outputs": [],
   "execution_count": 2
  },
  {
   "metadata": {
    "ExecuteTime": {
     "end_time": "2025-09-07T20:17:17.893228Z",
     "start_time": "2025-09-07T20:17:17.876855Z"
    }
   },
   "cell_type": "code",
   "source": [
    "class DataLoader:\n",
    "\n",
    "    def __init__(self, filename, batch_size, stride):\n",
    "        self.filename = filename\n",
    "        self.batch_size = batch_size\n",
    "        self.stride = stride\n",
    "\n",
    "        with open(self.filename, 'r', encoding='utf-8') as f:\n",
    "            self.text = f.read().lower()\n",
    "\n",
    "        self.vocabulary = sorted(set(self.split_text(self.text)))\n",
    "        self.vocabulary.extend(['<|eos|>', '<|unk|>'])\n",
    "        self.word2index = {word: index for index, word in enumerate(self.vocabulary)}\n",
    "        self.index2word = {index: word for index, word in enumerate(self.vocabulary)}\n",
    "        self.tokens = self.encode(self.text)\n",
    "\n",
    "        self.train()\n",
    "\n",
    "    @staticmethod\n",
    "    def split_text(text):\n",
    "        words = re.split(r'([,.:;?_!\"()\\']|\\s)', text.lower())\n",
    "        return [t.strip() for t in words if t.strip()]\n",
    "\n",
    "    def train(self):\n",
    "        self.features = []\n",
    "        self.labels = []\n",
    "        for i in range(0, len(self.tokens) * 9 // 10 - self.batch_size,\n",
    "                       self.stride):\n",
    "            self.features.append(self.tokens[i: i + self.batch_size])\n",
    "            self.labels.append(self.tokens[i + 1: i + self.batch_size + 1])\n",
    "\n",
    "    def eval(self):\n",
    "        self.features = []\n",
    "        self.labels = []\n",
    "        for i in range(len(self.tokens) * 9 // 10 - self.batch_size + 1,\n",
    "                       len(self.tokens) - self.batch_size,\n",
    "                       self.stride):\n",
    "            self.features.append(self.tokens[i: i + self.batch_size])\n",
    "            self.labels.append(self.tokens[i + 1: i + self.batch_size + 1])\n",
    "\n",
    "    def __len__(self):\n",
    "        return len(self.features)\n",
    "\n",
    "    def __getitem__(self, index):\n",
    "        return self.features[index], self.labels[index]\n",
    "\n",
    "    def encode(self, text):\n",
    "        words = self.split_text(text)\n",
    "        words = [word if word in self.word2index else '<|unk|>' for word in words]\n",
    "        return [self.word2index[word] for word in words]\n",
    "\n",
    "    def decode(self, tokens):\n",
    "        text = \" \".join([self.index2word[index] for index in tokens])\n",
    "        return re.sub(r'\\s+([,.:;?_!\"()\\'])', r'\\1', text)"
   ],
   "id": "a2d2919aae7e247e",
   "outputs": [],
   "execution_count": 3
  },
  {
   "metadata": {
    "ExecuteTime": {
     "end_time": "2025-09-07T20:17:17.946881Z",
     "start_time": "2025-09-07T20:17:17.939767Z"
    }
   },
   "cell_type": "code",
   "source": [
    "class Layer(ABC):\n",
    "\n",
    "    def __init__(self):\n",
    "        self.training = True\n",
    "\n",
    "    def __call__(self, *args):\n",
    "        return self.forward(*args)\n",
    "\n",
    "    @abstractmethod\n",
    "    def forward(self, *args):\n",
    "        pass\n",
    "\n",
    "    def parameters(self):\n",
    "        return []\n",
    "\n",
    "    def train(self):\n",
    "        self.training = True\n",
    "\n",
    "    def eval(self):\n",
    "        self.training = False"
   ],
   "id": "39cbc60700a73f61",
   "outputs": [],
   "execution_count": 4
  },
  {
   "metadata": {
    "ExecuteTime": {
     "end_time": "2025-09-07T20:17:18.010876Z",
     "start_time": "2025-09-07T20:17:17.997235Z"
    }
   },
   "cell_type": "code",
   "source": [
    "class Linear(Layer):\n",
    "\n",
    "    def __init__(self, in_size, out_size):\n",
    "        super().__init__()\n",
    "        self.in_size = in_size\n",
    "        self.out_size = out_size\n",
    "\n",
    "        self.weight = Tensor(np.random.rand(out_size, in_size) / in_size)\n",
    "        self.bias = Tensor(np.zeros(out_size))\n",
    "\n",
    "    def forward(self, x: Tensor):\n",
    "        p = Tensor(x.data @ self.weight.data.T + self.bias.data)\n",
    "\n",
    "        def gradient_fn():\n",
    "            self.weight.grad = p.grad.T @ x.data\n",
    "            self.bias.grad = np.sum(p.grad, axis=0)\n",
    "            x.grad = p.grad @ self.weight.data\n",
    "\n",
    "        p.gradient_fn = gradient_fn\n",
    "        p.parents = {self.weight, self.bias, x}\n",
    "        return p\n",
    "\n",
    "    def parameters(self):\n",
    "        return [self.weight, self.bias]"
   ],
   "id": "abd97321e6cf5c1a",
   "outputs": [],
   "execution_count": 5
  },
  {
   "metadata": {
    "ExecuteTime": {
     "end_time": "2025-09-07T20:17:18.086139Z",
     "start_time": "2025-09-07T20:17:18.068202Z"
    }
   },
   "cell_type": "code",
   "source": [
    "class Embedding(Layer):\n",
    "\n",
    "    def __init__(self, vocabulary_size, embedding_size, axis=None):\n",
    "        super().__init__()\n",
    "        self.vocabulary_size = vocabulary_size\n",
    "        self.embedding_size = embedding_size\n",
    "        self.axis = axis\n",
    "\n",
    "        self.weight = Tensor(np.random.rand(embedding_size, vocabulary_size) / vocabulary_size)\n",
    "\n",
    "    def forward(self, x: Tensor):\n",
    "        weights = self.weight.data.T[x.data]\n",
    "        p = Tensor(np.sum(weights, axis=self.axis) if self.axis is not None else weights)\n",
    "\n",
    "        def gradient_fn():\n",
    "            if self.weight.grad is None:\n",
    "                self.weight.grad = np.zeros_like(self.weight.data)\n",
    "            self.weight.grad.T[x.data] += p.grad\n",
    "\n",
    "        p.gradient_fn = gradient_fn\n",
    "        p.parents = {self.weight}\n",
    "        return p\n",
    "\n",
    "    def parameters(self):\n",
    "        return [self.weight]"
   ],
   "id": "c810686d9c52ae78",
   "outputs": [],
   "execution_count": 6
  },
  {
   "metadata": {
    "ExecuteTime": {
     "end_time": "2025-09-07T20:17:18.130569Z",
     "start_time": "2025-09-07T20:17:18.123845Z"
    }
   },
   "cell_type": "code",
   "source": [
    "class Softmax(Layer):\n",
    "\n",
    "    def __init__(self, axis=-1):\n",
    "        super().__init__()\n",
    "        self.axis = axis\n",
    "\n",
    "    def forward(self, x: Tensor):\n",
    "        exp = np.exp(x.data - np.max(x.data, axis=self.axis, keepdims=True))\n",
    "        p = Tensor(exp / np.sum(exp, axis=self.axis, keepdims=True))\n",
    "\n",
    "        def gradient_fn():\n",
    "            x.grad = np.zeros_like(x.data)\n",
    "\n",
    "            shape = x.data.shape\n",
    "            axis = self.axis if self.axis >= 0 else len(shape) + self.axis\n",
    "            shapes = list(shape)\n",
    "            shapes.pop(axis)\n",
    "\n",
    "            for idx in np.ndindex(tuple(shapes)):\n",
    "                indices = list(idx)\n",
    "                indices.insert(axis, slice(None))\n",
    "                indices = tuple(indices)\n",
    "\n",
    "                probs = p.data[indices]\n",
    "                grad = p.grad[indices]\n",
    "\n",
    "                probs_col = probs.reshape(-1, 1)\n",
    "                jacobian = np.diagflat(probs) - probs_col @ probs_col.T\n",
    "                x.grad[indices] = jacobian @ grad\n",
    "\n",
    "        p.gradient_fn = gradient_fn\n",
    "        p.parents = {x}\n",
    "        return p"
   ],
   "id": "acdc185d4a527b60",
   "outputs": [],
   "execution_count": 7
  },
  {
   "metadata": {
    "ExecuteTime": {
     "end_time": "2025-09-07T20:17:18.197617Z",
     "start_time": "2025-09-07T20:17:18.178375Z"
    }
   },
   "cell_type": "code",
   "source": [
    "class GPTEmbedding(Layer):\n",
    "\n",
    "    def __init__(self, vocabulary_size, context_size, embedding_size):\n",
    "        super().__init__()\n",
    "        self.vocabulary_size = vocabulary_size\n",
    "        self.context_size = context_size\n",
    "        self.embedding_size = embedding_size\n",
    "\n",
    "        self.token_embedding = Embedding(self.vocabulary_size, self.embedding_size)\n",
    "        self.positional_embedding = Embedding(self.context_size, self.embedding_size)\n",
    "\n",
    "    def forward(self, x: Tensor):\n",
    "        token = self.token_embedding(x)\n",
    "        position = self.positional_embedding(Tensor(range(self.context_size)))\n",
    "        return token + position"
   ],
   "id": "622d2d9777428135",
   "outputs": [],
   "execution_count": 8
  },
  {
   "metadata": {
    "ExecuteTime": {
     "end_time": "2025-09-07T20:17:18.250717Z",
     "start_time": "2025-09-07T20:17:18.242673Z"
    }
   },
   "cell_type": "code",
   "source": [
    "class GPTAttention(Layer):\n",
    "\n",
    "    def __init__(self, embedding_size):\n",
    "        super().__init__()\n",
    "        self.embedding_size = embedding_size\n",
    "\n",
    "        self.attention_query = Linear(self.embedding_size, self.embedding_size)\n",
    "        self.attention_key = Linear(self.embedding_size, self.embedding_size)\n",
    "        self.attention_value = Linear(self.embedding_size, self.embedding_size)\n",
    "        self.softmax = Softmax()\n",
    "\n",
    "    def forward(self, x: Tensor):\n",
    "        query = self.attention_query(x)\n",
    "        key = self.attention_key(x)\n",
    "        value = self.attention_value(x)\n",
    "\n",
    "        scores = query @ key.T\n",
    "        weights = self.softmax(scores)\n",
    "        return weights @ value"
   ],
   "id": "73d053d5ac7ad80a",
   "outputs": [],
   "execution_count": 9
  },
  {
   "metadata": {
    "ExecuteTime": {
     "end_time": "2025-09-07T20:17:18.307278Z",
     "start_time": "2025-09-07T20:17:18.300208Z"
    }
   },
   "cell_type": "code",
   "source": [
    "class GPT(Layer):\n",
    "\n",
    "    def __init__(self, vocabulary_size, context_size, embedding_size):\n",
    "        super().__init__()\n",
    "        self.vocabulary_size = vocabulary_size\n",
    "        self.context_size = context_size\n",
    "        self.embedding_size = embedding_size\n",
    "\n",
    "        self.embedding = GPTEmbedding(self.vocabulary_size, self.context_size, self.embedding_size)\n",
    "        self.attention = GPTAttention(self.embedding_size)\n",
    "\n",
    "    def forward(self, x: Tensor):\n",
    "        x = self.embedding(x)\n",
    "        return self.attention(x)"
   ],
   "id": "20d7453b87e1ef54",
   "outputs": [],
   "execution_count": 10
  },
  {
   "metadata": {
    "ExecuteTime": {
     "end_time": "2025-09-07T20:17:18.362212Z",
     "start_time": "2025-09-07T20:17:18.356984Z"
    }
   },
   "cell_type": "code",
   "source": [
    "CONTEXT_SIZE = 4\n",
    "EMBEDDING_SIZE = 3"
   ],
   "id": "6e5d7002ad18f4a0",
   "outputs": [],
   "execution_count": 11
  },
  {
   "metadata": {
    "ExecuteTime": {
     "end_time": "2025-09-07T20:17:18.423498Z",
     "start_time": "2025-09-07T20:17:18.409480Z"
    }
   },
   "cell_type": "code",
   "source": [
    "dataset = DataLoader('../one-day.txt', CONTEXT_SIZE, 1)\n",
    "\n",
    "model = GPT(len(dataset.vocabulary), CONTEXT_SIZE, EMBEDDING_SIZE)\n",
    "\n",
    "feature, label = dataset[0]\n",
    "prediction = model(Tensor(feature))\n",
    "\n",
    "print(\"Context vectors: \", prediction.data)"
   ],
   "id": "4039b92b7bdca9f3",
   "outputs": [
    {
     "name": "stdout",
     "output_type": "stream",
     "text": [
      "Context vectors:  [[0.1102649  0.08733431 0.06146367]\n",
      " [0.11029795 0.08737485 0.06148469]\n",
      " [0.11033307 0.08741914 0.06150712]\n",
      " [0.11025577 0.0873224  0.06145781]]\n"
     ]
    }
   ],
   "execution_count": 12
  }
 ],
 "metadata": {
  "kernelspec": {
   "display_name": "Python 3",
   "language": "python",
   "name": "python3"
  },
  "language_info": {
   "codemirror_mode": {
    "name": "ipython",
    "version": 2
   },
   "file_extension": ".py",
   "mimetype": "text/x-python",
   "name": "python",
   "nbconvert_exporter": "python",
   "pygments_lexer": "ipython2",
   "version": "2.7.6"
  }
 },
 "nbformat": 4,
 "nbformat_minor": 5
}
