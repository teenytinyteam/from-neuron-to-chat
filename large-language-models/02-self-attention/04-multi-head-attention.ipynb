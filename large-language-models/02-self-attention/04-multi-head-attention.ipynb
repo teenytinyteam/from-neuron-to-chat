{
 "cells": [
  {
   "metadata": {
    "collapsed": true
   },
   "cell_type": "markdown",
   "source": "# Multi Head Attention",
   "id": "d68cf5d64b5ee7b7"
  },
  {
   "metadata": {
    "ExecuteTime": {
     "end_time": "2025-09-07T20:19:20.660387Z",
     "start_time": "2025-09-07T20:19:20.549809Z"
    }
   },
   "cell_type": "code",
   "source": [
    "import re\n",
    "from abc import ABC, abstractmethod\n",
    "import numpy as np\n",
    "\n",
    "np.random.seed(99)"
   ],
   "id": "498885fa5d720a62",
   "outputs": [],
   "execution_count": 1
  },
  {
   "metadata": {
    "ExecuteTime": {
     "end_time": "2025-09-07T20:19:20.692039Z",
     "start_time": "2025-09-07T20:19:20.675316Z"
    }
   },
   "cell_type": "code",
   "source": [
    "class Tensor:\n",
    "\n",
    "    def __init__(self, data):\n",
    "        self.data = np.array(data)\n",
    "        self.grad = None\n",
    "        self.gradient_fn = lambda: None\n",
    "        self.parents = set()\n",
    "\n",
    "    def gradient(self):\n",
    "        if self.gradient_fn:\n",
    "            self.gradient_fn()\n",
    "\n",
    "        for p in self.parents:\n",
    "            p.gradient()\n",
    "\n",
    "    def shape(self):\n",
    "        return self.data.shape\n",
    "\n",
    "    def size(self):\n",
    "        return np.prod(self.data.shape[1:])\n",
    "\n",
    "    def __add__(self, other):\n",
    "        p = Tensor(self.data + other.data)\n",
    "\n",
    "        def gradient_fn():\n",
    "            self.grad = p.grad\n",
    "            other.grad = p.grad\n",
    "\n",
    "        p.gradient_fn = gradient_fn\n",
    "        p.parents = {self, other}\n",
    "        return p\n",
    "\n",
    "    def __sub__(self, other):\n",
    "        p = Tensor(self.data - other.data)\n",
    "\n",
    "        def gradient_fn():\n",
    "            self.grad = p.grad\n",
    "            other.grad = -p.grad\n",
    "\n",
    "        p.gradient_fn = gradient_fn\n",
    "        p.parents = {self, other}\n",
    "        return p\n",
    "\n",
    "    def __mul__(self, other):\n",
    "        p = Tensor(self.data * other.data)\n",
    "\n",
    "        def gradient_fn():\n",
    "            self.grad = p.grad * other.data\n",
    "            other.grad = p.grad * self.data\n",
    "\n",
    "        p.gradient_fn = gradient_fn\n",
    "        p.parents = {self, other}\n",
    "        return p\n",
    "\n",
    "    def __truediv__(self, other):\n",
    "        p = Tensor(self.data / other.data)\n",
    "\n",
    "        def gradient_fn():\n",
    "            self.grad = p.grad / other.data\n",
    "            other.grad = -p.grad * self.data / (other.data ** 2)\n",
    "\n",
    "        p.gradient_fn = gradient_fn\n",
    "        p.parents = {self, other}\n",
    "        return p\n",
    "\n",
    "    def __matmul__(self, other):\n",
    "        p = Tensor(np.matmul(self.data, other.data))\n",
    "\n",
    "        def gradient_fn():\n",
    "            self.grad = np.matmul(p.grad, other.data.swapaxes(-1, -2))\n",
    "            other.grad = np.matmul(self.data.swapaxes(-1, -2), p.grad)\n",
    "\n",
    "        p.gradient_fn = gradient_fn\n",
    "        p.parents = {self, other}\n",
    "        return p\n",
    "\n",
    "    def transpose(self, axes=None):\n",
    "        p = Tensor(np.transpose(self.data, axes))\n",
    "\n",
    "        def gradient_fn():\n",
    "            if axes is None:\n",
    "                self.grad = np.transpose(p.grad)\n",
    "            else:\n",
    "                idx = np.argsort(axes)\n",
    "                self.grad = np.transpose(p.grad, idx)\n",
    "\n",
    "        p.gradient_fn = gradient_fn\n",
    "        p.parents = {self}\n",
    "        return p\n",
    "\n",
    "    @property\n",
    "    def T(self):\n",
    "        return self.transpose()\n",
    "\n",
    "    def concat(self, other, axis):\n",
    "        p = Tensor(np.concatenate([self.data, other.data], axis=axis))\n",
    "\n",
    "        def gradient_fn():\n",
    "            self.grad, other.grad = np.split(p.grad, [self.data.shape[axis]], axis=axis)\n",
    "\n",
    "        p.gradient_fn = gradient_fn\n",
    "        p.parents = {self, other}\n",
    "        return p\n",
    "\n",
    "    def reshape(self, shape):\n",
    "        p = Tensor(np.reshape(self.data, shape))\n",
    "\n",
    "        def gradient_fn():\n",
    "            self.grad = np.reshape(p.grad, self.data.shape)\n",
    "\n",
    "        p.gradient_fn = gradient_fn\n",
    "        p.parents = {self}\n",
    "        return p"
   ],
   "id": "203388d0b856a74d",
   "outputs": [],
   "execution_count": 2
  },
  {
   "metadata": {
    "ExecuteTime": {
     "end_time": "2025-09-07T20:19:20.750376Z",
     "start_time": "2025-09-07T20:19:20.740143Z"
    }
   },
   "cell_type": "code",
   "source": [
    "class DataLoader:\n",
    "\n",
    "    def __init__(self, filename, batch_size, stride):\n",
    "        self.filename = filename\n",
    "        self.batch_size = batch_size\n",
    "        self.stride = stride\n",
    "\n",
    "        with open(self.filename, 'r', encoding='utf-8') as f:\n",
    "            self.text = f.read().lower()\n",
    "\n",
    "        self.vocabulary = sorted(set(self.split_text(self.text)))\n",
    "        self.vocabulary.extend(['<|eos|>', '<|unk|>'])\n",
    "        self.word2index = {word: index for index, word in enumerate(self.vocabulary)}\n",
    "        self.index2word = {index: word for index, word in enumerate(self.vocabulary)}\n",
    "        self.tokens = self.encode(self.text)\n",
    "\n",
    "        self.train()\n",
    "\n",
    "    @staticmethod\n",
    "    def split_text(text):\n",
    "        words = re.split(r'([,.:;?_!\"()\\']|\\s)', text.lower())\n",
    "        return [t.strip() for t in words if t.strip()]\n",
    "\n",
    "    def train(self):\n",
    "        self.features = []\n",
    "        self.labels = []\n",
    "        for i in range(0, len(self.tokens) * 9 // 10 - self.batch_size,\n",
    "                       self.stride):\n",
    "            self.features.append(self.tokens[i: i + self.batch_size])\n",
    "            self.labels.append(self.tokens[i + 1: i + self.batch_size + 1])\n",
    "\n",
    "    def eval(self):\n",
    "        self.features = []\n",
    "        self.labels = []\n",
    "        for i in range(len(self.tokens) * 9 // 10 - self.batch_size + 1,\n",
    "                       len(self.tokens) - self.batch_size,\n",
    "                       self.stride):\n",
    "            self.features.append(self.tokens[i: i + self.batch_size])\n",
    "            self.labels.append(self.tokens[i + 1: i + self.batch_size + 1])\n",
    "\n",
    "    def __len__(self):\n",
    "        return len(self.features)\n",
    "\n",
    "    def __getitem__(self, index):\n",
    "        return self.features[index], self.labels[index]\n",
    "\n",
    "    def encode(self, text):\n",
    "        words = self.split_text(text)\n",
    "        words = [word if word in self.word2index else '<|unk|>' for word in words]\n",
    "        return [self.word2index[word] for word in words]\n",
    "\n",
    "    def decode(self, tokens):\n",
    "        text = \" \".join([self.index2word[index] for index in tokens])\n",
    "        return re.sub(r'\\s+([,.:;?_!\"()\\'])', r'\\1', text)"
   ],
   "id": "e9aa5d4f37cbfad0",
   "outputs": [],
   "execution_count": 3
  },
  {
   "metadata": {
    "ExecuteTime": {
     "end_time": "2025-09-07T20:19:20.798389Z",
     "start_time": "2025-09-07T20:19:20.794654Z"
    }
   },
   "cell_type": "code",
   "source": [
    "class Layer(ABC):\n",
    "\n",
    "    def __init__(self):\n",
    "        self.training = True\n",
    "\n",
    "    def __call__(self, *args):\n",
    "        return self.forward(*args)\n",
    "\n",
    "    @abstractmethod\n",
    "    def forward(self, *args):\n",
    "        pass\n",
    "\n",
    "    def parameters(self):\n",
    "        return []\n",
    "\n",
    "    def train(self):\n",
    "        self.training = True\n",
    "\n",
    "    def eval(self):\n",
    "        self.training = False"
   ],
   "id": "7768b809ee353761",
   "outputs": [],
   "execution_count": 4
  },
  {
   "metadata": {
    "ExecuteTime": {
     "end_time": "2025-09-07T20:19:20.851333Z",
     "start_time": "2025-09-07T20:19:20.843885Z"
    }
   },
   "cell_type": "code",
   "source": [
    "class Linear(Layer):\n",
    "\n",
    "    def __init__(self, in_size, out_size):\n",
    "        super().__init__()\n",
    "        self.in_size = in_size\n",
    "        self.out_size = out_size\n",
    "\n",
    "        self.weight = Tensor(np.random.rand(out_size, in_size) / in_size)\n",
    "        self.bias = Tensor(np.zeros(out_size))\n",
    "\n",
    "    def forward(self, x: Tensor):\n",
    "        p = Tensor(x.data @ self.weight.data.T + self.bias.data)\n",
    "\n",
    "        def gradient_fn():\n",
    "            self.weight.grad = p.grad.T @ x.data\n",
    "            self.bias.grad = np.sum(p.grad, axis=0)\n",
    "            x.grad = p.grad @ self.weight.data\n",
    "\n",
    "        p.gradient_fn = gradient_fn\n",
    "        p.parents = {self.weight, self.bias, x}\n",
    "        return p\n",
    "\n",
    "    def parameters(self):\n",
    "        return [self.weight, self.bias]"
   ],
   "id": "75dd8507fe7eab98",
   "outputs": [],
   "execution_count": 5
  },
  {
   "metadata": {
    "ExecuteTime": {
     "end_time": "2025-09-07T20:19:20.902357Z",
     "start_time": "2025-09-07T20:19:20.895756Z"
    }
   },
   "cell_type": "code",
   "source": [
    "class Embedding(Layer):\n",
    "\n",
    "    def __init__(self, vocabulary_size, embedding_size, axis=None):\n",
    "        super().__init__()\n",
    "        self.vocabulary_size = vocabulary_size\n",
    "        self.embedding_size = embedding_size\n",
    "        self.axis = axis\n",
    "\n",
    "        self.weight = Tensor(np.random.rand(embedding_size, vocabulary_size) / vocabulary_size)\n",
    "\n",
    "    def forward(self, x: Tensor):\n",
    "        weights = self.weight.data.T[x.data]\n",
    "        p = Tensor(np.sum(weights, axis=self.axis) if self.axis is not None else weights)\n",
    "\n",
    "        def gradient_fn():\n",
    "            if self.weight.grad is None:\n",
    "                self.weight.grad = np.zeros_like(self.weight.data)\n",
    "            self.weight.grad.T[x.data] += p.grad\n",
    "\n",
    "        p.gradient_fn = gradient_fn\n",
    "        p.parents = {self.weight}\n",
    "        return p\n",
    "\n",
    "    def parameters(self):\n",
    "        return [self.weight]"
   ],
   "id": "8771f74564ed9fc",
   "outputs": [],
   "execution_count": 6
  },
  {
   "metadata": {
    "ExecuteTime": {
     "end_time": "2025-09-07T20:19:20.965828Z",
     "start_time": "2025-09-07T20:19:20.957739Z"
    }
   },
   "cell_type": "code",
   "source": [
    "class Triu(Layer):\n",
    "\n",
    "    def __init__(self, value=-np.inf):\n",
    "        super().__init__()\n",
    "        self.value = value\n",
    "\n",
    "    def forward(self, x: Tensor):\n",
    "        if not self.training:\n",
    "            return x\n",
    "\n",
    "        axes = list(range(x.data.ndim))\n",
    "        axes[-2], axes[-1] = axes[-1], axes[-2]\n",
    "        mask = np.triu(np.ones(x.data.shape)).transpose(axes)\n",
    "        p = Tensor(x.data)\n",
    "        p.data[mask == 0] = self.value\n",
    "\n",
    "        def gradient_fn():\n",
    "            x.grad = p.grad * mask\n",
    "\n",
    "        p.gradient_fn = gradient_fn\n",
    "        p.parents = {x}\n",
    "        return p"
   ],
   "id": "95afa13de11f2cb1",
   "outputs": [],
   "execution_count": 7
  },
  {
   "metadata": {
    "ExecuteTime": {
     "end_time": "2025-09-07T20:19:21.026463Z",
     "start_time": "2025-09-07T20:19:21.016930Z"
    }
   },
   "cell_type": "code",
   "source": [
    "class Softmax(Layer):\n",
    "\n",
    "    def __init__(self, axis=-1):\n",
    "        super().__init__()\n",
    "        self.axis = axis\n",
    "\n",
    "    def forward(self, x: Tensor):\n",
    "        exp = np.exp(x.data - np.max(x.data, axis=self.axis, keepdims=True))\n",
    "        p = Tensor(exp / np.sum(exp, axis=self.axis, keepdims=True))\n",
    "\n",
    "        def gradient_fn():\n",
    "            x.grad = np.zeros_like(x.data)\n",
    "\n",
    "            shape = x.data.shape\n",
    "            axis = self.axis if self.axis >= 0 else len(shape) + self.axis\n",
    "            shapes = list(shape)\n",
    "            shapes.pop(axis)\n",
    "\n",
    "            for idx in np.ndindex(tuple(shapes)):\n",
    "                indices = list(idx)\n",
    "                indices.insert(axis, slice(None))\n",
    "                indices = tuple(indices)\n",
    "\n",
    "                probs = p.data[indices]\n",
    "                grad = p.grad[indices]\n",
    "\n",
    "                probs_col = probs.reshape(-1, 1)\n",
    "                jacobian = np.diagflat(probs) - probs_col @ probs_col.T\n",
    "                x.grad[indices] = jacobian @ grad\n",
    "\n",
    "        p.gradient_fn = gradient_fn\n",
    "        p.parents = {x}\n",
    "        return p"
   ],
   "id": "ae2de531f6c1b0b7",
   "outputs": [],
   "execution_count": 8
  },
  {
   "metadata": {
    "ExecuteTime": {
     "end_time": "2025-09-07T20:19:21.096302Z",
     "start_time": "2025-09-07T20:19:21.089601Z"
    }
   },
   "cell_type": "code",
   "source": [
    "class GPTEmbedding(Layer):\n",
    "\n",
    "    def __init__(self, vocabulary_size, context_size, embedding_size):\n",
    "        super().__init__()\n",
    "        self.vocabulary_size = vocabulary_size\n",
    "        self.context_size = context_size\n",
    "        self.embedding_size = embedding_size\n",
    "\n",
    "        self.token_embedding = Embedding(self.vocabulary_size, self.embedding_size)\n",
    "        self.positional_embedding = Embedding(self.context_size, self.embedding_size)\n",
    "\n",
    "    def forward(self, x: Tensor):\n",
    "        token = self.token_embedding(x)\n",
    "        position = self.positional_embedding(Tensor(range(self.context_size)))\n",
    "        return token + position"
   ],
   "id": "efbe6585b4b8c4de",
   "outputs": [],
   "execution_count": 9
  },
  {
   "metadata": {
    "ExecuteTime": {
     "end_time": "2025-09-07T20:19:21.149304Z",
     "start_time": "2025-09-07T20:19:21.141174Z"
    }
   },
   "cell_type": "code",
   "source": [
    "class GPTAttention(Layer):\n",
    "\n",
    "    def __init__(self, context_size, embedding_size, heads=1):\n",
    "        super().__init__()\n",
    "        self.context_size = context_size\n",
    "        self.embedding_size = embedding_size\n",
    "        self.heads = heads\n",
    "\n",
    "        self.attention_query = Linear(self.embedding_size, self.embedding_size * self.heads)\n",
    "        self.attention_key = Linear(self.embedding_size, self.embedding_size * self.heads)\n",
    "        self.attention_value = Linear(self.embedding_size, self.embedding_size * self.heads)\n",
    "        self.triu = Triu(self.context_size)\n",
    "        self.softmax = Softmax()\n",
    "\n",
    "    def forward(self, x: Tensor):\n",
    "        query = self.attention_query(x).reshape((-1, self.heads, self.embedding_size))\n",
    "        key = self.attention_key(x).reshape((-1, self.heads, self.embedding_size))\n",
    "        value = self.attention_value(x).reshape((-1, self.heads, self.embedding_size))\n",
    "\n",
    "        scores = self.triu(query @ key.transpose((0, 2, 1)))\n",
    "        weights = self.softmax(scores)\n",
    "        return (weights @ value).transpose((1, 0, 2))"
   ],
   "id": "e5aaa4085dd670c8",
   "outputs": [],
   "execution_count": 10
  },
  {
   "metadata": {
    "ExecuteTime": {
     "end_time": "2025-09-07T20:19:21.200599Z",
     "start_time": "2025-09-07T20:19:21.194615Z"
    }
   },
   "cell_type": "code",
   "source": [
    "class GPT(Layer):\n",
    "\n",
    "    def __init__(self, vocabulary_size, context_size, embedding_size, heads=1):\n",
    "        super().__init__()\n",
    "        self.vocabulary_size = vocabulary_size\n",
    "        self.context_size = context_size\n",
    "        self.embedding_size = embedding_size\n",
    "        self.heads = heads\n",
    "\n",
    "        self.embedding = GPTEmbedding(self.vocabulary_size, self.context_size, self.embedding_size)\n",
    "        self.attention = GPTAttention(self.context_size, self.embedding_size, self.heads)\n",
    "\n",
    "    def forward(self, x: Tensor):\n",
    "        x = self.embedding(x)\n",
    "        return self.attention(x)"
   ],
   "id": "b8d890d059a2646",
   "outputs": [],
   "execution_count": 11
  },
  {
   "metadata": {
    "ExecuteTime": {
     "end_time": "2025-09-07T20:19:21.254872Z",
     "start_time": "2025-09-07T20:19:21.250006Z"
    }
   },
   "cell_type": "code",
   "source": [
    "CONTEXT_SIZE = 4\n",
    "EMBEDDING_SIZE = 3\n",
    "HEADS = 2"
   ],
   "id": "19132a5ce83328be",
   "outputs": [],
   "execution_count": 12
  },
  {
   "metadata": {
    "ExecuteTime": {
     "end_time": "2025-09-07T20:19:21.320136Z",
     "start_time": "2025-09-07T20:19:21.303884Z"
    }
   },
   "cell_type": "code",
   "source": [
    "dataset = DataLoader('../one-day.txt', CONTEXT_SIZE, 1)\n",
    "\n",
    "model = GPT(len(dataset.vocabulary), CONTEXT_SIZE, EMBEDDING_SIZE, HEADS)\n",
    "\n",
    "feature, label = dataset[0]\n",
    "prediction = model(Tensor(feature))\n",
    "\n",
    "print(\"Context vectors: \", prediction.data)"
   ],
   "id": "ee180657c344975c",
   "outputs": [
    {
     "name": "stdout",
     "output_type": "stream",
     "text": [
      "Context vectors:  [[[0.10125304 0.11971691 0.06965084]\n",
      "  [0.06075372 0.09174592 0.06313319]\n",
      "  [0.1202077  0.15099832 0.09245373]\n",
      "  [0.05388029 0.07651082 0.05251951]]\n",
      "\n",
      " [[0.08226391 0.0828115  0.0959752 ]\n",
      "  [0.06571654 0.07451565 0.08192564]\n",
      "  [0.10493686 0.10939467 0.12480912]\n",
      "  [0.05406869 0.06022686 0.06649042]]]\n"
     ]
    }
   ],
   "execution_count": 13
  }
 ],
 "metadata": {
  "kernelspec": {
   "display_name": "Python 3",
   "language": "python",
   "name": "python3"
  },
  "language_info": {
   "codemirror_mode": {
    "name": "ipython",
    "version": 2
   },
   "file_extension": ".py",
   "mimetype": "text/x-python",
   "name": "python",
   "nbconvert_exporter": "python",
   "pygments_lexer": "ipython2",
   "version": "2.7.6"
  }
 },
 "nbformat": 4,
 "nbformat_minor": 5
}
