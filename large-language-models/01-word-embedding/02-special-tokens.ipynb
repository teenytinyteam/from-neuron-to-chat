{
 "cells": [
  {
   "metadata": {
    "collapsed": true
   },
   "cell_type": "markdown",
   "source": "# Special Tokens",
   "id": "67076bfc365b51e4"
  },
  {
   "metadata": {
    "ExecuteTime": {
     "end_time": "2025-09-07T14:40:28.629337Z",
     "start_time": "2025-09-07T14:40:28.625566Z"
    }
   },
   "cell_type": "code",
   "source": "import re",
   "id": "9d4386aa25b3429e",
   "outputs": [],
   "execution_count": 1
  },
  {
   "metadata": {
    "ExecuteTime": {
     "end_time": "2025-09-07T14:40:28.681148Z",
     "start_time": "2025-09-07T14:40:28.675064Z"
    }
   },
   "cell_type": "code",
   "source": [
    "class DataLoader:\n",
    "\n",
    "    def __init__(self, filename):\n",
    "        self.filename = filename\n",
    "\n",
    "        with open(self.filename, 'r', encoding='utf-8') as f:\n",
    "            self.text = f.read().lower()\n",
    "\n",
    "        self.vocabulary = sorted(set(self.split_text(self.text)))\n",
    "        self.vocabulary.extend(['<|eos|>', '<|unk|>'])\n",
    "        self.word2index = {word: index for index, word in enumerate(self.vocabulary)}\n",
    "        self.index2word = {index: word for index, word in enumerate(self.vocabulary)}\n",
    "\n",
    "    @staticmethod\n",
    "    def split_text(text):\n",
    "        words = re.split(r'([,.:;?_!\"()\\']|\\s)', text.lower())\n",
    "        return [t.strip() for t in words if t.strip()]\n",
    "\n",
    "    def encode(self, text):\n",
    "        words = self.split_text(text)\n",
    "        words = [word if word in self.word2index else '<|unk|>' for word in words]\n",
    "        return [self.word2index[word] for word in words]\n",
    "\n",
    "    def decode(self, tokens):\n",
    "        text = \" \".join([self.index2word[index] for index in tokens])\n",
    "        return re.sub(r'\\s+([,.:;?_!\"()\\'])', r'\\1', text)"
   ],
   "id": "e97a1f6b34b471bc",
   "outputs": [],
   "execution_count": 2
  },
  {
   "metadata": {
    "ExecuteTime": {
     "end_time": "2025-09-07T14:40:28.737468Z",
     "start_time": "2025-09-07T14:40:28.729389Z"
    }
   },
   "cell_type": "code",
   "source": [
    "dataset = DataLoader('../one-day.txt')\n",
    "\n",
    "sentences = ['\"Be careful,\" his mother says quickly.',\n",
    "             '\"I will,\" Tom replies.']\n",
    "ids = dataset.encode(' <|eos|> '.join(sentences))\n",
    "\n",
    "print('Text: ', sentences)\n",
    "print('Encode: ', ids)\n",
    "print('Decode: ', dataset.decode(ids))"
   ],
   "id": "df0a1819cbf6333",
   "outputs": [
    {
     "name": "stdout",
     "output_type": "stream",
     "text": [
      "Text:  ['\"Be careful,\" his mother says quickly.', '\"I will,\" Tom replies.']\n",
      "Encode:  [0, 27, 47, 2, 0, 108, 138, 188, 266, 3, 265, 0, 112, 257, 2, 0, 238, 175, 3]\n",
      "Decode:  \" be careful,\" his mother says <|unk|>. <|eos|>\" i will,\" tom replies.\n"
     ]
    }
   ],
   "execution_count": 3
  }
 ],
 "metadata": {
  "kernelspec": {
   "display_name": "Python 3",
   "language": "python",
   "name": "python3"
  },
  "language_info": {
   "codemirror_mode": {
    "name": "ipython",
    "version": 2
   },
   "file_extension": ".py",
   "mimetype": "text/x-python",
   "name": "python",
   "nbconvert_exporter": "python",
   "pygments_lexer": "ipython2",
   "version": "2.7.6"
  }
 },
 "nbformat": 4,
 "nbformat_minor": 5
}
