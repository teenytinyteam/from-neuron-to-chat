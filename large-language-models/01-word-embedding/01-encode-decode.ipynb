{
 "cells": [
  {
   "metadata": {
    "collapsed": true
   },
   "cell_type": "markdown",
   "source": "# Encode & Decode",
   "id": "7e37e43b2d9794f4"
  },
  {
   "metadata": {
    "ExecuteTime": {
     "end_time": "2025-09-07T14:38:58.495976Z",
     "start_time": "2025-09-07T14:38:58.491535Z"
    }
   },
   "cell_type": "code",
   "source": "import re",
   "id": "5f4930450a840a21",
   "outputs": [],
   "execution_count": 1
  },
  {
   "metadata": {
    "ExecuteTime": {
     "end_time": "2025-09-07T14:38:58.575434Z",
     "start_time": "2025-09-07T14:38:58.567479Z"
    }
   },
   "cell_type": "code",
   "source": [
    "class DataLoader:\n",
    "\n",
    "    def __init__(self, filename):\n",
    "        self.filename = filename\n",
    "\n",
    "        with open(self.filename, 'r', encoding='utf-8') as f:\n",
    "            self.text = f.read().lower()\n",
    "\n",
    "        self.vocabulary = sorted(set(self.split_text(self.text)))\n",
    "        self.word2index = {word: index for index, word in enumerate(self.vocabulary)}\n",
    "        self.index2word = {index: word for index, word in enumerate(self.vocabulary)}\n",
    "\n",
    "    @staticmethod\n",
    "    def split_text(text):\n",
    "        words = re.split(r'([,.:;?_!\"()\\']|\\s)', text.lower())\n",
    "        return [t.strip() for t in words if t.strip()]\n",
    "\n",
    "    def encode(self, text):\n",
    "        words = self.split_text(text)\n",
    "        return [self.word2index[word] for word in words]\n",
    "\n",
    "    def decode(self, tokens):\n",
    "        text = \" \".join([self.index2word[index] for index in tokens])\n",
    "        return re.sub(r'\\s+([,.:;?_!\"()\\'])', r'\\1', text)"
   ],
   "id": "602fff0e51cc5e88",
   "outputs": [],
   "execution_count": 2
  },
  {
   "metadata": {
    "ExecuteTime": {
     "end_time": "2025-09-07T14:38:58.630413Z",
     "start_time": "2025-09-07T14:38:58.623405Z"
    }
   },
   "cell_type": "code",
   "source": [
    "dataset = DataLoader('../one-day.txt')\n",
    "\n",
    "print('Total number of character: ', len(dataset.text))\n",
    "print('Word to Index: ', dataset.word2index)\n",
    "\n",
    "sentence = '\"Be careful,\" his mother says.'\n",
    "ids = dataset.encode(sentence)\n",
    "\n",
    "print('Text: ', sentence)\n",
    "print('Encode: ', ids)\n",
    "print('Decode: ', dataset.decode(ids))"
   ],
   "id": "1d2015318c28a97",
   "outputs": [
    {
     "name": "stdout",
     "output_type": "stream",
     "text": [
      "Total number of character:  3352\n",
      "Word to Index:  {'\"': 0, \"'\": 1, ',': 2, '.': 3, ':': 4, 'a': 5, 'about': 6, 'above': 7, 'across': 8, 'adventure': 9, 'after': 10, 'air': 11, 'along': 12, 'also': 13, 'an': 14, 'and': 15, 'ants': 16, 'apple': 17, 'are': 18, 'around': 19, 'as': 20, 'asleep': 21, 'at': 22, 'away': 23, 'back': 24, 'backpack': 25, 'bath': 26, 'be': 27, 'bed': 28, 'bees': 29, 'begins': 30, 'berries': 31, 'big': 32, 'birds': 33, 'bloom': 34, 'blue': 35, 'both': 36, 'bottle': 37, 'boy': 38, 'branches': 39, 'breakfast': 40, 'brings': 41, 'brushes': 42, 'butterfly': 43, 'buzz': 44, 'by': 45, 'calm': 46, 'careful': 47, 'carefully': 48, 'ceiling': 49, 'chirp': 50, 'clear': 51, 'climbs': 52, 'closes': 53, 'combs': 54, 'continues': 55, 'cookie': 56, 'cool': 57, 'dark': 58, 'day': 59, 'different': 60, 'dinner': 61, 'door': 62, 'down': 63, 'draws': 64, 'drinks': 65, 'eat': 66, 'eating': 67, 'eats': 68, 'eggs': 69, 'explorer': 70, 'eyes': 71, 'face': 72, 'falls': 73, 'fast': 74, 'faster': 75, 'father': 76, 'feels': 77, 'fish': 78, 'flowers': 79, 'flows': 80, 'flutters': 81, 'flying': 82, 'follows': 83, 'for': 84, 'fresh': 85, 'from': 86, 'gently': 87, 'gets': 88, 'glass': 89, 'go': 90, 'good': 91, 'grabs': 92, 'green': 93, 'ground': 94, 'grow': 95, 'had': 96, 'hair': 97, 'hands': 98, 'happy': 99, 'has': 100, 'have': 101, 'he': 102, 'heading': 103, 'hears': 104, 'hill': 105, 'hills': 106, 'him': 107, 'his': 108, 'home': 109, 'hooting': 110, 'hops': 111, 'i': 112, 'in': 113, 'inside': 114, 'into': 115, 'is': 116, 'it': 117, 'its': 118, 'journey': 119, 'kitchen': 120, 'kneels': 121, 'leads': 122, 'leaves': 123, 'lies': 124, 'life': 125, 'light': 126, 'lights': 127, 'listens': 128, 'longer': 129, 'looks': 130, 'm': 131, 'makes': 132, 'map': 133, 'marks': 134, 'milk': 135, 'mom': 136, 'morning': 137, 'mother': 138, 'named': 139, 'near': 140, 'new': 141, 'night': 142, 'notebook': 143, 'notes': 144, 'of': 145, 'off': 146, 'old': 147, 'on': 148, 'one': 149, 'opens': 150, 'orange': 151, 'others': 152, 'out': 153, 'outside': 154, 'over': 155, 'owls': 156, 'packs': 157, 'pajamas': 158, 'pants': 159, 'path': 160, 'peaceful': 161, 'pencil': 162, 'pictures': 163, 'pink': 164, 'place': 165, 'plants': 166, 'plate': 167, 'puts': 168, 'quite': 169, 'rabbit': 170, 'reached': 171, 'reaches': 172, 'ready': 173, 'red': 174, 'replies': 175, 'resting': 176, 'ripples': 177, 'rises': 178, 'river': 179, 'rock': 180, 'rocks': 181, 'running': 182, 'runs': 183, 'rustle': 184, 'rustling': 185, 's': 186, 'saw': 187, 'says': 188, 'sees': 189, 'serves': 190, 'set': 191, 'shadows': 192, 'she': 193, 'shine': 194, 'shirt': 195, 'shoes': 196, 'shows': 197, 'sides': 198, 'sing': 199, 'sits': 200, 'sky': 201, 'small': 202, 'smiles': 203, 'snack': 204, 'some': 205, 'sound': 206, 'sounds': 207, 'spot': 208, 'spread': 209, 'squirrel': 210, 'stand': 211, 'steps': 212, 'stone': 213, 'stops': 214, 'stream': 215, 'suddenly': 216, 'sun': 217, 'swimming': 218, 'table': 219, 'takes': 220, 'talk': 221, 'tall': 222, 'teeth': 223, 'tells': 224, 'thank': 225, 'the': 226, 'them': 227, 'then': 228, 'there': 229, 'they': 230, 'things': 231, 'thinks': 232, 'through': 233, 'throws': 234, 'to': 235, 'toast': 236, 'today': 237, 'tom': 238, 'top': 239, 'touches': 240, 'tree': 241, 'trees': 242, 'turns': 243, 'under': 244, 'up': 245, 'very': 246, 'wakes': 247, 'walks': 248, 'washes': 249, 'watches': 250, 'water': 251, 'way': 252, 'welcome': 253, 'while': 254, 'whispers': 255, 'wide': 256, 'will': 257, 'wind': 258, 'windows': 259, 'woods': 260, 'writes': 261, 'yes': 262, 'you': 263, 'young': 264}\n",
      "Text:  \"Be careful,\" his mother says.\n",
      "Encode:  [0, 27, 47, 2, 0, 108, 138, 188, 3]\n",
      "Decode:  \" be careful,\" his mother says.\n"
     ]
    }
   ],
   "execution_count": 3
  }
 ],
 "metadata": {
  "kernelspec": {
   "display_name": "Python 3",
   "language": "python",
   "name": "python3"
  },
  "language_info": {
   "codemirror_mode": {
    "name": "ipython",
    "version": 2
   },
   "file_extension": ".py",
   "mimetype": "text/x-python",
   "name": "python",
   "nbconvert_exporter": "python",
   "pygments_lexer": "ipython2",
   "version": "2.7.6"
  }
 },
 "nbformat": 4,
 "nbformat_minor": 5
}
